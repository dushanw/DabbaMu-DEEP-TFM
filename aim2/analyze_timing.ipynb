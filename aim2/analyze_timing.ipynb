{
 "cells": [
  {
   "cell_type": "code",
   "execution_count": 6,
   "metadata": {},
   "outputs": [
    {
     "name": "stdout",
     "output_type": "stream",
     "text": [
      "figs/mnistv15/H_init(uniformones_FourierBased)@H_weight_preprocess(ifft_2d_with_fftshift_real)@img_size(32)@T(4)@name(genv2)@channel_list(24_12_8_4_2)@upsample_net(custom_v1)@lambda_scale_factor(2)@name(mnistdigits) details\n",
      "\n",
      "figs/mnistv15/H_init(randn_FourierBased)@H_weight_preprocess(ifft_2d_with_fftshift_real)@img_size(64)@T(1)@name(genv2)@channel_list(24_12_8_4_2)@upsample_net(custom_v1)@lambda_scale_factor(1)@name(mnistdigits) details\n",
      "\n",
      "total number of exps : 746\n"
     ]
    }
   ],
   "source": [
    "import os, glob\n",
    "\n",
    "\n",
    "exp_set_dir = 'figs/mnistv15'\n",
    "\n",
    "exp_times= []\n",
    "count= 0\n",
    "for exp_dir in glob.glob(f'{exp_set_dir}/*'):\n",
    "    if not os.path.isdir(exp_dir):continue\n",
    "        \n",
    "    details_file_dir= f\"{exp_dir}/details.txt\"\n",
    "    if not os.path.isfile(details_file_dir):continue\n",
    "        \n",
    "    with open(details_file_dir, 'r') as f:\n",
    "        data = f.read()\n",
    "    try:\n",
    "        train_loop_time = data.split('\\n')[1]\n",
    "        val_loop_time = data.split('\\n')[2]\n",
    "\n",
    "        train_time = float(train_loop_time.split(' ')[-2])\n",
    "        val_time = float(val_loop_time.split(' ')[-2])    \n",
    "\n",
    "        exp_times += [[exp_dir.split('/')[-1], [train_time, val_time]]]\n",
    "        count+=1\n",
    "    except:\n",
    "        print(exp_dir,  data)\n",
    "print(f'total number of exps : {count}')\n"
   ]
  },
  {
   "cell_type": "code",
   "execution_count": 2,
   "metadata": {},
   "outputs": [
    {
     "data": {
      "text/plain": [
       "288"
      ]
     },
     "execution_count": 2,
     "metadata": {},
     "output_type": "execute_result"
    }
   ],
   "source": [
    "1152//4"
   ]
  },
  {
   "cell_type": "code",
   "execution_count": 3,
   "metadata": {},
   "outputs": [],
   "source": [
    "to_file= ''\n",
    "for exp, times in sorted(exp_times, key= lambda x:x[1][0], reverse= True):\n",
    "    to_file+=exp+f'{\"-\"*(256- len(exp))} train time: {times[0]}\\n'"
   ]
  },
  {
   "cell_type": "code",
   "execution_count": 4,
   "metadata": {},
   "outputs": [],
   "source": [
    "exp_set_name= exp_set_dir.replace('/', '_')\n",
    "\n",
    "with open(f'./timing_{exp_set_name}.txt', 'w') as f:\n",
    "    f.write(to_file)"
   ]
  },
  {
   "cell_type": "code",
   "execution_count": 5,
   "metadata": {},
   "outputs": [
    {
     "name": "stdout",
     "output_type": "stream",
     "text": [
      "number of total experiments : 288\n",
      "okay :  53\n",
      "not okay :  235\n"
     ]
    }
   ],
   "source": [
    "import sys\n",
    "sys.path.append('../')\n",
    "\n",
    "import shutil\n",
    "from train import run\n",
    "import os\n",
    "import itertools\n",
    "import glob\n",
    "\n",
    "def write_errormsg2file(msg, error_file_name):\n",
    "    if not os.path.isfile(error_file_name):\n",
    "        with open(error_file_name, 'w') as f:\n",
    "            f.write(f'error : {msg}\\n')\n",
    "    else:\n",
    "        with open(error_file_name, 'a') as f:\n",
    "            f.write(f'error : {msg}\\n')\n",
    "            \n",
    "def do_exps(exps_dict= None, general_opts= None, device= None, exp_dir = '../figs/test', save_special= False):    \n",
    "    exp_idx = 0\n",
    "    keys= list(exps.keys())\n",
    "    \n",
    "    val_list_list= []\n",
    "    key_list = [] #eg: 'MODEL.MODEL_A.rotation_lambda'\n",
    "    key_suffix_list= [] # eg: 'rotation_lambda'\n",
    "    \n",
    "    for key, val_list in exps_dict.items():\n",
    "        key_list.append(key)\n",
    "        key_suffix_list.append(key.split('.')[-1])\n",
    "        \n",
    "        val_list_list.append(val_list)\n",
    "        \n",
    "    attr_combination_list = [list(s) for s in itertools.product(*val_list_list)]\n",
    "    \n",
    "    print(f'number of total experiments : {len(attr_combination_list)}')\n",
    "    \n",
    "    count_okay=0\n",
    "    count_not_okay=0\n",
    "    for attr_combination in attr_combination_list:\n",
    "        save_dir = f'{exp_dir}/'\n",
    "        opts= []\n",
    "        for idx in range(len(attr_combination)):\n",
    "            opts += [key_list[idx], attr_combination[idx]]\n",
    "            attr= attr_combination[idx]\n",
    "            \n",
    "            #####\n",
    "            attr_is_list= False\n",
    "            try:attr_is_list = isinstance(eval(attr), list)\n",
    "            except:pass\n",
    "            if attr_is_list:\n",
    "                attr= '_'.join(list(map(str, eval(attr)))) ## [, ] should not be in the directory name because glob is sensitive to that !\n",
    "            #####\n",
    "            \n",
    "            save_dir+= f'{key_suffix_list[idx]}({attr})@'\n",
    "    \n",
    "        save_dir = save_dir[:-1] # remove last '@' \n",
    "\n",
    "        exp_idx+=1\n",
    "        opts_other= ['NAME', f'exp_idx({exp_idx})', \n",
    "                     'GENERAL.device', device, \n",
    "                     'GENERAL.save_dir', save_dir\n",
    "                    ]\n",
    "                     \n",
    "        opts_other+= general_opts\n",
    "\n",
    "        opts = opts_other + opts\n",
    "\n",
    "        \n",
    "        if len(glob.glob(f'{save_dir}/1_*.jpg'))!=0:\n",
    "            count_okay+=1\n",
    "            continue\n",
    "        \n",
    "        count_not_okay+=1\n",
    "        \n",
    "    print('okay : ',count_okay)\n",
    "    print('not okay : ',count_not_okay)\n",
    "    \n",
    "exp_dir= 'figs/mnistv15'\n",
    "\n",
    "\n",
    "device = 'cuda:0'\n",
    "\n",
    "exps = {\n",
    "    'MODEL.MODEL_H.H_init': ['randn_FourierBased', 'uniformones_FourierBased', 'hadamard_FourierBased'],\n",
    "    'MODEL.MODEL_H.H_weight_preprocess': ['ifft_2d_with_fftshift_real'],\n",
    "    \n",
    "    'DATASET.img_size':  ['32', '64'], \n",
    "    \n",
    "    'MODEL.MODEL_H.T': ['1','2','4', '8', '16', '32'],\n",
    "    \n",
    "    'MODEL.MODEL_DECODER.name': ['genv1', 'genv2'],\n",
    "    'MODEL.MODEL_DECODER.channel_list': ['[24, 12, 8, 4, 2]', '[32, 32, 24, 12, 8, 4, 2]'],\n",
    "    'MODEL.MODEL_DECODER.upsample_net': ['custom_v1'], #['bicubic_interp', 'learnable_transpose_conv', 'custom_v1'],\n",
    "    \n",
    "    'MODEL.MODEL_A.lambda_scale_factor': ['1'], #['1','2','3','4'],\n",
    "    \n",
    "    'DATASET.name': ['mnistdigits_grid2patch', 'mnistdigits']\n",
    "}\n",
    "\n",
    "\n",
    "general_opts= ['TRAIN.show_results_epoch', '1',\n",
    "               'TRAIN.epochs', '1']\n",
    "\n",
    "do_exps(exps, general_opts, device, exp_dir = exp_dir, save_special= False)"
   ]
  },
  {
   "cell_type": "code",
   "execution_count": null,
   "metadata": {},
   "outputs": [],
   "source": []
  }
 ],
 "metadata": {
  "kernelspec": {
   "display_name": "deepTFM",
   "language": "python",
   "name": "deeptfm"
  },
  "language_info": {
   "codemirror_mode": {
    "name": "ipython",
    "version": 3
   },
   "file_extension": ".py",
   "mimetype": "text/x-python",
   "name": "python",
   "nbconvert_exporter": "python",
   "pygments_lexer": "ipython3",
   "version": "3.6.12"
  }
 },
 "nbformat": 4,
 "nbformat_minor": 4
}
