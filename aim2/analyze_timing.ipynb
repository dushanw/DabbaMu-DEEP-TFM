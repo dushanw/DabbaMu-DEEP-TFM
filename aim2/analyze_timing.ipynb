{
 "cells": [
  {
   "cell_type": "code",
   "execution_count": 4,
   "metadata": {},
   "outputs": [
    {
     "name": "stdout",
     "output_type": "stream",
     "text": [
      "figs/mnistv14/H_init(randn_FourierBased)@H_weight_preprocess(ifft_2d_with_fftshift_real)@img_size(32)@T(16)@name(genv2)@channel_list(32_32_24_12_8_4_2)@upsample_net(bicubic_interp)@lambda_scale_factor(3)@name(mnistdigits) details\n",
      "\n",
      "figs/mnistv14/H_init(randn_FourierBased)@H_weight_preprocess(ifft_2d_with_fftshift_real)@img_size(32)@T(16)@name(genv2)@channel_list(24_12_8_4_2)@upsample_net(learnable_transpose_conv)@lambda_scale_factor(4)@name(mnistdigits) details\n",
      "\n",
      "figs/mnistv14/H_init(randn_FourierBased)@H_weight_preprocess(ifft_2d_with_fftshift_real)@img_size(32)@T(32)@name(genv2)@channel_list(24_12_8_4_2)@upsample_net(bicubic_interp)@lambda_scale_factor(1)@name(mnistdigits) details\n",
      "\n"
     ]
    }
   ],
   "source": [
    "import os, glob\n",
    "\n",
    "\n",
    "exp_set_dir = 'figs/mnistv14'\n",
    "\n",
    "exp_times= []\n",
    "for exp_dir in glob.glob(f'{exp_set_dir}/*'):\n",
    "    if not os.path.isdir(exp_dir):continue\n",
    "        \n",
    "    details_file_dir= f\"{exp_dir}/details.txt\"\n",
    "    if not os.path.isfile(details_file_dir):continue\n",
    "        \n",
    "    with open(details_file_dir, 'r') as f:\n",
    "        data = f.read()\n",
    "    try:\n",
    "        train_loop_time = data.split('\\n')[1]\n",
    "        val_loop_time = data.split('\\n')[2]\n",
    "\n",
    "        train_time = float(train_loop_time.split(' ')[-2])\n",
    "        val_time = float(val_loop_time.split(' ')[-2])    \n",
    "\n",
    "        exp_times += [[exp_dir.split('/')[-1], [train_time, val_time]]]\n",
    "    except:\n",
    "        print(exp_dir,  data)\n"
   ]
  },
  {
   "cell_type": "code",
   "execution_count": 11,
   "metadata": {},
   "outputs": [],
   "source": [
    "to_file= ''\n",
    "for exp, times in sorted(exp_times, key= lambda x:x[1][0], reverse= True):\n",
    "    to_file+=exp+f'{\"-\"*(256- len(exp))} train time: {times[0]}\\n'"
   ]
  },
  {
   "cell_type": "code",
   "execution_count": 13,
   "metadata": {},
   "outputs": [],
   "source": [
    "with open('./timing.txt', 'w') as f:\n",
    "    f.write(to_file)"
   ]
  },
  {
   "cell_type": "code",
   "execution_count": null,
   "metadata": {},
   "outputs": [],
   "source": []
  }
 ],
 "metadata": {
  "kernelspec": {
   "display_name": "Python 3",
   "language": "python",
   "name": "python3"
  },
  "language_info": {
   "codemirror_mode": {
    "name": "ipython",
    "version": 3
   },
   "file_extension": ".py",
   "mimetype": "text/x-python",
   "name": "python",
   "nbconvert_exporter": "python",
   "pygments_lexer": "ipython3",
   "version": "3.8.5"
  }
 },
 "nbformat": 4,
 "nbformat_minor": 4
}
