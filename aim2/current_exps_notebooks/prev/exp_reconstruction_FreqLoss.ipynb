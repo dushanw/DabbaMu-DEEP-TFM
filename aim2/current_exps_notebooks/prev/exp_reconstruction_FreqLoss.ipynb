{
 "cells": [
  {
   "cell_type": "code",
   "execution_count": 1,
   "metadata": {},
   "outputs": [],
   "source": [
    "%load_ext autoreload\n",
    "%autoreload 2\n",
    "\n",
    "from main_reconstruction import safe_do_exps"
   ]
  },
  {
   "cell_type": "code",
   "execution_count": 2,
   "metadata": {},
   "outputs": [],
   "source": [
    "name= 'vascularv2'\n",
    "\n",
    "exp_dir= f'../figs/{name}' #'/n/holylfs/LABS/wadduwage_lab/Lab/uom_Udith/results/aim2/figs'\n",
    "save_dir_special_root = None #'/n/holylfs/LABS/wadduwage_lab/Lab/uom_Udith/results/aim2/figs'\n",
    "\n",
    "#!rm -rf $exp_dir\n",
    "#!mkdir $exp_dir\n",
    "\n",
    "#!rm -rf $save_dir_special_root\n",
    "#!mkdir $save_dir_special_root"
   ]
  },
  {
   "cell_type": "code",
   "execution_count": null,
   "metadata": {},
   "outputs": [],
   "source": [
    "count_only = False\n",
    "\n",
    "device = 'cuda:0'\n",
    "\n",
    "exps = {\n",
    "        'DATASET.name': ['vascular_v1'], #['confocal'], #'mnistdigits_grid2patch'\n",
    "    \n",
    "        'MODEL.MODEL_A.rotation_lambda': ['10000.0'],\n",
    "        'MODEL.MODEL_A.lambda_scale_factor': ['5'], #'1', '2', '4', '6' \n",
    "        'MODEL.MODEL_H.T': ['4'], \n",
    "    \n",
    "        'MODEL.MODEL_H.lr_H': ['1.0'], #'1.0'\n",
    "    \n",
    "        'TRAIN.criterion': ['nn.L1Loss().to(device)', 'nn.MSELoss().to(device)', 'FocalFreqMSELoss().to(device)', 'FocalFreqL1Loss().to(device)'],\n",
    "    \n",
    "        'DATASET.img_size':  ['256'], #256\n",
    "        'DATASET.num_samples_train': ['3000']} #3000\n",
    "\n",
    "general_opts= ['TRAIN.show_results_epoch', '5', #5\n",
    "                'TRAIN.epochs', '150']  #150\n",
    "\n",
    "safe_do_exps(exps, general_opts, device, exp_dir = exp_dir, save_special= True, count_only= count_only, save_dir_special_root= save_dir_special_root)"
   ]
  },
  {
   "cell_type": "code",
   "execution_count": null,
   "metadata": {},
   "outputs": [],
   "source": []
  }
 ],
 "metadata": {
  "kernelspec": {
   "display_name": "deepTFM",
   "language": "python",
   "name": "deeptfm"
  },
  "language_info": {
   "codemirror_mode": {
    "name": "ipython",
    "version": 3
   },
   "file_extension": ".py",
   "mimetype": "text/x-python",
   "name": "python",
   "nbconvert_exporter": "python",
   "pygments_lexer": "ipython3",
   "version": "3.6.12"
  }
 },
 "nbformat": 4,
 "nbformat_minor": 4
}
