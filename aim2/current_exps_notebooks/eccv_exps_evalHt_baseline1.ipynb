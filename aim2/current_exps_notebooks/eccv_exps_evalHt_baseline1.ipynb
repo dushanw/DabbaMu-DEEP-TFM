{
 "cells": [
  {
   "cell_type": "code",
   "execution_count": 2,
   "metadata": {},
   "outputs": [],
   "source": [
    "%load_ext autoreload\n",
    "%autoreload 2\n",
    "\n",
    "from main_reconstruction import safe_do_exps"
   ]
  },
  {
   "cell_type": "code",
   "execution_count": 11,
   "metadata": {},
   "outputs": [
    {
     "name": "stdout",
     "output_type": "stream",
     "text": [
      "ERROR! Session/line number was not unique in database. History logging moved to new session 3754\n"
     ]
    }
   ],
   "source": [
    "name= 'bbbcHumanMCF7cellsW4_img64_baselines'\n",
    "\n",
    "exp_dir= f'../figs/{name}' #'/n/holylfs/LABS/wadduwage_lab/Lab/uom_Udith/results/aim2/figs'\n",
    "save_dir_special_root = f'../figs/{name}' #f'/n/holylfs/LABS/wadduwage_lab/Lab/uom_Udith/results/aim2/figs/{name}'\n",
    "\n",
    "!rm -rf $exp_dir\n",
    "!mkdir $exp_dir\n",
    "\n",
    "!rm -rf $save_dir_special_root\n",
    "!mkdir $save_dir_special_root"
   ]
  },
  {
   "cell_type": "code",
   "execution_count": null,
   "metadata": {},
   "outputs": [
    {
     "name": "stdout",
     "output_type": "stream",
     "text": [
      "after 6 epochs... yt_down range (test): [0.03825169801712036 6.961369037628174]\n",
      "training loop time (for epoch: 6): 8.062316417694092 sec\n",
      "validation loop time (for epoch: 6): 0.20913434028625488 sec\n",
      "\n",
      "\n",
      "m : 1\n"
     ]
    }
   ],
   "source": [
    "count_only = False\n",
    "\n",
    "device = 'cuda:0'\n",
    "\n",
    "\n",
    "for upsample_net, lr_H in [['custom_v2', '1.0'], ['learnable_transpose_conv', '0.0']]:\n",
    "    exps = {\n",
    "            'DATASET.name': ['bbbcHumanMCF7cellsW4'],\n",
    "\n",
    "            'MODEL.MODEL_A.rotation_lambda': ['10000.0'],\n",
    "            'MODEL.MODEL_A.lambda_scale_factor': ['3'],\n",
    "            'MODEL.MODEL_H.T': ['1'], \n",
    "            'MODEL.MODEL_H.lr_H': [lr_H],\n",
    "\n",
    "            'DATASET.img_size':  ['64'], #256\n",
    "            'DATASET.num_samples_train': ['3000'], #'10000-> 1400 sec/ epoch' , 3000-> 440 sec/ epoch (18.3hrs/ exp)  \n",
    "            'DATASET.num_samples_valtest': ['100'],\n",
    "            'DATASET.batch_size_train': ['150'],\n",
    "            'DATASET.batch_size_valtest': ['100'],\n",
    "        \n",
    "            'MODEL.MODEL_DECODER.upsample_net': [upsample_net],\n",
    "    }\n",
    "\n",
    "    general_opts= ['TRAIN.show_results_epoch', '5', #5\n",
    "                    'TRAIN.epochs', '150']  #150\n",
    "\n",
    "    safe_do_exps(exps, general_opts, device, exp_dir = exp_dir, save_special= True, count_only= count_only, save_dir_special_root= save_dir_special_root)"
   ]
  },
  {
   "cell_type": "code",
   "execution_count": null,
   "metadata": {},
   "outputs": [],
   "source": []
  },
  {
   "cell_type": "code",
   "execution_count": null,
   "metadata": {},
   "outputs": [],
   "source": []
  }
 ],
 "metadata": {
  "interpreter": {
   "hash": "c245a2e360dbb42312e38a2d32c9e2363c0490331dbfe238722d1a7e87cebc70"
  },
  "kernelspec": {
   "display_name": "deepTFM",
   "language": "python",
   "name": "deeptfm"
  },
  "language_info": {
   "codemirror_mode": {
    "name": "ipython",
    "version": 3
   },
   "file_extension": ".py",
   "mimetype": "text/x-python",
   "name": "python",
   "nbconvert_exporter": "python",
   "pygments_lexer": "ipython3",
   "version": "3.6.12"
  }
 },
 "nbformat": 4,
 "nbformat_minor": 4
}
