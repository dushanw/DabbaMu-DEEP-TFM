{
 "cells": [
  {
   "cell_type": "code",
   "execution_count": 1,
   "metadata": {},
   "outputs": [],
   "source": [
    "%load_ext autoreload\n",
    "%autoreload 2\n",
    "\n",
    "from main_reconstruction_swinIR_wforward import safe_do_exps"
   ]
  },
  {
   "cell_type": "code",
   "execution_count": 2,
   "metadata": {},
   "outputs": [],
   "source": [
    "name= 'bloodvesselsDeepTFM6sls_v3' #'bbbcHumanMCF7cellsW4_swinIR_v1_counter'\n",
    "\n",
    "exp_dir= f'../figs/{name}' #'/n/holylfs/LABS/wadduwage_lab/Lab/uom_Udith/results/aim2/figs'\n",
    "save_dir_special_root =  f'../figs/{name}'\n",
    "\n",
    "!rm -rf $exp_dir\n",
    "!mkdir $exp_dir\n",
    "\n",
    "!rm -rf $save_dir_special_root\n",
    "!mkdir $save_dir_special_root"
   ]
  },
  {
   "cell_type": "code",
   "execution_count": 3,
   "metadata": {},
   "outputs": [
    {
     "data": {
      "text/plain": [
       "'\\nexps: for lr_H= 0.0, 1.0\\n\\n1. T= 16, lambda_scale_factor= 1 ### restricted #patterns\\n2. T= 32, lambda_scale_factor= 3 ### with x16 downscaling\\n\\n'"
      ]
     },
     "execution_count": 3,
     "metadata": {},
     "output_type": "execute_result"
    }
   ],
   "source": [
    "'''\n",
    "exps: for lr_H= 0.0, 1.0\n",
    "\n",
    "1. T= 16, lambda_scale_factor= 1 ### restricted #patterns\n",
    "2. T= 32, lambda_scale_factor= 3 ### with x16 downscaling\n",
    "\n",
    "'''"
   ]
  },
  {
   "cell_type": "code",
   "execution_count": null,
   "metadata": {},
   "outputs": [],
   "source": [
    "count_only = False\n",
    "\n",
    "device = 'cuda:0'\n",
    "\n",
    "exps = {\n",
    "        'DATASET.name': ['bloodvesselsDeepTFM6sls'],\n",
    "    \n",
    "        'MODEL.MODEL_A.noise': ['False'],\n",
    "        'MODEL.MODEL_A.lambda_scale_factor': ['3'], # 1, 2\n",
    "        'MODEL.MODEL_H.T': ['32'],  # 32, 16\n",
    "        'MODEL.MODEL_H.lr_H': ['1.0'], #1.0, 0.0\n",
    "    \n",
    "        'DATASET.img_size':  ['256'], #256\n",
    "        'DATASET.num_samples_train': ['996'], #'10000'\n",
    "        'DATASET.num_samples_valtest': ['96'], #'10000'\n",
    "        'DATASET.batch_size_train': ['2'],\n",
    "        'DATASET.batch_size_valtest': ['2'],\n",
    "        \n",
    "}\n",
    "\n",
    "\n",
    "general_opts= ['MODEL.MODEL_A.sPSF', 'load_psf_from_npy(\"../psfs/psfs_bloodvesselsDeepTFM6sls_spsf.npy\")',\n",
    "               'MODEL.MODEL_A.exPSF', 'load_psf_from_npy(\"../psfs/psfs_bloodvesselsDeepTFM6sls_expsf.npy\")',\n",
    "               'MODEL.MODEL_A.emPSF', 'load_psf_from_npy(\"../psfs/psfs_bloodvesselsDeepTFM6sls_empsf.npy\")',\n",
    "               'TRAIN.show_results_epoch', '5', #5\n",
    "               'TRAIN.epochs', '150']  #150\n",
    "\n",
    "safe_do_exps(exps, general_opts, device, exp_dir = exp_dir, save_special= True, count_only= count_only, save_dir_special_root= save_dir_special_root)"
   ]
  },
  {
   "cell_type": "code",
   "execution_count": null,
   "metadata": {},
   "outputs": [],
   "source": []
  }
 ],
 "metadata": {
  "kernelspec": {
   "display_name": "deepTFM",
   "language": "python",
   "name": "deeptfm"
  },
  "language_info": {
   "codemirror_mode": {
    "name": "ipython",
    "version": 3
   },
   "file_extension": ".py",
   "mimetype": "text/x-python",
   "name": "python",
   "nbconvert_exporter": "python",
   "pygments_lexer": "ipython3",
   "version": "3.6.12"
  }
 },
 "nbformat": 4,
 "nbformat_minor": 4
}
