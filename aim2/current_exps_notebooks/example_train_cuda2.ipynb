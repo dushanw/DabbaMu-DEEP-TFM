{
 "cells": [
  {
   "cell_type": "code",
   "execution_count": 1,
   "metadata": {},
   "outputs": [],
   "source": [
    "%load_ext autoreload\n",
    "%autoreload 2\n"
   ]
  },
  {
   "cell_type": "code",
   "execution_count": 2,
   "metadata": {},
   "outputs": [],
   "source": [
    "import sys\n",
    "sys.path.append('../')\n",
    "\n",
    "import shutil\n",
    "from train import run\n",
    "import os\n",
    "\n",
    "def write_errormsg2file(msg, error_file_name):\n",
    "    if not os.path.isfile(error_file_name):\n",
    "        with open(error_file_name, 'w') as f:\n",
    "            f.write(f'error : {msg}\\n')\n",
    "    else:\n",
    "        with open(error_file_name, 'a') as f:\n",
    "            f.write(f'error : {msg}\\n')"
   ]
  },
  {
   "cell_type": "code",
   "execution_count": 3,
   "metadata": {},
   "outputs": [],
   "source": [
    "def do_exps(Ts, rotation_lambdas, lr_Hs, lambda_scale_factors, img_sizes, device, exp_dir = '../figs/test', save_special= False):\n",
    "    exp_idx=0\n",
    "    for img_size in img_sizes:\n",
    "        for T in Ts:\n",
    "            for rotation_lambda in rotation_lambdas:\n",
    "                for lr_H in lr_Hs:\n",
    "                    for lambda_scale_factor in lambda_scale_factors:\n",
    "\n",
    "                        exp_idx+=1\n",
    "\n",
    "                        name= f'exp_idx({exp_idx})'\n",
    "                        save_dir= f'{exp_dir}/img_size({img_size})@T({T})@rotation_lambda({rotation_lambda})@lr_H({lr_H})@lambda_scale_factor({lambda_scale_factor})'\n",
    "                        H_enable_train=str(lr_H!='0.0')\n",
    "\n",
    "                        try:shutil.rmtree(save_dir)\n",
    "                        except:pass\n",
    "\n",
    "                        opts = [\n",
    "                            'NAME', name,\n",
    "                            'GENERAL.device', device,\n",
    "                            'GENERAL.save_dir', save_dir,\n",
    "                            'MODEL.MODEL_H.T', T,\n",
    "                            'MODEL.MODEL_H.lr_H', lr_H,\n",
    "                            'MODEL.MODEL_H.enable_train', H_enable_train,\n",
    "                            'MODEL.MODEL_A.scale_factor', lambda_scale_factor,\n",
    "                            'MODEL.MODEL_A.rotation_lambda',rotation_lambda,\n",
    "                            'DATASET.img_size', img_size,\n",
    "                            \n",
    "                        ]\n",
    "                \n",
    "                                                \n",
    "                        try:\n",
    "                            run(opts= opts, save_special=save_special)\n",
    "                        except:\n",
    "                            error_file_name = f'{exp_dir}/errors.txt'\n",
    "                            write_errormsg2file(f'ERROR : {save_dir}', error_file_name)\n",
    "                            print(f'ERROR : {save_dir}')"
   ]
  },
  {
   "cell_type": "code",
   "execution_count": 5,
   "metadata": {},
   "outputs": [],
   "source": [
    "exp_dir= '../figs/mnistv9'"
   ]
  },
  {
   "cell_type": "code",
   "execution_count": null,
   "metadata": {},
   "outputs": [
    {
     "name": "stdout",
     "output_type": "stream",
     "text": [
      "yt range (train): [-0.0027821436524391174 1.0098984241485596]\n",
      "yt range (test): [-0.004589448682963848 1.0658700466156006]\n",
      "training loop time (for single epoch): 3.2347278594970703 sec\n",
      "m : 1\n",
      "yt range (train): [-0.0037079956382513046 1.0336692333221436]\n",
      "yt range (test): [-0.004047892056405544 1.0019859075546265]\n",
      "training loop time (for single epoch): 3.184467315673828 sec\n",
      "m : 1\n"
     ]
    }
   ],
   "source": [
    "device= 'cuda:1'\n",
    "\n",
    "Ts=['1', '2', '4', '8', '16', '32']\n",
    "rotation_lambdas= ['1000.0']\n",
    "lr_Hs= ['0.0'] # 0.0, 1.0\n",
    "img_sizes= ['64']\n",
    "lambda_scale_factors= ['1', '2', '3']\n",
    "\n",
    "do_exps(Ts, rotation_lambdas, lr_Hs, lambda_scale_factors, img_sizes, device, exp_dir = exp_dir, save_special= False)"
   ]
  },
  {
   "cell_type": "code",
   "execution_count": null,
   "metadata": {},
   "outputs": [],
   "source": []
  }
 ],
 "metadata": {
  "kernelspec": {
   "display_name": "deepTFM",
   "language": "python",
   "name": "deeptfm"
  },
  "language_info": {
   "codemirror_mode": {
    "name": "ipython",
    "version": 3
   },
   "file_extension": ".py",
   "mimetype": "text/x-python",
   "name": "python",
   "nbconvert_exporter": "python",
   "pygments_lexer": "ipython3",
   "version": "3.6.12"
  }
 },
 "nbformat": 4,
 "nbformat_minor": 4
}
