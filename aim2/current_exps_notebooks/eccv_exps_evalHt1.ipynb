{
 "cells": [
  {
   "cell_type": "code",
   "execution_count": 4,
   "metadata": {},
   "outputs": [
    {
     "name": "stdout",
     "output_type": "stream",
     "text": [
      "The autoreload extension is already loaded. To reload it, use:\n",
      "  %reload_ext autoreload\n"
     ]
    }
   ],
   "source": [
    "%load_ext autoreload\n",
    "%autoreload 2\n",
    "\n",
    "from main_reconstruction_swinIRwCustomUp_wforward import safe_do_exps"
   ]
  },
  {
   "cell_type": "code",
   "execution_count": 5,
   "metadata": {},
   "outputs": [],
   "source": [
    "name= 'bbbcHumanMCF7cellsW4_swinIRwCustomV2_EvalHtOurUpsample'\n",
    "\n",
    "exp_dir= f'../figs/{name}' #'/n/holylfs/LABS/wadduwage_lab/Lab/uom_Udith/results/aim2/figs'\n",
    "save_dir_special_root = f'../figs/{name}' #f'/n/holylfs/LABS/wadduwage_lab/Lab/uom_Udith/results/aim2/figs/{name}'\n",
    "\n",
    "!rm -rf $exp_dir\n",
    "!mkdir $exp_dir\n",
    "\n",
    "!rm -rf $save_dir_special_root\n",
    "!mkdir $save_dir_special_root"
   ]
  },
  {
   "cell_type": "code",
   "execution_count": null,
   "metadata": {},
   "outputs": [],
   "source": [
    "count_only = False\n",
    "\n",
    "device = 'cuda:1'\n",
    "\n",
    "exps = {\n",
    "        'DATASET.name': ['bbbcHumanMCF7cellsW4'],\n",
    "    \n",
    "        'MODEL.MODEL_A.rotation_lambda': ['10000.0'],\n",
    "        'MODEL.MODEL_A.lambda_scale_factor': ['3'],\n",
    "        'MODEL.MODEL_H.T': ['1'], \n",
    "        'MODEL.MODEL_H.lr_H': ['1.0'],\n",
    "    \n",
    "        'DATASET.img_size':  ['64'], #256\n",
    "        'DATASET.num_samples_train': ['3000'], #'10000-> 1400 sec/ epoch' , 3000-> 440 sec/ epoch (18.3hrs/ exp)  \n",
    "        'DATASET.num_samples_valtest': ['25'],\n",
    "        'DATASET.batch_size_train': ['8'], #32\n",
    "}\n",
    "\n",
    "general_opts= ['TRAIN.show_results_epoch', '1', #5\n",
    "                'TRAIN.epochs', '3']  #150\n",
    "\n",
    "safe_do_exps(exps, general_opts, device, exp_dir = exp_dir, save_special= True, count_only= count_only, save_dir_special_root= save_dir_special_root)"
   ]
  },
  {
   "cell_type": "code",
   "execution_count": 4,
   "metadata": {},
   "outputs": [
    {
     "name": "stdout",
     "output_type": "stream",
     "text": [
      "Writing evalHt1.py\n"
     ]
    }
   ],
   "source": [
    "%%writefile evalHt1.py\n",
    "from main_reconstruction_swinIRwCustomUp_wforward import safe_do_exps\n",
    "\n",
    "name= 'bbbcHumanMCF7cellsW4_swinIRwCustomV2_EvalHtOurUpsample'\n",
    "\n",
    "exp_dir= f'../figs/{name}' #'/n/holylfs/LABS/wadduwage_lab/Lab/uom_Udith/results/aim2/figs'\n",
    "save_dir_special_root = f'../figs/{name}' #f'/n/holylfs/LABS/wadduwage_lab/Lab/uom_Udith/results/aim2/figs/{name}'\n",
    "\n",
    "import shutil, os\n",
    "\n",
    "shutil.rmtree(exp_dir)\n",
    "os.mkdir(exp_dir)\n",
    "shutil.rmtree(save_dir_special_root)\n",
    "os.mkdir(save_dir_special_root)\n",
    "\n",
    "count_only = False\n",
    "\n",
    "device = 'cuda:1'\n",
    "\n",
    "exps = {\n",
    "        'DATASET.name': ['bbbcHumanMCF7cellsW4'],\n",
    "    \n",
    "        'MODEL.MODEL_A.rotation_lambda': ['10000.0'],\n",
    "        'MODEL.MODEL_A.lambda_scale_factor': ['3'],\n",
    "        'MODEL.MODEL_H.T': ['1'], \n",
    "        #'MODEL.MODEL_H.lr_H': ['1.0'],\n",
    "    \n",
    "        'DATASET.img_size':  ['64'], #256\n",
    "        'DATASET.num_samples_train': ['3000'], #'10000-> 1400 sec/ epoch' , 3000-> 440 sec/ epoch (18.3hrs/ exp)  \n",
    "        'DATASET.num_samples_valtest': ['25'],\n",
    "        'DATASET.batch_size_train': ['8'], #32\n",
    "}\n",
    "\n",
    "general_opts= ['TRAIN.show_results_epoch', '1', #5\n",
    "                'TRAIN.epochs', '3']  #150\n",
    "\n",
    "safe_do_exps(exps, general_opts, device, exp_dir = exp_dir, save_special= True, count_only= count_only, save_dir_special_root= save_dir_special_root)"
   ]
  },
  {
   "cell_type": "code",
   "execution_count": null,
   "metadata": {},
   "outputs": [],
   "source": []
  }
 ],
 "metadata": {
  "interpreter": {
   "hash": "c245a2e360dbb42312e38a2d32c9e2363c0490331dbfe238722d1a7e87cebc70"
  },
  "kernelspec": {
   "display_name": "deepTFM",
   "language": "python",
   "name": "python3"
  },
  "language_info": {
   "codemirror_mode": {
    "name": "ipython",
    "version": 3
   },
   "file_extension": ".py",
   "mimetype": "text/x-python",
   "name": "python",
   "nbconvert_exporter": "python",
   "pygments_lexer": "ipython3",
   "version": "3.6.13"
  }
 },
 "nbformat": 4,
 "nbformat_minor": 4
}
