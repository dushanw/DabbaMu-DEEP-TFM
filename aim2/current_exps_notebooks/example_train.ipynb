{
 "cells": [
  {
   "cell_type": "code",
   "execution_count": 4,
   "metadata": {},
   "outputs": [],
   "source": [
    "%load_ext autoreload\n",
    "%autoreload 2"
   ]
  },
  {
   "cell_type": "code",
   "execution_count": 5,
   "metadata": {},
   "outputs": [],
   "source": [
    "import sys\n",
    "sys.path.append('../')\n",
    "\n",
    "import shutil\n",
    "from train import run\n",
    "import os\n",
    "import itertools\n",
    "\n",
    "def write_errormsg2file(msg, error_file_name):\n",
    "    if not os.path.isfile(error_file_name):\n",
    "        with open(error_file_name, 'w') as f:\n",
    "            f.write(f'error : {msg}\\n')\n",
    "    else:\n",
    "        with open(error_file_name, 'a') as f:\n",
    "            f.write(f'error : {msg}\\n')"
   ]
  },
  {
   "cell_type": "code",
   "execution_count": 3,
   "metadata": {},
   "outputs": [],
   "source": [
    "def do_exps(Ts, rotation_lambdas, lr_Hs, lambda_scale_factors, img_sizes, ht_init_methods, device, exp_dir = '../figs/test', save_special= False):\n",
    "    exp_idx=0\n",
    "    \n",
    "    for ht_init_method in ht_init_methods:\n",
    "        for img_size in img_sizes:\n",
    "            for T in Ts:\n",
    "                for rotation_lambda in rotation_lambdas:\n",
    "                    for lr_H in lr_Hs:\n",
    "                        for lambda_scale_factor in lambda_scale_factors:\n",
    "\n",
    "                            exp_idx+=1\n",
    "\n",
    "                            name= f'exp_idx({exp_idx})'\n",
    "                            save_dir= f'{exp_dir}/ht_init_method({ht_init_method})@img_size({img_size})@T({T})@rotation_lambda({rotation_lambda})@lr_H({lr_H})@lambda_scale_factor({lambda_scale_factor})'\n",
    "\n",
    "                            try:shutil.rmtree(save_dir)\n",
    "                            except:pass\n",
    "\n",
    "                            opts = [\n",
    "                                'NAME', name,\n",
    "                                'GENERAL.device', device,\n",
    "                                'GENERAL.save_dir', save_dir,\n",
    "                                'MODEL.MODEL_H.T', T,\n",
    "                                'MODEL.MODEL_H.lr_H', lr_H,\n",
    "                                'MODEL.MODEL_H.H_init', ht_init_method,\n",
    "                                'MODEL.MODEL_A.scale_factor', lambda_scale_factor,\n",
    "                                'MODEL.MODEL_A.rotation_lambda',rotation_lambda,\n",
    "                                'DATASET.img_size', img_size \n",
    "                            ]\n",
    "\n",
    "\n",
    "                            try:\n",
    "                                run(opts= opts, save_special=save_special)\n",
    "                            except:\n",
    "                                error_file_name = f'{exp_dir}/errors.txt'\n",
    "                                write_errormsg2file(f'ERROR : {save_dir}', error_file_name)\n",
    "                                print(f'ERROR : {save_dir}')"
   ]
  },
  {
   "cell_type": "code",
   "execution_count": 4,
   "metadata": {},
   "outputs": [],
   "source": [
    "device= 'cuda:0'\n",
    "\n",
    "img_sizes= ['64']\n",
    "Ts=['1', '2', '4', '8', '16', '32']\n",
    "rotation_lambdas= ['10.0'] #['10.0', '100.0', '1000.0', '10000.0']\n",
    "lr_Hs= ['1.0', '0.0']\n",
    "lambda_scale_factors= ['1', '2', '3', '4']\n",
    "ht_init_methods= ['hadamard_FourierBased']\n",
    "\n",
    "do_exps(Ts, rotation_lambdas, lr_Hs, lambda_scale_factors, img_sizes, ht_init_methods, device, exp_dir = exp_dir, save_special= False)"
   ]
  },
  {
   "cell_type": "code",
   "execution_count": 5,
   "metadata": {},
   "outputs": [],
   "source": []
  },
  {
   "cell_type": "markdown",
   "metadata": {},
   "source": [
    "# NEW"
   ]
  },
  {
   "cell_type": "code",
   "execution_count": 6,
   "metadata": {},
   "outputs": [],
   "source": [
    "def do_exps(exps_dict= None, device= None, exp_dir = '../figs/test', save_special= False):    \n",
    "    exp_idx = 0\n",
    "    keys= list(exps.keys())\n",
    "    \n",
    "    val_list_list= []\n",
    "    key_list = [] #eg: 'MODEL.MODEL_A.rotation_lambda'\n",
    "    key_suffix_list= [] # eg: 'rotation_lambda'\n",
    "    \n",
    "    for key, val_list in exps_dict.items():\n",
    "        key_list.append(key)\n",
    "        key_suffix_list.append(key.split('.')[-1])\n",
    "        \n",
    "        val_list_list.append(val_list)\n",
    "        \n",
    "        \n",
    "    attr_combination_list = [list(s) for s in itertools.product(*val_list_list)]\n",
    "    \n",
    "    for attr_combination in attr_combination_list:\n",
    "        save_dir = f'{exp_dir}/'\n",
    "        opts= []\n",
    "        for idx in range(len(attr_combination)):\n",
    "            opts += [key_list[idx], attr_combination[idx]]\n",
    "            save_dir+= f'{key_suffix_list[idx]}({attr_combination[idx]})@'\n",
    "    \n",
    "        save_dir = save_dir[:-1] # remove last '@' \n",
    "\n",
    "        exp_idx+=1\n",
    "        opts_other= ['NAME', f'exp_idx({exp_idx})', \n",
    "                     'GENERAL.device', device, \n",
    "                     'GENERAL.save_dir', save_dir]\n",
    "\n",
    "        opts = opts_other + opts\n",
    "\n",
    "        try:shutil.rmtree(save_dir)\n",
    "        except:pass\n",
    "\n",
    "        run(opts= opts, save_special=save_special)\n",
    "        #try:\n",
    "        #    run(opts= opts, save_special=save_special)\n",
    "        #except:\n",
    "        #    error_file_name = f'{exp_dir}/errors.txt'\n",
    "        #    write_errormsg2file(f'ERROR : {save_dir}', error_file_name)\n",
    "        #    print(f'ERROR : {save_dir}')                           "
   ]
  },
  {
   "cell_type": "code",
   "execution_count": 7,
   "metadata": {},
   "outputs": [],
   "source": [
    "exp_dir= '../figs/test'\n",
    "!rm -rf $exp_dir\n",
    "!mkdir $exp_dir"
   ]
  },
  {
   "cell_type": "code",
   "execution_count": null,
   "metadata": {},
   "outputs": [],
   "source": [
    "device = 'cuda:0'\n",
    "\n",
    "exps = {\n",
    "'MODEL.MODEL_H.T': ['1', '2', '4', '8', '16', '32'],\n",
    "'MODEL.MODEL_H.lr_H': ['1.0','0.0'],\n",
    "'MODEL.MODEL_H.H_init': ['hadamard_FourierBased'],\n",
    "'MODEL.MODEL_A.lambda_scale_factor': ['1', '2', '3', '4'],\n",
    "'MODEL.MODEL_A.rotation_lambda': ['10.0'],\n",
    "'DATASET.img_size':  ['64']} \n",
    "\n",
    "do_exps(exps, device, exp_dir = exp_dir, save_special= False)"
   ]
  },
  {
   "cell_type": "code",
   "execution_count": null,
   "metadata": {},
   "outputs": [],
   "source": []
  }
 ],
 "metadata": {
  "kernelspec": {
   "display_name": "deepTFM",
   "language": "python",
   "name": "deeptfm"
  },
  "language_info": {
   "codemirror_mode": {
    "name": "ipython",
    "version": 3
   },
   "file_extension": ".py",
   "mimetype": "text/x-python",
   "name": "python",
   "nbconvert_exporter": "python",
   "pygments_lexer": "ipython3",
   "version": "3.6.12"
  }
 },
 "nbformat": 4,
 "nbformat_minor": 4
}
