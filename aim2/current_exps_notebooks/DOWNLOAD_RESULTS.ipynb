{
 "cells": [
  {
   "cell_type": "code",
   "execution_count": 123,
   "id": "e03edb26-b594-472f-a9c6-9a1653606c7b",
   "metadata": {},
   "outputs": [],
   "source": [
    "dir_A=     'bbbcHumanMCF7cellsW4_swinIRwCustomV2_EvalHtOurUpsample_InitlrH1_savespecialbebug'\n",
    "dir_A_re=  'bbbcHumanMCF7cellsW4_swinIRwCustomV2_EvalHtOurUpsample_InitlrH1_savespecialbebug_cropped64'\n",
    "dir_A2=    'bbbcHumanMCF7cellsW4_swinIRwCustomV2_EvalHtOurUpsample_InitlrH1_savespecialbebug_noCustomSig'\n",
    "dir_A_re2= 'bbbcHumanMCF7cellsW4_swinIRwCustomV2_EvalHtOurUpsample_InitlrH1_savespecialbebug_cropped64_noCustomSig'\n",
    "dir_B=     'bbbcHumanMCF7cellsW4_swinIRwCustomV2_EvalHtDefaultUpsample_InitlrH1_savespecialbebug'\n",
    "dir_B_re=  'bbbcHumanMCF7cellsW4_swinIRwCustomV2_EvalHtDefaultUpsample_InitlrH1_savespecialbebug_cropped64'\n",
    "dir_E=     'div2kflickr2k_baselineE'\n",
    "dir_G=     'bbbcHumanMCF7cellsW4_img64_baselines'\n",
    "dir_H=      dir_G\n",
    "#dir_I= #havent run !!!\n",
    "\n",
    "#dirs= [dir_A, dir_A_re, dir_A2, dir_A_re2, dir_B,dir_B_re, dir_E, dir_G, dir_H]\n",
    "#names= ['A    ', 'A_re ', 'A2   ', 'A_re2', 'B    ', 'B_re ', 'E    ', 'G    ', 'H    ']\n",
    "\n",
    "\n",
    "\n",
    "dirs= [dir_A2, dir_A_re2, dir_E]\n",
    "names= ['A2   ', 'A_re2', 'E    ']\n"
   ]
  },
  {
   "cell_type": "code",
   "execution_count": 124,
   "id": "1427c03e-b4e6-4147-9ca9-1ba23a362b2e",
   "metadata": {},
   "outputs": [],
   "source": [
    "from pathlib import Path\n",
    "from humanize import naturalsize\n",
    "\n",
    "def get_size(path = '.'):\n",
    "    size = 0\n",
    "    for file_ in Path(path).rglob('*'):\n",
    "        size += file_.stat().st_size\n",
    "        name= str(file_).split('/')[-1]\n",
    "        #print(f'{name} : {naturalsize(file_.stat().st_size)}')\n",
    "    return naturalsize(size)"
   ]
  },
  {
   "cell_type": "code",
   "execution_count": 125,
   "id": "652e63ef-9f49-48f0-be07-98e18e8660a8",
   "metadata": {},
   "outputs": [],
   "source": [
    "#!rm -rf ./to_download/\n",
    "#!mkdir ./to_download/"
   ]
  },
  {
   "cell_type": "code",
   "execution_count": 127,
   "id": "f768b8f9-8650-4ed1-ace0-703ef9ef4539",
   "metadata": {},
   "outputs": [
    {
     "name": "stdout",
     "output_type": "stream",
     "text": [
      "completed (ready to download) : A2    : size (347.5 MB) -> NA\n",
      "completed (ready to download) : A_re2 : size (346.7 MB) -> NA\n",
      "completed (ready to download) : E     : size (242.0 MB) -> NA\n"
     ]
    }
   ],
   "source": [
    "import glob\n",
    "import shutil\n",
    "\n",
    "\n",
    "for i in range(len(dirs)):\n",
    "    dir_name = dirs[i]\n",
    "    name= names[i]\n",
    "    exp_dir =f'../figs/{dir_name}' \n",
    "    dir_name= 'NA'\n",
    "    if len(glob.glob(f'{exp_dir}/*/save_special'))>=1:\n",
    "        if len(glob.glob(f'{exp_dir}/*/save_special/150_yt_val.npy'))>=1:\n",
    "            print(f'completed (ready to download) : {name} : size ({get_size(exp_dir)}) -> {dir_name}')\n",
    "            shutil.make_archive(f'./to_download/{name.strip()}', 'zip', root_dir= exp_dir, base_dir= f'../{exp_dir}')\n",
    "        else:\n",
    "            print(f'not completed                 : {name} : size ({get_size(exp_dir)}) -> {dir_name}')\n",
    "    else:\n",
    "        print(f'no special directory here !!!     : {name} : size ({get_size(exp_dir)}) -> {dir_name}')"
   ]
  },
  {
   "cell_type": "code",
   "execution_count": null,
   "id": "bf4ae3c9-15cd-4794-bf0e-6badeb611b73",
   "metadata": {},
   "outputs": [],
   "source": []
  }
 ],
 "metadata": {
  "kernelspec": {
   "display_name": "deepTFM",
   "language": "python",
   "name": "deeptfm"
  },
  "language_info": {
   "codemirror_mode": {
    "name": "ipython",
    "version": 3
   },
   "file_extension": ".py",
   "mimetype": "text/x-python",
   "name": "python",
   "nbconvert_exporter": "python",
   "pygments_lexer": "ipython3",
   "version": "3.6.12"
  }
 },
 "nbformat": 4,
 "nbformat_minor": 5
}
