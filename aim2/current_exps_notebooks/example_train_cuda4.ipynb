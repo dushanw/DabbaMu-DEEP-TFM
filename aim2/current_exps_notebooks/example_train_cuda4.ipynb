{
 "cells": [
  {
   "cell_type": "code",
   "execution_count": 1,
   "metadata": {},
   "outputs": [],
   "source": [
    "%load_ext autoreload\n",
    "%autoreload 2\n"
   ]
  },
  {
   "cell_type": "code",
   "execution_count": 5,
   "metadata": {},
   "outputs": [],
   "source": [
    "import sys\n",
    "sys.path.append('../')\n",
    "\n",
    "import shutil\n",
    "from train import run\n"
   ]
  },
  {
   "cell_type": "code",
   "execution_count": 3,
   "metadata": {},
   "outputs": [],
   "source": [
    "def do_exps(Ts, rotation_lambdas, lr_Hs, lambda_scale_factors, device):\n",
    "    exp_idx=0\n",
    "    for T in Ts:\n",
    "        for rotation_lambda in rotation_lambdas:\n",
    "            for lr_H in lr_Hs:\n",
    "                for lambda_scale_factor in lambda_scale_factors:\n",
    "                    exp_idx+=1\n",
    "\n",
    "                    name= f'exp_idx({exp_idx})'\n",
    "                    save_dir= f'figs/mnistv6/T({T})@rotation_lambda({rotation_lambda})@lr_H({lr_H})@lambda_scale_factor({lambda_scale_factor})'\n",
    "                    H_enable_train=str(lr_H=='0.0')\n",
    "                    \n",
    "                    try:shutil.rmtree(save_dir)\n",
    "                    except:pass\n",
    "\n",
    "                    opts = [\n",
    "                        'NAME', name,\n",
    "                        'GENERAL.device', device,\n",
    "                        'GENERAL.save_dir', save_dir,\n",
    "                        'MODEL.MODEL_H.T', T,\n",
    "                        'MODEL.MODEL_H.lr_H', lr_H,\n",
    "                        'MODEL.MODEL_H.enable_train', H_enable_train,\n",
    "                        'MODEL.MODEL_A.scale_factor', lambda_scale_factor,\n",
    "                        'MODEL.MODEL_A.rotation_lambda',rotation_lambda,\n",
    "                    ]\n",
    "\n",
    "                    run(opts= opts)"
   ]
  },
  {
   "cell_type": "code",
   "execution_count": 4,
   "metadata": {},
   "outputs": [
    {
     "ename": "NameError",
     "evalue": "name 'run' is not defined",
     "output_type": "error",
     "traceback": [
      "\u001b[0;31m---------------------------------------------------------------------------\u001b[0m",
      "\u001b[0;31mNameError\u001b[0m                                 Traceback (most recent call last)",
      "\u001b[0;32m<ipython-input-4-0289049c3cef>\u001b[0m in \u001b[0;36m<module>\u001b[0;34m\u001b[0m\n\u001b[1;32m      6\u001b[0m \u001b[0mlambda_scale_factors\u001b[0m\u001b[0;34m=\u001b[0m \u001b[0;34m[\u001b[0m\u001b[0;34m'4'\u001b[0m\u001b[0;34m]\u001b[0m\u001b[0;34m\u001b[0m\u001b[0;34m\u001b[0m\u001b[0m\n\u001b[1;32m      7\u001b[0m \u001b[0;34m\u001b[0m\u001b[0m\n\u001b[0;32m----> 8\u001b[0;31m \u001b[0mdo_exps\u001b[0m\u001b[0;34m(\u001b[0m\u001b[0mTs\u001b[0m\u001b[0;34m,\u001b[0m \u001b[0mrotation_lambdas\u001b[0m\u001b[0;34m,\u001b[0m \u001b[0mlr_Hs\u001b[0m\u001b[0;34m,\u001b[0m \u001b[0mlambda_scale_factors\u001b[0m\u001b[0;34m,\u001b[0m \u001b[0mdevice\u001b[0m\u001b[0;34m)\u001b[0m\u001b[0;34m\u001b[0m\u001b[0;34m\u001b[0m\u001b[0m\n\u001b[0m",
      "\u001b[0;32m<ipython-input-3-c9ae3feb8ad5>\u001b[0m in \u001b[0;36mdo_exps\u001b[0;34m(Ts, rotation_lambdas, lr_Hs, lambda_scale_factors, device)\u001b[0m\n\u001b[1;32m     25\u001b[0m                     ]\n\u001b[1;32m     26\u001b[0m \u001b[0;34m\u001b[0m\u001b[0m\n\u001b[0;32m---> 27\u001b[0;31m                     \u001b[0mrun\u001b[0m\u001b[0;34m(\u001b[0m\u001b[0mopts\u001b[0m\u001b[0;34m=\u001b[0m \u001b[0mopts\u001b[0m\u001b[0;34m)\u001b[0m\u001b[0;34m\u001b[0m\u001b[0;34m\u001b[0m\u001b[0m\n\u001b[0m",
      "\u001b[0;31mNameError\u001b[0m: name 'run' is not defined"
     ]
    }
   ],
   "source": [
    "device= 'cuda:3'\n",
    "\n",
    "Ts=['1', '2', '4', '8', '16', '32']\n",
    "rotation_lambdas= ['10.0','100.0','1000.0']\n",
    "lr_Hs= ['0.0', '0.0001', '0.001', '0.01', '0.1', '1.0', '10.0']\n",
    "lambda_scale_factors= ['4'] \n",
    "\n",
    "do_exps(Ts, rotation_lambdas, lr_Hs, lambda_scale_factors, device)"
   ]
  },
  {
   "cell_type": "code",
   "execution_count": null,
   "metadata": {},
   "outputs": [],
   "source": []
  }
 ],
 "metadata": {
  "kernelspec": {
   "display_name": "deepTFM",
   "language": "python",
   "name": "deeptfm"
  },
  "language_info": {
   "codemirror_mode": {
    "name": "ipython",
    "version": 3
   },
   "file_extension": ".py",
   "mimetype": "text/x-python",
   "name": "python",
   "nbconvert_exporter": "python",
   "pygments_lexer": "ipython3",
   "version": "3.6.12"
  }
 },
 "nbformat": 4,
 "nbformat_minor": 4
}
