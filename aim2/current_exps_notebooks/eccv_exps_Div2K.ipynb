{
 "cells": [
  {
   "cell_type": "code",
   "execution_count": 3,
   "metadata": {},
   "outputs": [
    {
     "name": "stdout",
     "output_type": "stream",
     "text": [
      "The autoreload extension is already loaded. To reload it, use:\n",
      "  %reload_ext autoreload\n"
     ]
    }
   ],
   "source": [
    "%load_ext autoreload\n",
    "%autoreload 2"
   ]
  },
  {
   "cell_type": "code",
   "execution_count": 27,
   "metadata": {},
   "outputs": [
    {
     "name": "stdout",
     "output_type": "stream",
     "text": [
      "Writing superres2.py\n"
     ]
    }
   ],
   "source": [
    "%%writefile superres2.py\n",
    "#random_illum [lr_H= 0.0]\n",
    "#from main_reconstruction_swinIR import safe_do_exps # their_upsample [T=1, lambda_s= 3]\n",
    "#lr_H, T, lambda_s, batch_size= ['0.0', '1', '3', '128']\n",
    "#from main_reconstruction_swinIRwCustomUp import safe_do_exps # our_upsample [T=4, lambda_s= 4]\n",
    "#lr_H, T, lambda_s, batch_size= ['0.0', '4', '4', '2']\n",
    "\n",
    "\n",
    "#learned illum [lr_H= 1.0] -> might be too high [DO EXPS TO FIND PROPER LR RANGE !!!]\n",
    "from main_reconstruction_swinIR_wforward import safe_do_exps # their_upsample [T=1, lambda_s= 3]\n",
    "lr_H, T, lambda_s, batch_size= ['1.0', '1', '3', '128']\n",
    "#from main_reconstruction_swinIRwCustomUp_wforward import safe_do_exps # our_upsample [T=4, lambda_s= 4]\n",
    "#lr_H, T, lambda_s, batch_size= ['1.0', '4', '4', '10']\n",
    "\n",
    "\n",
    "name= 'div2kflickr2k_learnableTheirUp'\n",
    "device = 'cuda:1'\n",
    "\n",
    "###################################\n",
    "\n",
    "exps = {\n",
    "        'DATASET.name': ['div2kflickr2k'], #fixed\n",
    "    \n",
    "        'MODEL.MODEL_A.rotation_lambda': ['10000.0'], #fixed\n",
    "        'MODEL.MODEL_H.lr_H': [lr_H],\n",
    "        'MODEL.MODEL_H.T': [T], \n",
    "        'MODEL.MODEL_A.lambda_scale_factor': [lambda_s],\n",
    "    \n",
    "        'DATASET.img_size':  ['64'],  #fixed\n",
    "        'DATASET.num_samples_train': ['3450'],  #'3450' fixed\n",
    "        'DATASET.num_samples_valtest': ['100'], #'100' fixed\n",
    "}\n",
    "\n",
    "general_opts=  ['DATASET.batch_size_valtest', batch_size,\n",
    "                'DATASET.batch_size_train', batch_size,\n",
    "                'TRAIN.show_results_epoch', '5', #5  #fixed\n",
    "                'TRAIN.epochs', '150']  #150  #fixed\n",
    "\n",
    "\n",
    "exp_dir= f'../figs/{name}' #'/n/holylfs/LABS/wadduwage_lab/Lab/uom_Udith/results/aim2/figs'\n",
    "save_dir_special_root = f'../figs/{name}' #f'/n/holylfs/LABS/wadduwage_lab/Lab/uom_Udith/results/aim2/figs/{name}'\n",
    "\n",
    "import shutil, os\n",
    "try:shutil.rmtree(exp_dir)\n",
    "except:pass\n",
    "os.mkdir(exp_dir)\n",
    "try:shutil.rmtree(save_dir_special_root)\n",
    "except:pass\n",
    "os.mkdir(save_dir_special_root)\n",
    "\n",
    "count_only = False\n",
    "safe_do_exps(exps, general_opts, device, exp_dir = exp_dir, save_special= True, count_only= count_only, save_dir_special_root= save_dir_special_root)"
   ]
  },
  {
   "cell_type": "code",
   "execution_count": null,
   "metadata": {},
   "outputs": [],
   "source": []
  }
 ],
 "metadata": {
  "interpreter": {
   "hash": "c245a2e360dbb42312e38a2d32c9e2363c0490331dbfe238722d1a7e87cebc70"
  },
  "kernelspec": {
   "display_name": "deepTFM",
   "language": "python",
   "name": "python3"
  },
  "language_info": {
   "codemirror_mode": {
    "name": "ipython",
    "version": 3
   },
   "file_extension": ".py",
   "mimetype": "text/x-python",
   "name": "python",
   "nbconvert_exporter": "python",
   "pygments_lexer": "ipython3",
   "version": "3.6.13"
  }
 },
 "nbformat": 4,
 "nbformat_minor": 4
}
