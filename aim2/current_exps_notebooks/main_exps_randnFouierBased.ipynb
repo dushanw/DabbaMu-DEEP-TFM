{
 "cells": [
  {
   "cell_type": "code",
   "execution_count": 20,
   "metadata": {},
   "outputs": [],
   "source": [
    "%load_ext autoreload\n",
    "%autoreload 2"
   ]
  },
  {
   "cell_type": "code",
   "execution_count": 21,
   "metadata": {},
   "outputs": [],
   "source": [
    "import sys\n",
    "sys.path.append('../')\n",
    "\n",
    "import shutil\n",
    "from train import run\n",
    "import os\n",
    "import itertools\n",
    "import glob\n",
    "\n",
    "def write_errormsg2file(msg, error_file_name):\n",
    "    if not os.path.isfile(error_file_name):\n",
    "        with open(error_file_name, 'w') as f:\n",
    "            f.write(f'error : {msg}\\n')\n",
    "    else:\n",
    "        with open(error_file_name, 'a') as f:\n",
    "            f.write(f'error : {msg}\\n')\n",
    "            \n",
    "def do_exps(exps_dict= None, general_opts= None, device= None, exp_dir = '../figs/test', save_special= False):    \n",
    "    exp_idx = 0\n",
    "    keys= list(exps.keys())\n",
    "    \n",
    "    val_list_list= []\n",
    "    key_list = [] #eg: 'MODEL.MODEL_A.rotation_lambda'\n",
    "    key_suffix_list= [] # eg: 'rotation_lambda'\n",
    "    \n",
    "    for key, val_list in exps_dict.items():\n",
    "        key_list.append(key)\n",
    "        key_suffix_list.append(key.split('.')[-1])\n",
    "        \n",
    "        val_list_list.append(val_list)\n",
    "        \n",
    "    attr_combination_list = [list(s) for s in itertools.product(*val_list_list)]\n",
    "    \n",
    "    print(f'number of total experiments : {len(attr_combination_list)}')\n",
    "    \n",
    "    count_already_trained=0\n",
    "    count_train_from_begining=0\n",
    "    for attr_combination in attr_combination_list:\n",
    "        save_dir = f'{exp_dir}/'\n",
    "        opts= []\n",
    "        for idx in range(len(attr_combination)):\n",
    "            opts += [key_list[idx], attr_combination[idx]]\n",
    "            attr= attr_combination[idx]\n",
    "            \n",
    "            #####\n",
    "            attr_is_list= False\n",
    "            try:attr_is_list = isinstance(eval(attr), list)\n",
    "            except:pass\n",
    "            if attr_is_list:\n",
    "                attr= '_'.join(list(map(str, eval(attr)))) ## [, ] should not be in the directory name because glob is sensitive to that !\n",
    "            #####\n",
    "            \n",
    "            save_dir+= f'{key_suffix_list[idx]}({attr})@'\n",
    "    \n",
    "        save_dir = save_dir[:-1] # remove last '@' \n",
    "\n",
    "        exp_idx+=1\n",
    "        opts_other= ['NAME', f'exp_idx({exp_idx})', \n",
    "                     'GENERAL.device', device, \n",
    "                     'GENERAL.save_dir', save_dir\n",
    "                    ]\n",
    "                     \n",
    "        opts_other+= general_opts\n",
    "\n",
    "        opts = opts_other + opts\n",
    "\n",
    "        \n",
    "        if len(glob.glob(f'{save_dir}/1_*.jpg'))!=0:\n",
    "            count_already_trained+=1\n",
    "            print(f'PASSING :: {save_dir}')\n",
    "            continue\n",
    "        \n",
    "        count_train_from_begining+=1\n",
    "                    \n",
    "        try:shutil.rmtree(save_dir)\n",
    "        except:pass\n",
    "\n",
    "        save_folder_name= save_dir.split('/')[-1]\n",
    "        if len(save_folder_name)>255:\n",
    "            print(f'\\nFolder length is too long: len(results_saving_folder) -> {len(save_folder_name)} (<= 255)')\n",
    "            print(save_folder_name)\n",
    "        \n",
    "        run(opts= opts, save_special=save_special)\n",
    "        #try:\n",
    "        #    run(opts= opts, save_special=save_special)\n",
    "        #except Exception as e:\n",
    "        #    error_file_name = f'{exp_dir}/errors.txt'\n",
    "        #    write_errormsg2file(f'ERROR : {save_dir}\\n {e} \\n\\n', error_file_name)\n",
    "        #    print(f'ERROR : {save_dir}\\n {e} \\n\\n')\n",
    "    print('count_already_trained : ', count_already_trained)\n",
    "    print('count_train_from_begining : ', count_train_from_begining)"
   ]
  },
  {
   "cell_type": "code",
   "execution_count": 22,
   "metadata": {},
   "outputs": [],
   "source": [
    "exp_dir= '/n/holyscratch01/wadduwage_lab/uom_Udith/results/aim2/important/exp_set1'\n",
    "#!rm -rf $exp_dir\n",
    "#!mkdir $exp_dir"
   ]
  },
  {
   "cell_type": "code",
   "execution_count": 23,
   "metadata": {},
   "outputs": [
    {
     "data": {
      "text/plain": [
       "\"\\ndevice = 'cuda:0' # estimated: 40 hours !!! [9:34 AM, 2021/10/24]\\n\\nexps = {\\n        'DATASET.name': ['confocal', 'mnistdigits_grid2patch'], \\n    \\n        'MODEL.MODEL_A.rotation_lambda': ['10.0', '10000.0'],\\n        'MODEL.MODEL_A.lambda_scale_factor': ['1','2','3','4', '5', '6', '7', '8'],  \\n        'MODEL.MODEL_H.T': ['32'], #, '16', '8', '4', '2', '1'\\n        'MODEL.MODEL_H.lr_H': ['1.0', '0.0'], # '0.0'\\n        'MODEL.MODEL_H.H_init': ['randn_FourierBased'],\\n    \\n        \\n        'DATASET.img_size':  ['256'],\\n        'DATASET.num_samples_train': ['3000'],\\n        'MODEL.MODEL_DECODER.upsample_net': ['learnable_transpose_conv']} #'custom_v2' -> check what is better !!!\\n\\ngeneral_opts= ['TRAIN.show_results_epoch', '5',\\n                'TRAIN.epochs', '150']\\n\\ndo_exps(exps, general_opts, device, exp_dir = exp_dir, save_special= True)\\n\""
      ]
     },
     "execution_count": 23,
     "metadata": {},
     "output_type": "execute_result"
    }
   ],
   "source": [
    "'''\n",
    "device = 'cuda:0' # estimated: 40 hours !!! [9:34 AM, 2021/10/24]\n",
    "\n",
    "exps = {\n",
    "        'DATASET.name': ['confocal', 'mnistdigits_grid2patch'], \n",
    "    \n",
    "        'MODEL.MODEL_A.rotation_lambda': ['10.0', '10000.0'],\n",
    "        'MODEL.MODEL_A.lambda_scale_factor': ['1','2','3','4', '5', '6', '7', '8'],  \n",
    "        'MODEL.MODEL_H.T': ['32'], #, '16', '8', '4', '2', '1'\n",
    "        'MODEL.MODEL_H.lr_H': ['1.0', '0.0'], # '0.0'\n",
    "        'MODEL.MODEL_H.H_init': ['randn_FourierBased'],\n",
    "    \n",
    "        \n",
    "        'DATASET.img_size':  ['256'],\n",
    "        'DATASET.num_samples_train': ['3000'],\n",
    "        'MODEL.MODEL_DECODER.upsample_net': ['learnable_transpose_conv']} #'custom_v2' -> check what is better !!!\n",
    "\n",
    "general_opts= ['TRAIN.show_results_epoch', '5',\n",
    "                'TRAIN.epochs', '150']\n",
    "\n",
    "do_exps(exps, general_opts, device, exp_dir = exp_dir, save_special= True)\n",
    "'''"
   ]
  },
  {
   "cell_type": "code",
   "execution_count": null,
   "metadata": {},
   "outputs": [],
   "source": [
    "device = 'cuda:0' # estimated: 40 hours !!! [9:34 AM, 2021/10/24]\n",
    "\n",
    "## remain:\n",
    "#1. confocal, 10.0, lambda_scale_factor= 4, lr_H= 0.0\n",
    "\n",
    "\n",
    "exps = {\n",
    "        'DATASET.name': ['confocal', 'mnistdigits_grid2patch'], \n",
    "    \n",
    "        'MODEL.MODEL_A.rotation_lambda': ['10.0', '10000.0'],\n",
    "        'MODEL.MODEL_A.lambda_scale_factor': ['5', '6', '7', '8'],  \n",
    "        'MODEL.MODEL_H.T': ['32'], #, '16', '8', '4', '2', '1'\n",
    "        'MODEL.MODEL_H.lr_H': ['1.0', '0.0'], # '0.0'\n",
    "        'MODEL.MODEL_H.H_init': ['randn_FourierBased'],\n",
    "    \n",
    "        \n",
    "        'DATASET.img_size':  ['256'],\n",
    "        'DATASET.num_samples_train': ['3000'],\n",
    "        'MODEL.MODEL_DECODER.upsample_net': ['learnable_transpose_conv']} #'custom_v2' -> check what is better !!!\n",
    "\n",
    "general_opts= ['TRAIN.show_results_epoch', '5',\n",
    "                'TRAIN.epochs', '150']\n",
    "\n",
    "do_exps(exps, general_opts, device, exp_dir = exp_dir, save_special= True)"
   ]
  },
  {
   "cell_type": "code",
   "execution_count": 19,
   "metadata": {},
   "outputs": [
    {
     "data": {
      "text/plain": [
       "['/n/holyscratch01/wadduwage_lab/uom_Udith/results/aim2/important/exp_set1/name(confocal)@rotation_lambda(10.0)@lambda_scale_factor(4)@T(32)@lr_H(0.0)@H_init(randn_FourierBased)@img_size(256)@num_samples_train(3000)@upsample_net(learnable_transpose_conv)/40_L1Loss(0.0359553)_MSE(0.0045335)_SSIM11(0.6211371)_SSIM5(0.6217381).jpg',\n",
       " '/n/holyscratch01/wadduwage_lab/uom_Udith/results/aim2/important/exp_set1/name(confocal)@rotation_lambda(10.0)@lambda_scale_factor(4)@T(32)@lr_H(0.0)@H_init(randn_FourierBased)@img_size(256)@num_samples_train(3000)@upsample_net(learnable_transpose_conv)/100_L1Loss(0.0343714)_MSE(0.0038551)_SSIM11(0.6304208)_SSIM5(0.6306141).jpg',\n",
       " '/n/holyscratch01/wadduwage_lab/uom_Udith/results/aim2/important/exp_set1/name(confocal)@rotation_lambda(10.0)@lambda_scale_factor(4)@T(32)@lr_H(0.0)@H_init(randn_FourierBased)@img_size(256)@num_samples_train(3000)@upsample_net(learnable_transpose_conv)/5_L1Loss(0.0378053)_MSE(0.0055266)_SSIM11(0.6095156)_SSIM5(0.6107824).jpg',\n",
       " '/n/holyscratch01/wadduwage_lab/uom_Udith/results/aim2/important/exp_set1/name(confocal)@rotation_lambda(10.0)@lambda_scale_factor(4)@T(32)@lr_H(0.0)@H_init(randn_FourierBased)@img_size(256)@num_samples_train(3000)@upsample_net(learnable_transpose_conv)/80_L1Loss(0.0340687)_MSE(0.0038063)_SSIM11(0.6315738)_SSIM5(0.6315951).jpg',\n",
       " '/n/holyscratch01/wadduwage_lab/uom_Udith/results/aim2/important/exp_set1/name(confocal)@rotation_lambda(10.0)@lambda_scale_factor(4)@T(32)@lr_H(0.0)@H_init(randn_FourierBased)@img_size(256)@num_samples_train(3000)@upsample_net(learnable_transpose_conv)/90_L1Loss(0.0338775)_MSE(0.0036959)_SSIM11(0.632891)_SSIM5(0.6327841).jpg',\n",
       " '/n/holyscratch01/wadduwage_lab/uom_Udith/results/aim2/important/exp_set1/name(confocal)@rotation_lambda(10.0)@lambda_scale_factor(4)@T(32)@lr_H(0.0)@H_init(randn_FourierBased)@img_size(256)@num_samples_train(3000)@upsample_net(learnable_transpose_conv)/save_special',\n",
       " '/n/holyscratch01/wadduwage_lab/uom_Udith/results/aim2/important/exp_set1/name(confocal)@rotation_lambda(10.0)@lambda_scale_factor(4)@T(32)@lr_H(0.0)@H_init(randn_FourierBased)@img_size(256)@num_samples_train(3000)@upsample_net(learnable_transpose_conv)/25_L1Loss(0.0353218)_MSE(0.0041749)_SSIM11(0.6220445)_SSIM5(0.6223318).jpg',\n",
       " '/n/holyscratch01/wadduwage_lab/uom_Udith/results/aim2/important/exp_set1/name(confocal)@rotation_lambda(10.0)@lambda_scale_factor(4)@T(32)@lr_H(0.0)@H_init(randn_FourierBased)@img_size(256)@num_samples_train(3000)@upsample_net(learnable_transpose_conv)/35_L1Loss(0.0352272)_MSE(0.0039534)_SSIM11(0.6251124)_SSIM5(0.6249844).jpg',\n",
       " '/n/holyscratch01/wadduwage_lab/uom_Udith/results/aim2/important/exp_set1/name(confocal)@rotation_lambda(10.0)@lambda_scale_factor(4)@T(32)@lr_H(0.0)@H_init(randn_FourierBased)@img_size(256)@num_samples_train(3000)@upsample_net(learnable_transpose_conv)/105_L1Loss(0.0339205)_MSE(0.0036356)_SSIM11(0.6333962)_SSIM5(0.633127).jpg',\n",
       " '/n/holyscratch01/wadduwage_lab/uom_Udith/results/aim2/important/exp_set1/name(confocal)@rotation_lambda(10.0)@lambda_scale_factor(4)@T(32)@lr_H(0.0)@H_init(randn_FourierBased)@img_size(256)@num_samples_train(3000)@upsample_net(learnable_transpose_conv)/75_L1Loss(0.0341704)_MSE(0.0039711)_SSIM11(0.632354)_SSIM5(0.6324638).jpg',\n",
       " '/n/holyscratch01/wadduwage_lab/uom_Udith/results/aim2/important/exp_set1/name(confocal)@rotation_lambda(10.0)@lambda_scale_factor(4)@T(32)@lr_H(0.0)@H_init(randn_FourierBased)@img_size(256)@num_samples_train(3000)@upsample_net(learnable_transpose_conv)/85_L1Loss(0.0341751)_MSE(0.0037779)_SSIM11(0.6325683)_SSIM5(0.6322091).jpg',\n",
       " '/n/holyscratch01/wadduwage_lab/uom_Udith/results/aim2/important/exp_set1/name(confocal)@rotation_lambda(10.0)@lambda_scale_factor(4)@T(32)@lr_H(0.0)@H_init(randn_FourierBased)@img_size(256)@num_samples_train(3000)@upsample_net(learnable_transpose_conv)/115_L1Loss(0.0340836)_MSE(0.0037731)_SSIM11(0.6304023)_SSIM5(0.6303663).jpg',\n",
       " '/n/holyscratch01/wadduwage_lab/uom_Udith/results/aim2/important/exp_set1/name(confocal)@rotation_lambda(10.0)@lambda_scale_factor(4)@T(32)@lr_H(0.0)@H_init(randn_FourierBased)@img_size(256)@num_samples_train(3000)@upsample_net(learnable_transpose_conv)/60_L1Loss(0.0341765)_MSE(0.0037692)_SSIM11(0.6311991)_SSIM5(0.6310193).jpg',\n",
       " '/n/holyscratch01/wadduwage_lab/uom_Udith/results/aim2/important/exp_set1/name(confocal)@rotation_lambda(10.0)@lambda_scale_factor(4)@T(32)@lr_H(0.0)@H_init(randn_FourierBased)@img_size(256)@num_samples_train(3000)@upsample_net(learnable_transpose_conv)/65_L1Loss(0.0338065)_MSE(0.0038181)_SSIM11(0.6324932)_SSIM5(0.6326287).jpg',\n",
       " '/n/holyscratch01/wadduwage_lab/uom_Udith/results/aim2/important/exp_set1/name(confocal)@rotation_lambda(10.0)@lambda_scale_factor(4)@T(32)@lr_H(0.0)@H_init(randn_FourierBased)@img_size(256)@num_samples_train(3000)@upsample_net(learnable_transpose_conv)/110_L1Loss(0.0338763)_MSE(0.0036528)_SSIM11(0.6338703)_SSIM5(0.6335558).jpg',\n",
       " '/n/holyscratch01/wadduwage_lab/uom_Udith/results/aim2/important/exp_set1/name(confocal)@rotation_lambda(10.0)@lambda_scale_factor(4)@T(32)@lr_H(0.0)@H_init(randn_FourierBased)@img_size(256)@num_samples_train(3000)@upsample_net(learnable_transpose_conv)/10_L1Loss(0.038661)_MSE(0.0057716)_SSIM11(0.6071709)_SSIM5(0.609134).jpg',\n",
       " '/n/holyscratch01/wadduwage_lab/uom_Udith/results/aim2/important/exp_set1/name(confocal)@rotation_lambda(10.0)@lambda_scale_factor(4)@T(32)@lr_H(0.0)@H_init(randn_FourierBased)@img_size(256)@num_samples_train(3000)@upsample_net(learnable_transpose_conv)/30_L1Loss(0.0350516)_MSE(0.0040666)_SSIM11(0.6252196)_SSIM5(0.6253094).jpg',\n",
       " '/n/holyscratch01/wadduwage_lab/uom_Udith/results/aim2/important/exp_set1/name(confocal)@rotation_lambda(10.0)@lambda_scale_factor(4)@T(32)@lr_H(0.0)@H_init(randn_FourierBased)@img_size(256)@num_samples_train(3000)@upsample_net(learnable_transpose_conv)/70_L1Loss(0.0342978)_MSE(0.0039629)_SSIM11(0.6283683)_SSIM5(0.628664).jpg',\n",
       " '/n/holyscratch01/wadduwage_lab/uom_Udith/results/aim2/important/exp_set1/name(confocal)@rotation_lambda(10.0)@lambda_scale_factor(4)@T(32)@lr_H(0.0)@H_init(randn_FourierBased)@img_size(256)@num_samples_train(3000)@upsample_net(learnable_transpose_conv)/20_L1Loss(0.0360951)_MSE(0.0043452)_SSIM11(0.6071623)_SSIM5(0.6076622).jpg',\n",
       " '/n/holyscratch01/wadduwage_lab/uom_Udith/results/aim2/important/exp_set1/name(confocal)@rotation_lambda(10.0)@lambda_scale_factor(4)@T(32)@lr_H(0.0)@H_init(randn_FourierBased)@img_size(256)@num_samples_train(3000)@upsample_net(learnable_transpose_conv)/configs.yaml',\n",
       " '/n/holyscratch01/wadduwage_lab/uom_Udith/results/aim2/important/exp_set1/name(confocal)@rotation_lambda(10.0)@lambda_scale_factor(4)@T(32)@lr_H(0.0)@H_init(randn_FourierBased)@img_size(256)@num_samples_train(3000)@upsample_net(learnable_transpose_conv)/50_L1Loss(0.034667)_MSE(0.0039137)_SSIM11(0.6294176)_SSIM5(0.6293034).jpg',\n",
       " '/n/holyscratch01/wadduwage_lab/uom_Udith/results/aim2/important/exp_set1/name(confocal)@rotation_lambda(10.0)@lambda_scale_factor(4)@T(32)@lr_H(0.0)@H_init(randn_FourierBased)@img_size(256)@num_samples_train(3000)@upsample_net(learnable_transpose_conv)/55_L1Loss(0.0346271)_MSE(0.0037549)_SSIM11(0.6298554)_SSIM5(0.6296991).jpg',\n",
       " '/n/holyscratch01/wadduwage_lab/uom_Udith/results/aim2/important/exp_set1/name(confocal)@rotation_lambda(10.0)@lambda_scale_factor(4)@T(32)@lr_H(0.0)@H_init(randn_FourierBased)@img_size(256)@num_samples_train(3000)@upsample_net(learnable_transpose_conv)/15_L1Loss(0.0384635)_MSE(0.0054818)_SSIM11(0.6117253)_SSIM5(0.6127847).jpg',\n",
       " '/n/holyscratch01/wadduwage_lab/uom_Udith/results/aim2/important/exp_set1/name(confocal)@rotation_lambda(10.0)@lambda_scale_factor(4)@T(32)@lr_H(0.0)@H_init(randn_FourierBased)@img_size(256)@num_samples_train(3000)@upsample_net(learnable_transpose_conv)/45_L1Loss(0.0361478)_MSE(0.0045031)_SSIM11(0.6160492)_SSIM5(0.616762).jpg',\n",
       " '/n/holyscratch01/wadduwage_lab/uom_Udith/results/aim2/important/exp_set1/name(confocal)@rotation_lambda(10.0)@lambda_scale_factor(4)@T(32)@lr_H(0.0)@H_init(randn_FourierBased)@img_size(256)@num_samples_train(3000)@upsample_net(learnable_transpose_conv)/95_L1Loss(0.0341519)_MSE(0.0037703)_SSIM11(0.6300403)_SSIM5(0.6299405).jpg',\n",
       " '/n/holyscratch01/wadduwage_lab/uom_Udith/results/aim2/important/exp_set1/name(confocal)@rotation_lambda(10.0)@lambda_scale_factor(4)@T(32)@lr_H(0.0)@H_init(randn_FourierBased)@img_size(256)@num_samples_train(3000)@upsample_net(learnable_transpose_conv)/details.txt']"
      ]
     },
     "execution_count": 19,
     "metadata": {},
     "output_type": "execute_result"
    }
   ],
   "source": [
    "import glob\n",
    "\n",
    "glob.glob(f'{exp_dir}/*lambda_scale_factor(4)*T(32)*lr_H(0.0)*H_init(randn_FourierBased)*/*')"
   ]
  },
  {
   "cell_type": "code",
   "execution_count": null,
   "metadata": {},
   "outputs": [],
   "source": []
  }
 ],
 "metadata": {
  "kernelspec": {
   "display_name": "deepTFM",
   "language": "python",
   "name": "deeptfm"
  },
  "language_info": {
   "codemirror_mode": {
    "name": "ipython",
    "version": 3
   },
   "file_extension": ".py",
   "mimetype": "text/x-python",
   "name": "python",
   "nbconvert_exporter": "python",
   "pygments_lexer": "ipython3",
   "version": "3.6.12"
  }
 },
 "nbformat": 4,
 "nbformat_minor": 4
}
