{
 "cells": [
  {
   "cell_type": "code",
   "execution_count": 1,
   "metadata": {},
   "outputs": [],
   "source": [
    "%load_ext autoreload\n",
    "%autoreload 2\n"
   ]
  },
  {
   "cell_type": "code",
   "execution_count": 1,
   "metadata": {},
   "outputs": [],
   "source": [
    "import sys\n",
    "sys.path.append('../')\n",
    "\n",
    "import shutil\n",
    "from train import run\n"
   ]
  },
  {
   "cell_type": "code",
   "execution_count": 42,
   "metadata": {},
   "outputs": [],
   "source": [
    "def do_exps(Ts, rotation_lambdas, lr_Hs, lambda_scale_factors, device):\n",
    "    exp_idx=0\n",
    "    for T in Ts:\n",
    "        for rotation_lambda in rotation_lambdas:\n",
    "            for lr_H in lr_Hs:\n",
    "                for lambda_scale_factor in lambda_scale_factors:\n",
    "                    exp_idx+=1\n",
    "\n",
    "                    name= f'exp_idx({exp_idx})'\n",
    "                    save_dir= f'figs/mnistv6/T({T})@rotation_lambda({rotation_lambda})@lr_H({lr_H})@lambda_scale_factor({lambda_scale_factor})'\n",
    "                    H_enable_train=str(lr_H=='0.0')\n",
    "                    \n",
    "                    try:shutil.rmtree(save_dir)\n",
    "                    except:pass\n",
    "\n",
    "                    opts = [\n",
    "                        'NAME', name,\n",
    "                        'GENERAL.device', device,\n",
    "                        'GENERAL.save_dir', save_dir,\n",
    "                        'MODEL.MODEL_H.T', T,\n",
    "                        'MODEL.MODEL_H.lr_H', lr_H,\n",
    "                        'MODEL.MODEL_H.enable_train', H_enable_train,\n",
    "                        'MODEL.MODEL_A.scale_factor', lambda_scale_factor,\n",
    "                        'MODEL.MODEL_A.rotation_lambda',rotation_lambda,\n",
    "                    ]\n",
    "\n",
    "                    run(opts= opts)"
   ]
  },
  {
   "cell_type": "code",
   "execution_count": 46,
   "metadata": {},
   "outputs": [
    {
     "name": "stdout",
     "output_type": "stream",
     "text": [
      "Overide opts :  ['NAME', 'exp_idx(1)', 'GENERAL.device', 'cuda:2', 'GENERAL.save_dir', 'figs/mnistv6/T(1)@rotation_lambda(10.0)@lr_H(0.0)@lambda_scale_factor(1)', 'MODEL.MODEL_H.T', '1', 'MODEL.MODEL_H.lr_H', '0.0', 'MODEL.MODEL_H.enable_train', 'True', 'MODEL.MODEL_A.scale_factor', '1', 'MODEL.MODEL_A.rotation_lambda', '10.0']\n",
      "DATASET:\n",
      "  batch_size: 32\n",
      "  delta: 1e-06\n",
      "  img_channels: 1\n",
      "  img_size: 32\n",
      "GENERAL:\n",
      "  device: cuda:2\n",
      "  save_dir: figs/mnistv6/T(1)@rotation_lambda(10.0)@lr_H(0.0)@lambda_scale_factor(1)\n",
      "  torch_seed: 10\n",
      "MODEL:\n",
      "  MODEL_A:\n",
      "    exPSF: torch.tensor(get_gaussian(side_len=5, s=1)).float().to(device)\n",
      "    noise: True\n",
      "    rotation_lambda: 10.0\n",
      "    sPSF: torch.tensor(get_gaussian(side_len=5, s=1)).float().to(device)\n",
      "    scale_factor: 1\n",
      "    shift_lambda_real: 10.0\n",
      "  MODEL_DECODER:\n",
      "    channel_list: [24, 12, 8, 4, 2]\n",
      "    last_activation: None\n",
      "    lr_decoder: 0.001\n",
      "  MODEL_H:\n",
      "    H_activation: sigmoid_custom\n",
      "    H_complex_init: False\n",
      "    H_init: fft\n",
      "    H_weight_preprocess: ifft_2d_with_fftshift_real\n",
      "    T: 1\n",
      "    enable_train: True\n",
      "    initialization_bias: 0\n",
      "    lr_H: 0.0\n",
      "NAME: exp_idx(1)\n",
      "TRAIN:\n",
      "  classifier: None\n",
      "  criterion: nn.L1Loss().to(device)\n",
      "  epochs: 100\n",
      "  m_inc_proc: inc_m_class(epoch_threshold= 30, epoch_steps= 8)\n",
      "  rescale_for_classifier: None\n",
      "  show_results_epoch: 1\n",
      "  train_H_iter: 1\n",
      "  train_model_iter: 1\n"
     ]
    },
    {
     "ename": "RuntimeError",
     "evalue": "CUDA error: invalid device ordinal",
     "output_type": "error",
     "traceback": [
      "\u001b[0;31m---------------------------------------------------------------------------\u001b[0m",
      "\u001b[0;31mRuntimeError\u001b[0m                              Traceback (most recent call last)",
      "\u001b[0;32m<ipython-input-46-23cde6a95376>\u001b[0m in \u001b[0;36m<module>\u001b[0;34m\u001b[0m\n\u001b[1;32m      6\u001b[0m \u001b[0mlambda_scale_factors\u001b[0m\u001b[0;34m=\u001b[0m \u001b[0;34m[\u001b[0m\u001b[0;34m'1'\u001b[0m\u001b[0;34m,\u001b[0m \u001b[0;34m'2'\u001b[0m\u001b[0;34m,\u001b[0m \u001b[0;34m'3'\u001b[0m\u001b[0;34m,\u001b[0m \u001b[0;34m'4'\u001b[0m\u001b[0;34m]\u001b[0m\u001b[0;34m\u001b[0m\u001b[0;34m\u001b[0m\u001b[0m\n\u001b[1;32m      7\u001b[0m \u001b[0;34m\u001b[0m\u001b[0m\n\u001b[0;32m----> 8\u001b[0;31m \u001b[0mdo_exps\u001b[0m\u001b[0;34m(\u001b[0m\u001b[0mTs\u001b[0m\u001b[0;34m,\u001b[0m \u001b[0mrotation_lambdas\u001b[0m\u001b[0;34m,\u001b[0m \u001b[0mlr_Hs\u001b[0m\u001b[0;34m,\u001b[0m \u001b[0mlambda_scale_factors\u001b[0m\u001b[0;34m,\u001b[0m \u001b[0mdevice\u001b[0m\u001b[0;34m)\u001b[0m\u001b[0;34m\u001b[0m\u001b[0;34m\u001b[0m\u001b[0m\n\u001b[0m",
      "\u001b[0;32m<ipython-input-42-c9ae3feb8ad5>\u001b[0m in \u001b[0;36mdo_exps\u001b[0;34m(Ts, rotation_lambdas, lr_Hs, lambda_scale_factors, device)\u001b[0m\n\u001b[1;32m     25\u001b[0m                     ]\n\u001b[1;32m     26\u001b[0m \u001b[0;34m\u001b[0m\u001b[0m\n\u001b[0;32m---> 27\u001b[0;31m                     \u001b[0mrun\u001b[0m\u001b[0;34m(\u001b[0m\u001b[0mopts\u001b[0m\u001b[0;34m=\u001b[0m \u001b[0mopts\u001b[0m\u001b[0;34m)\u001b[0m\u001b[0;34m\u001b[0m\u001b[0;34m\u001b[0m\u001b[0m\n\u001b[0m",
      "\u001b[0;32m~/project_udith/aim2/train.py\u001b[0m in \u001b[0;36mrun\u001b[0;34m(config_file, opts)\u001b[0m\n\u001b[1;32m     65\u001b[0m \u001b[0;34m\u001b[0m\u001b[0m\n\u001b[1;32m     66\u001b[0m     \u001b[0;31m## params to A\u001b[0m\u001b[0;34m\u001b[0m\u001b[0;34m\u001b[0m\u001b[0;34m\u001b[0m\u001b[0m\n\u001b[0;32m---> 67\u001b[0;31m     \u001b[0msPSF\u001b[0m\u001b[0;34m=\u001b[0m \u001b[0meval\u001b[0m\u001b[0;34m(\u001b[0m\u001b[0mcfg\u001b[0m\u001b[0;34m.\u001b[0m\u001b[0mMODEL\u001b[0m\u001b[0;34m.\u001b[0m\u001b[0mMODEL_A\u001b[0m\u001b[0;34m.\u001b[0m\u001b[0msPSF\u001b[0m\u001b[0;34m)\u001b[0m\u001b[0;34m\u001b[0m\u001b[0;34m\u001b[0m\u001b[0m\n\u001b[0m\u001b[1;32m     68\u001b[0m     \u001b[0mexPSF\u001b[0m\u001b[0;34m=\u001b[0m \u001b[0meval\u001b[0m\u001b[0;34m(\u001b[0m\u001b[0mcfg\u001b[0m\u001b[0;34m.\u001b[0m\u001b[0mMODEL\u001b[0m\u001b[0;34m.\u001b[0m\u001b[0mMODEL_A\u001b[0m\u001b[0;34m.\u001b[0m\u001b[0mexPSF\u001b[0m\u001b[0;34m)\u001b[0m\u001b[0;34m\u001b[0m\u001b[0;34m\u001b[0m\u001b[0m\n\u001b[1;32m     69\u001b[0m     \u001b[0mnoise\u001b[0m\u001b[0;34m=\u001b[0m\u001b[0mcfg\u001b[0m\u001b[0;34m.\u001b[0m\u001b[0mMODEL\u001b[0m\u001b[0;34m.\u001b[0m\u001b[0mMODEL_A\u001b[0m\u001b[0;34m.\u001b[0m\u001b[0mnoise\u001b[0m\u001b[0;34m\u001b[0m\u001b[0;34m\u001b[0m\u001b[0m\n",
      "\u001b[0;32m~/project_udith/aim2/train.py\u001b[0m in \u001b[0;36m<module>\u001b[0;34m\u001b[0m\n",
      "\u001b[0;31mRuntimeError\u001b[0m: CUDA error: invalid device ordinal"
     ]
    }
   ],
   "source": [
    "device= 'cuda:2'\n",
    "\n",
    "Ts=['1', '2', '4', '8', '16', '32']\n",
    "rotation_lambdas= ['10.0','100.0','1000.0']\n",
    "lr_Hs= ['0.0', '0.0001', '0.001', '0.01', '0.1', '1.0', '10.0']\n",
    "lambda_scale_factors= ['3'] \n",
    "\n",
    "do_exps(Ts, rotation_lambdas, lr_Hs, lambda_scale_factors, device)"
   ]
  },
  {
   "cell_type": "code",
   "execution_count": null,
   "metadata": {},
   "outputs": [],
   "source": []
  }
 ],
 "metadata": {
  "kernelspec": {
   "display_name": "deepTFM",
   "language": "python",
   "name": "deeptfm"
  },
  "language_info": {
   "codemirror_mode": {
    "name": "ipython",
    "version": 3
   },
   "file_extension": ".py",
   "mimetype": "text/x-python",
   "name": "python",
   "nbconvert_exporter": "python",
   "pygments_lexer": "ipython3",
   "version": "3.6.12"
  }
 },
 "nbformat": 4,
 "nbformat_minor": 4
}
