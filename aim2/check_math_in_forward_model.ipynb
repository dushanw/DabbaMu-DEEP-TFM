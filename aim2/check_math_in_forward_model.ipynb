{
 "cells": [
  {
   "cell_type": "code",
   "execution_count": null,
   "metadata": {
    "colab": {
     "base_uri": "https://localhost:8080/",
     "height": 671
    },
    "executionInfo": {
     "elapsed": 2501,
     "status": "ok",
     "timestamp": 1621155680835,
     "user": {
      "displayName": "Udith Haputhanthri",
      "photoUrl": "https://lh3.googleusercontent.com/a-/AOh14GgdAtVVmDFOeesHiPyslaX9NW9ijHN3b6d888ZX6ks=s64",
      "userId": "03629779488105059696"
     },
     "user_tz": -330
    },
    "id": "B-lA-WgeZxMY",
    "outputId": "acf59c03-a4e9-4f94-b103-0d8d8127faf1"
   },
   "outputs": [],
   "source": [
    "# check math in forward_A model\n",
    "\n",
    "import torch\n",
    "from torch.nn import functional as F\n",
    "from numpy import pi, exp, sqrt\n",
    "import numpy as np\n",
    "import matplotlib.pyplot as plt\n",
    "\n",
    "\n",
    "def get_gaussian(side_len=5, s=1):\n",
    "    k= (side_len-1)//2\n",
    "    probs = [exp(-z*z/(2*s*s))/sqrt(2*pi*s*s) for z in range(-k,k+1)] \n",
    "    kernel = np.outer(probs, probs)\n",
    "    return kernel\n",
    "\n",
    "X= torch.randn((10, 1, 32, 32))#torch.ones((10, 1, 32, 32)) \n",
    "Ht = torch.randn((1, 1, 32, 32))#torch.zeros((1, 1, 32, 32)) \n",
    "sPSF = torch.tensor(get_gaussian(side_len=5, s=1)).float().view(1,1,5,5)\n",
    "exPSF=torch.tensor(get_gaussian(side_len=5, s=1)).float().view(1,1,5,5)\n",
    "\n",
    "\n",
    "#X: (m, 1, Nx, Ny), Ht: (1, 1, Nx, Ny), sPSF: (N1, N1), exPSF: (N2, N2)\n",
    "\n",
    "A1= F.conv2d(Ht, exPSF, padding= 2)\n",
    "\n",
    "plt.figure()\n",
    "plt.subplot(1,3,1)\n",
    "plt.imshow(Ht[0,0].detach().numpy(), cmap='gray', vmin=0, vmax=1)\n",
    "plt.title('Ht')\n",
    "plt.subplot(1,3,2)\n",
    "plt.imshow(exPSF[0,0].detach().numpy())\n",
    "plt.title('exPSF')\n",
    "plt.subplot(1,3,3)\n",
    "plt.imshow(A1[0,0].detach().numpy(), cmap='gray', vmin=0, vmax=1)\n",
    "plt.title('A1')\n",
    "plt.suptitle(f'Ht : {Ht.shape}, exPSF : {exPSF.shape}, A1(OUT) : {A1.shape}')\n",
    "plt.show()\n",
    "\n",
    "\n",
    "A2= A1*X\n",
    "\n",
    "plt.figure()\n",
    "plt.subplot(1,3,1)\n",
    "plt.imshow(A1[0,0].detach().numpy(), cmap='gray', vmin=0, vmax=1)\n",
    "plt.title('A1')\n",
    "plt.subplot(1,3,2)\n",
    "plt.imshow(X[0,0].detach().numpy(), cmap='gray', vmin=0, vmax=1)\n",
    "plt.title('X')\n",
    "plt.subplot(1,3,3)\n",
    "plt.imshow(A2[0,0].detach().numpy(), cmap='gray', vmin=0, vmax=1)\n",
    "plt.title('A2')\n",
    "plt.suptitle(f'A1 {A1.shape}, X : {X.shape}, A2(OUT) {A2.shape}')\n",
    "plt.show()\n",
    "\n",
    "yt= F.conv2d(A2, sPSF, padding= 2)\n",
    "\n",
    "plt.figure()\n",
    "plt.subplot(1,3,1)\n",
    "plt.imshow(A2[0,0].detach().numpy(), cmap='gray', vmin=0, vmax=1)\n",
    "plt.title('A2')\n",
    "plt.subplot(1,3,2)\n",
    "plt.imshow(sPSF[0,0].detach().numpy())\n",
    "plt.title('sPSF')\n",
    "plt.subplot(1,3,3)\n",
    "plt.imshow(yt[0,0].detach().numpy(), cmap='gray', vmin=0, vmax=1)\n",
    "plt.title('yt')\n",
    "plt.suptitle(f'A2 {A2.shape}, sPSF : {sPSF.shape}, yt(OUT) {yt.shape}')\n",
    "plt.show()\n"
   ]
  },
  {
   "cell_type": "code",
   "execution_count": null,
   "metadata": {
    "colab": {
     "base_uri": "https://localhost:8080/"
    },
    "executionInfo": {
     "elapsed": 994,
     "status": "ok",
     "timestamp": 1621155695243,
     "user": {
      "displayName": "Udith Haputhanthri",
      "photoUrl": "https://lh3.googleusercontent.com/a-/AOh14GgdAtVVmDFOeesHiPyslaX9NW9ijHN3b6d888ZX6ks=s64",
      "userId": "03629779488105059696"
     },
     "user_tz": -330
    },
    "id": "3N7AJVTxZ20l",
    "outputId": "d350c66c-0c50-48aa-cb42-e798aeafab01"
   },
   "outputs": [],
   "source": [
    "print(A1.shape, X.shape)\n",
    "print((A1*X == A1.repeat(10, 1, 1, 1)*X).sum(), X.shape, 'they are same')\n",
    "print(A1.repeat(10, 1, 1, 1).shape)"
   ]
  },
  {
   "cell_type": "markdown",
   "metadata": {},
   "source": [
    "## Forward model- value check"
   ]
  },
  {
   "cell_type": "code",
   "execution_count": 1,
   "metadata": {},
   "outputs": [
    {
     "name": "stdout",
     "output_type": "stream",
     "text": [
      "range(H): [4.70000013592653e-05, 0.002400000113993883] || range(X): [0.0, 1.0]\n",
      "sample from normal : input(lambda) range : [5.48548050574027e-05, 0.0010308248456567526]\n",
      "sample from normal : output(sample) range : [-0.1158958375453949, 0.1288934201002121]\n",
      "yt range : -0.1158958375453949, 0.1288934201002121\n"
     ]
    }
   ],
   "source": [
    "import torch\n",
    "from modules.models.forward_model import forward_modelA\n",
    "from modules.kernels import get_gaussian\n",
    "\n",
    "\n",
    "device = 'cuda'\n",
    "X= torch.randint(0, 256, (32, 1, 32, 32))/255 #make positive\n",
    "H = torch.randint(45, 2402, (1, 1, 32, 32))/1000000\n",
    "sPSF = torch.tensor(get_gaussian(side_len=5, s=1)).float()\n",
    "exPSF=torch.tensor(get_gaussian(side_len=5, s=1)).float()\n",
    "\n",
    "yt = forward_modelA(X, H, sPSF, exPSF, device, noise=True)\n",
    "print(f'yt range : {yt.min()}, {yt.max()}')"
   ]
  },
  {
   "cell_type": "code",
   "execution_count": null,
   "metadata": {},
   "outputs": [],
   "source": []
  }
 ],
 "metadata": {
  "colab": {
   "authorship_tag": "ABX9TyNgcbeNfDu79oR9d5CV+ny1",
   "collapsed_sections": [],
   "name": "check_math_in_forward_model.ipynb",
   "provenance": []
  },
  "kernelspec": {
   "display_name": "deepTFM",
   "language": "python",
   "name": "deeptfm"
  },
  "language_info": {
   "codemirror_mode": {
    "name": "ipython",
    "version": 3
   },
   "file_extension": ".py",
   "mimetype": "text/x-python",
   "name": "python",
   "nbconvert_exporter": "python",
   "pygments_lexer": "ipython3",
   "version": "3.6.12"
  }
 },
 "nbformat": 4,
 "nbformat_minor": 4
}
