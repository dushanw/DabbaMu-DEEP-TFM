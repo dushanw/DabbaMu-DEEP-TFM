{
 "cells": [
  {
   "cell_type": "markdown",
   "metadata": {},
   "source": [
    "## This notebook might not be worked: due to changing of modules"
   ]
  },
  {
   "cell_type": "code",
   "execution_count": 1,
   "metadata": {
    "executionInfo": {
     "elapsed": 3474,
     "status": "ok",
     "timestamp": 1621158243868,
     "user": {
      "displayName": "Udith Haputhanthri",
      "photoUrl": "https://lh3.googleusercontent.com/a-/AOh14GgdAtVVmDFOeesHiPyslaX9NW9ijHN3b6d888ZX6ks=s64",
      "userId": "03629779488105059696"
     },
     "user_tz": -330
    },
    "id": "z35s4kMVeDHf"
   },
   "outputs": [],
   "source": [
    "import torch\n",
    "import torchvision\n",
    "import shutil \n",
    "\n",
    "batch_size= 32\n",
    "\n",
    "train_loader = torch.utils.data.DataLoader(\n",
    "    torchvision.datasets.MNIST('../datasets/mnist', train=True, download=True,\n",
    "                             transform=torchvision.transforms.Compose([\n",
    "                                torchvision.transforms.Resize([32, 32]),\n",
    "                                torchvision.transforms.ToTensor(),\n",
    "                                #torchvision.transforms.Normalize(\n",
    "                                # (0.5,), (0.5,))\n",
    "                             ])),\n",
    "  batch_size=batch_size, shuffle=True)\n",
    "\n",
    "test_loader = torch.utils.data.DataLoader(\n",
    "  torchvision.datasets.MNIST('../datasets/mnist', train=False, download=True,\n",
    "                             transform=torchvision.transforms.Compose([\n",
    "                                torchvision.transforms.Resize([32, 32]),\n",
    "                                torchvision.transforms.ToTensor(),\n",
    "                                #torchvision.transforms.Normalize(\n",
    "                                # (0.5,), (0.5,))\n",
    "                             ])),\n",
    "  batch_size=16, shuffle=False, drop_last= True)"
   ]
  },
  {
   "cell_type": "code",
   "execution_count": 2,
   "metadata": {
    "colab": {
     "base_uri": "https://localhost:8080/"
    },
    "executionInfo": {
     "elapsed": 1791,
     "status": "ok",
     "timestamp": 1621158244859,
     "user": {
      "displayName": "Udith Haputhanthri",
      "photoUrl": "https://lh3.googleusercontent.com/a-/AOh14GgdAtVVmDFOeesHiPyslaX9NW9ijHN3b6d888ZX6ks=s64",
      "userId": "03629779488105059696"
     },
     "user_tz": -330
    },
    "id": "eaCKWnP9PbuG",
    "outputId": "d4f43747-3da7-45c8-e58a-e02d52173a5c"
   },
   "outputs": [
    {
     "data": {
      "text/plain": [
       "<All keys matched successfully>"
      ]
     },
     "execution_count": 2,
     "metadata": {},
     "output_type": "execute_result"
    }
   ],
   "source": [
    "import torch\n",
    "import shutil \n",
    "import numpy as np\n",
    "from torch import nn\n",
    "from modules.kernels import get_gaussian\n",
    "from modules.models.decoder import simple_generator\n",
    "from modules.models.forward_model import forward_modelA\n",
    "from modules.models.forward_H import modelH\n",
    "from modules.train_utils_v2 import train\n",
    "from modules.custom_activations import inc_m\n",
    "import matplotlib.pyplot as plt\n",
    "from modules.models.preprocess_H_weights import ifft, fft\n",
    "from modules.noise import poisson_noise\n",
    "from modules.models.classifiers import simple_mnist_classifier\n",
    "\n",
    "device='cuda' if torch.cuda.is_available() else 'cpu'\n",
    "\n",
    "classifier = simple_mnist_classifier(32).to(device)\n",
    "classifier.load_state_dict(torch.load('saved_models/mnist_classifier.pth', map_location=device)['model_state_dict'])"
   ]
  },
  {
   "cell_type": "code",
   "execution_count": 3,
   "metadata": {
    "colab": {
     "base_uri": "https://localhost:8080/",
     "height": 1000
    },
    "executionInfo": {
     "elapsed": 601212,
     "status": "error",
     "timestamp": 1621158849605,
     "user": {
      "displayName": "Udith Haputhanthri",
      "photoUrl": "https://lh3.googleusercontent.com/a-/AOh14GgdAtVVmDFOeesHiPyslaX9NW9ijHN3b6d888ZX6ks=s64",
      "userId": "03629779488105059696"
     },
     "user_tz": -330
    },
    "id": "woYFunyY2BKQ",
    "outputId": "63c261cc-7d62-4826-df35-933b3feabdf5"
   },
   "outputs": [],
   "source": [
    "img_size= 32\n",
    "m_inc_epoc= 1\n",
    "\n",
    "def inc_m_2(m, epoch):return inc_m(m, epoch, 2)\n",
    "\n",
    "sPSF= torch.tensor(get_gaussian(side_len=5, s=1)).float().to(device)\n",
    "exPSF= torch.tensor(get_gaussian(side_len=5, s=1)).float().to(device)\n",
    "\n",
    "criterion= nn.L1Loss().to(device)\n",
    "train_model_iter, train_H_iter= 1, 1\n",
    "epochs=100\n",
    "show_results_epoch=10"
   ]
  },
  {
   "cell_type": "markdown",
   "metadata": {},
   "source": [
    "## Test run"
   ]
  },
  {
   "cell_type": "code",
   "execution_count": null,
   "metadata": {},
   "outputs": [],
   "source": [
    "T=5\n",
    "H_complex_init =False\n",
    "H_weight_preprocess=  None\n",
    "m_inc_proc =inc_m\n",
    "\n",
    "decoder= simple_generator(T, img_size).to(device)\n",
    "opt_model= torch.optim.Adam(decoder.parameters(), lr= 0.001)\n",
    "\n",
    "H_generator = modelH(T, 32, H_weight_preprocess, H_complex_init, device).to(device)\n",
    "opt_H= torch.optim.Adam(H_generator.parameters(), lr= 0.001)\n",
    "\n",
    "noise= poisson_noise(0.026, device)\n",
    "train(decoder, forward_modelA, H_generator, sPSF, exPSF, criterion, [opt_model, opt_H], train_loader, test_loader, device, T, epochs, 1, train_model_iter, train_H_iter, m_inc_epoc, m_inc_proc, None, noise, classifier)\n"
   ]
  },
  {
   "cell_type": "markdown",
   "metadata": {},
   "source": [
    "## Experiments"
   ]
  },
  {
   "cell_type": "code",
   "execution_count": 5,
   "metadata": {},
   "outputs": [],
   "source": [
    "#!rm -rf figs/mnist\n",
    "#!mkdir figs/mnist"
   ]
  },
  {
   "cell_type": "code",
   "execution_count": null,
   "metadata": {
    "id": "3ocwDD7Senzb"
   },
   "outputs": [
    {
     "name": "stdout",
     "output_type": "stream",
     "text": [
      "\n",
      "\n",
      "RUNNING EXPERIMENT :: figs/mnist/m_inc_proc(inc_m)@T(16)@H_complex_init(True)@H_weight_preprocess(fft)@poisson_rate(0.001)\n",
      "device : cuda\n",
      "m : 1\n"
     ]
    }
   ],
   "source": [
    "Ts=[2, 3, 5, 16]\n",
    "H_complex_inits = [True, False]\n",
    "H_weight_preprocesses=  [None, fft, ifft, torch.abs]\n",
    "m_inc_procs =  [inc_m, None]\n",
    "poisson_rates= [0.001, 0.01, 0.02, 0.03, 0.05] #0.1, 0.5, 1.0]\n",
    "\n",
    "for H_complex_init in H_complex_inits:\n",
    "    for T in Ts:\n",
    "        for m_inc_proc in m_inc_procs:\n",
    "            #if  H_complex_init==True and T==2 and m_inc_proc==None:continue\n",
    "            for H_weight_preprocess in H_weight_preprocesses:\n",
    "                if H_weight_preprocess==None and H_complex_init==True:continue\n",
    "                for rate in poisson_rates:\n",
    "                    #if m_inc_proc==None and H_weight_preprocess==fft:continue\n",
    "                    #if m_inc_proc==None and H_weight_preprocess==ifft and rate in [0.001, 0.01, 0.02]:continue\n",
    "                    try:\n",
    "                        \n",
    "                        if H_weight_preprocess ==None:H_weight_preprocess_name = 'None'\n",
    "                        else:H_weight_preprocess_name = H_weight_preprocess.__name__\n",
    "                        if m_inc_proc==None:m_inc_proc_name = 'None'\n",
    "                        else:m_inc_proc_name = m_inc_proc.__name__\n",
    "                        \n",
    "                        save_dir= f'figs/mnist/m_inc_proc({m_inc_proc_name})@T({T})@H_complex_init({H_complex_init})@H_weight_preprocess({H_weight_preprocess_name})@poisson_rate({rate})'\n",
    "                        print(f'\\n\\nRUNNING EXPERIMENT :: {save_dir}')\n",
    "                        \n",
    "                        try:shutil.rmtree(save_dir)\n",
    "                        except:pass\n",
    "                        \n",
    "                        \n",
    "                        decoder= simple_generator(T, img_size).to(device)\n",
    "                        opt_model= torch.optim.Adam(decoder.parameters(), lr= 0.001)\n",
    "\n",
    "                        H_generator = modelH(T, 32, H_weight_preprocess, H_complex_init, device).to(device)\n",
    "                        opt_H= torch.optim.Adam(H_generator.parameters(), lr= 0.001)\n",
    "\n",
    "                        noise= poisson_noise(rate, device)\n",
    "                        train(decoder, forward_modelA, H_generator, sPSF, exPSF, criterion, [opt_model, opt_H], train_loader, test_loader, device, T, epochs, show_results_epoch, train_model_iter, train_H_iter, m_inc_epoc, m_inc_proc, save_dir, noise, classifier)\n",
    "\n",
    "                    except:\n",
    "                        print(f'ERROR :: figs/mnist/m_inc_proc({m_inc_proc_name})@T({T})@H_complex_init({H_complex_init})@H_weight_preprocess({H_weight_preprocess_name})@poisson_rate({rate})')\n",
    "                        pass"
   ]
  },
  {
   "cell_type": "code",
   "execution_count": null,
   "metadata": {},
   "outputs": [],
   "source": []
  },
  {
   "cell_type": "code",
   "execution_count": null,
   "metadata": {},
   "outputs": [],
   "source": []
  },
  {
   "cell_type": "code",
   "execution_count": null,
   "metadata": {},
   "outputs": [],
   "source": []
  }
 ],
 "metadata": {
  "accelerator": "GPU",
  "colab": {
   "authorship_tag": "ABX9TyNlngsMumwO0ELYc0goA2jq",
   "collapsed_sections": [],
   "name": "preprocess_H_weights_2.ipynb",
   "provenance": []
  },
  "kernelspec": {
   "display_name": "deepTFM",
   "language": "python",
   "name": "deeptfm"
  },
  "language_info": {
   "codemirror_mode": {
    "name": "ipython",
    "version": 3
   },
   "file_extension": ".py",
   "mimetype": "text/x-python",
   "name": "python",
   "nbconvert_exporter": "python",
   "pygments_lexer": "ipython3",
   "version": "3.6.12"
  }
 },
 "nbformat": 4,
 "nbformat_minor": 4
}
