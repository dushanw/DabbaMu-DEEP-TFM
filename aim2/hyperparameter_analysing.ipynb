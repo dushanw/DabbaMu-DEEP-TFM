{
 "cells": [
  {
   "cell_type": "code",
   "execution_count": 12,
   "metadata": {},
   "outputs": [
    {
     "name": "stdout",
     "output_type": "stream",
     "text": [
      "range :  0.10000000149011612 1.100000023841858\n"
     ]
    }
   ],
   "source": [
    "import torch\n",
    "import torchvision\n",
    "import shutil \n",
    "\n",
    "\n",
    "mean = -0.1\n",
    "std=1\n",
    "img_size= 32\n",
    "\n",
    "batch_size= 32\n",
    "train_loader = torch.utils.data.DataLoader(\n",
    "    torchvision.datasets.MNIST('../datasets/mnist', train=True, download=True,\n",
    "                             transform=torchvision.transforms.Compose([\n",
    "                                torchvision.transforms.Resize([img_size, img_size]),\n",
    "                                torchvision.transforms.ToTensor(),\n",
    "                                torchvision.transforms.Normalize(\n",
    "                                 (mean,), (std,))\n",
    "                             ])),\n",
    "  batch_size=batch_size, shuffle=True)\n",
    "\n",
    "for x,y in train_loader:\n",
    "    break\n",
    "    \n",
    "vmin= x.min().item()\n",
    "vmax= x.max().item()\n",
    "print('range : ',vmin, vmax)"
   ]
  },
  {
   "cell_type": "code",
   "execution_count": 21,
   "metadata": {},
   "outputs": [
    {
     "name": "stdout",
     "output_type": "stream",
     "text": [
      "The autoreload extension is already loaded. To reload it, use:\n",
      "  %reload_ext autoreload\n"
     ]
    }
   ],
   "source": [
    "%load_ext autoreload\n",
    "%autoreload 2\n",
    "\n",
    "import torch\n",
    "import shutil \n",
    "import numpy as np\n",
    "from torch import nn\n",
    "from modules.kernels import get_gaussian\n",
    "from modules.models.forward_model import forward_modelA\n",
    "from modules.models.forward_H import modelH\n",
    "from modules.custom_activations import inc_m, sigmoid_custom2_with_translation, unit_func\n",
    "import matplotlib.pyplot as plt\n",
    "from modules.models.preprocess_H_weights import ifft, fft, fft_2d, ifft_2d, fft_2d_with_fftshift, ifft_2d_with_fftshift\n",
    "from modules.noise import poisson_noise\n",
    "\n",
    "\n",
    "device= 'cpu'\n",
    "\n",
    "sPSF= torch.tensor(get_gaussian(side_len=5, s=1)).float().to(device)\n",
    "exPSF= torch.tensor(get_gaussian(side_len=5, s=1)).float().to(device)"
   ]
  },
  {
   "cell_type": "markdown",
   "metadata": {},
   "source": [
    "## Notes: How to obtain different stages of the forward model\n",
    "\n",
    "1. Ht= W (When H_weight_preproc, H_activation= unit_func)\n",
    "2. Ht= Tau (When H_Activation= unit_func)\n",
    "3. Ht= Ht\n",
    "4. yt= lambda (When noise= False)\n",
    "5. yt= yt"
   ]
  },
  {
   "cell_type": "code",
   "execution_count": 33,
   "metadata": {},
   "outputs": [
    {
     "name": "stdout",
     "output_type": "stream",
     "text": [
      "complex, Real range : \n",
      "range : [-88.36544799804688, 84.13050842285156]\n"
     ]
    }
   ],
   "source": [
    "from modules.custom_activations import sigmoid_custom\n",
    "from modules.models.preprocess_H_weights import ifft_2d_with_fftshift_real, identity\n",
    "\n",
    "T=16\n",
    "img_size=32\n",
    "H_weight_preprocess= [identity, ifft_2d_with_fftshift_real][0]\n",
    "H_complex_init= False\n",
    "device= 'cpu'\n",
    "initialization_bias=0\n",
    "H_activation= [unit_func, sigmoid_custom][0]\n",
    "H_init= 'fft'\n",
    "\n",
    "H_generator = modelH(T, img_size = img_size, preprocess_H_weights= H_weight_preprocess, complex_init=H_complex_init, device = device, initialization_bias=initialization_bias, activation = H_activation, init_method= H_init)\n",
    "\n",
    "Ht=H_generator()\n",
    "\n",
    "if Ht.dtype == torch.float32: \n",
    "    print('not complex : ')\n",
    "    print(f'range : [{Ht.min()}, {Ht.max()}]')\n",
    "else:\n",
    "    print('complex, Real range : ')\n",
    "    print(f'range : [{Ht.real.min()}, {Ht.real.max()}]')"
   ]
  },
  {
   "cell_type": "code",
   "execution_count": 44,
   "metadata": {},
   "outputs": [],
   "source": [
    "\n",
    "def sigmoid_custom2_with_translation(x, m, c=10, p=100, q=6):\n",
    "    x_dash= p*x+ q\n",
    "    return 1/(1+torch.exp(-m*x_dash + m*c))\n",
    "\n",
    "def translation(x, m, p=100, q=6):\n",
    "    return p*x+q\n",
    "\n",
    "H_complex_init= True\n",
    "X= x\n",
    "initialization_bias= 0\n",
    "T= 16\n",
    "m=1\n",
    "\n",
    "####### change below hyper parameters\n",
    "H_weight_preprocess= ifft_2d_with_fftshift \n",
    "H_activation= unit_func #sigmoid_custom2_with_translation \n",
    "noise= True\n",
    "######\n",
    "\n",
    "H_generator = modelH(T, img_size, H_weight_preprocess, H_complex_init, device, initialization_bias, activation = H_activation)\n",
    "Ht= H_generator(m)\n",
    "yt = forward_modelA(X, Ht, sPSF, exPSF, device, noise, K=1000)"
   ]
  },
  {
   "cell_type": "code",
   "execution_count": 45,
   "metadata": {},
   "outputs": [
    {
     "name": "stdout",
     "output_type": "stream",
     "text": [
      "torch.Size([1, 16, 32, 32])\n",
      "range of Ht : [0.0004083238309249282, 0.10464558005332947]\n",
      "mu, sigma of Ht : [0.02774956449866295, 0.014504166319966316]\n"
     ]
    }
   ],
   "source": [
    "print(Ht.shape)\n",
    "print(f'range of Ht : [{Ht.min()}, {Ht.max()}]')\n",
    "print(f'mu, sigma of Ht : [{Ht.mean()}, {Ht.std()}]')"
   ]
  },
  {
   "cell_type": "code",
   "execution_count": 43,
   "metadata": {},
   "outputs": [
    {
     "name": "stdout",
     "output_type": "stream",
     "text": [
      "torch.Size([1, 5, 32, 32])\n",
      "range of Ht : [0.00016941285866778344, 0.08868453651666641]\n",
      "mu, sigma of Ht : [0.027535330504179, 0.01456360798329115]\n"
     ]
    }
   ],
   "source": [
    "print(Ht.shape)\n",
    "print(f'range of Ht : [{Ht.min()}, {Ht.max()}]')\n",
    "print(f'mu, sigma of Ht : [{Ht.mean()}, {Ht.std()}]')"
   ]
  },
  {
   "cell_type": "code",
   "execution_count": 9,
   "metadata": {},
   "outputs": [
    {
     "data": {
      "image/png": "[encoded data removed]",
      "text/plain": [
       "<Figure size 432x288 with 1 Axes>"
      ]
     },
     "metadata": {
      "needs_background": "light"
     },
     "output_type": "display_data"
    },
    {
     "name": "stdout",
     "output_type": "stream",
     "text": [
      "tensor(0.0005, grad_fn=<MinBackward1>) tensor(0.0861, grad_fn=<MaxBackward1>)\n"
     ]
    },
    {
     "data": {
      "image/png": "[encoded data removed]",
      "text/plain": [
       "<Figure size 432x288 with 1 Axes>"
      ]
     },
     "metadata": {
      "needs_background": "light"
     },
     "output_type": "display_data"
    },
    {
     "name": "stdout",
     "output_type": "stream",
     "text": [
      "tensor(-0.0025, grad_fn=<MinBackward1>) tensor(0.0244, grad_fn=<MaxBackward1>)\n"
     ]
    }
   ],
   "source": [
    "#plt.imshow(x[0,0])\n",
    "#plt.show()\n",
    "plt.imshow(Ht[0,0].detach().cpu().numpy())\n",
    "plt.show()\n",
    "print(Ht[0,0].min(), Ht[0,0].max())\n",
    "plt.imshow(yt[0,0].detach().cpu().numpy())\n",
    "plt.show()\n",
    "print(yt[0,0].min(), yt[0,0].max())\n"
   ]
  },
  {
   "cell_type": "markdown",
   "metadata": {},
   "source": [
    "## Visualization: Poisson Noise vs Normal Approx.\n",
    "\n",
    "Conclusions:\n",
    "\n",
    "* Both are in same range when min(K*X)>10"
   ]
  },
  {
   "cell_type": "code",
   "execution_count": 123,
   "metadata": {},
   "outputs": [
    {
     "data": {
      "image/png": "[encoded data removed]",
      "text/plain": [
       "<Figure size 1080x216 with 3 Axes>"
      ]
     },
     "metadata": {
      "needs_background": "light"
     },
     "output_type": "display_data"
    }
   ],
   "source": [
    "K= 100\n",
    "\n",
    "z= torch.randn_like(X)  \n",
    "X_poisson= torch.poisson(X[0,0]*K)\n",
    "X_normal = K*(X + torch.sqrt(X/K)*z) \n",
    "\n",
    "\n",
    "plt.figure(figsize= (15, 3))\n",
    "plt.subplot(1,3,1)\n",
    "plt.imshow(X[0,0])\n",
    "plt.title(f'Real image : {np.round(X[0,0].min().item(), 2)}, {np.round(X[0,0].max().item(), 2)}')\n",
    "plt.subplot(1,3,2)\n",
    "plt.imshow(X_normal[0,0])\n",
    "plt.title(f'Real + Poisson noise : {np.round(X_normal[0,0].min().item(), 2)}, {np.round(X_normal[0,0].max().item(), 2)}')\n",
    "plt.subplot(1,3,3)\n",
    "plt.imshow(noisy)\n",
    "plt.title(f'Real + Normal approx. noise : {np.round(X_poisson.min().item(), 2)}, {np.round(X_poisson.max().item(), 2)}')\n",
    "plt.show()\n"
   ]
  },
  {
   "cell_type": "markdown",
   "metadata": {},
   "source": [
    "## Check forward model with scaling"
   ]
  },
  {
   "cell_type": "code",
   "execution_count": 33,
   "metadata": {},
   "outputs": [
    {
     "name": "stdout",
     "output_type": "stream",
     "text": [
      "downscaled lambda : torch.Size([32, 5, 32, 32])\n",
      "upscaled yt : torch.Size([32, 5, 32, 32])\n",
      "torch.Size([32, 5, 32, 32])\n"
     ]
    }
   ],
   "source": [
    "from modules.models.forward_model import forward_modelA\n",
    "\n",
    "device = 'cpu'\n",
    "X= torch.randn((32, 1, 32, 32))\n",
    "H= torch.randn((1, 5, 32, 32))\n",
    "\n",
    "sPSF= torch.tensor(get_gaussian(side_len=5, s=1)).float().to(device)\n",
    "exPSF= torch.tensor(get_gaussian(side_len=5, s=1)).float().to(device)\n",
    "\n",
    "\n",
    "yt = forward_modelA(X, H, sPSF, exPSF, device, noise=True, K=10, scale_factor=1)\n",
    "print(yt.shape)"
   ]
  },
  {
   "cell_type": "markdown",
   "metadata": {},
   "source": [
    "## Check new decoder"
   ]
  },
  {
   "cell_type": "code",
   "execution_count": null,
   "metadata": {},
   "outputs": [],
   "source": [
    "from modules.models.decoder import genv1\n",
    "\n",
    "img_size=32\n",
    "img_channels=7\n",
    "T=5\n",
    "channel_list=[10,3,2,1, 11]\n",
    "yt= torch.randn((32, T, img_size, img_size))\n",
    "\n",
    "genv1(T, img_size, img_channels, channel_list)"
   ]
  },
  {
   "cell_type": "markdown",
   "metadata": {},
   "source": [
    "## Create large images and generate patches"
   ]
  },
  {
   "cell_type": "code",
   "execution_count": 48,
   "metadata": {},
   "outputs": [],
   "source": [
    "import torch\n",
    "import torchvision\n",
    "import shutil \n",
    "\n",
    "\n",
    "mean = 0\n",
    "std=1\n",
    "\n",
    "img_size=32\n",
    "torch.manual_seed(10)\n",
    "train_loader = torch.utils.data.DataLoader(\n",
    "    torchvision.datasets.MNIST('../datasets/mnist', train=True, download=True,\n",
    "                             transform=torchvision.transforms.Compose([\n",
    "                                torchvision.transforms.Resize([img_size, img_size]),\n",
    "                                torchvision.transforms.ToTensor(),\n",
    "                                torchvision.transforms.Normalize(\n",
    "                                 (mean,), (std,))\n",
    "                             ])),\n",
    "  batch_size=60000, shuffle=True)\n",
    "\n",
    "val_test_loader = torch.utils.data.DataLoader(\n",
    "  torchvision.datasets.MNIST('../datasets/mnist', train=False, download=True,\n",
    "                             transform=torchvision.transforms.Compose([\n",
    "                                torchvision.transforms.Resize([img_size, img_size]),\n",
    "                                torchvision.transforms.ToTensor(),\n",
    "                                torchvision.transforms.Normalize(\n",
    "                                 (mean,), (std,))\n",
    "                             ])),\n",
    "  batch_size=10000, shuffle=True, drop_last= True)"
   ]
  },
  {
   "cell_type": "code",
   "execution_count": 51,
   "metadata": {},
   "outputs": [],
   "source": [
    "train_data, _ =next(iter(train_loader))\n",
    "val_test_data, _ =next(iter(val_test_loader))"
   ]
  },
  {
   "cell_type": "code",
   "execution_count": 50,
   "metadata": {},
   "outputs": [],
   "source": [
    "import numpy as np\n",
    "\n",
    "save_dir = f\"/n/home06/udithhaputhanthri/project_udith/datasets/mnistgrid_imgsize({img_size})\"\n",
    "\n",
    "train_grid = torchvision.utils.make_grid(train_data, padding=0, nrow= 600).permute(1,2,0).cpu().numpy()\n",
    "val_grid = torchvision.utils.make_grid(val_test_data[:5000], padding=0, nrow= 50).permute(1,2,0).cpu().numpy()\n",
    "test_grid = torchvision.utils.make_grid(val_test_data[5000:], padding=0, nrow= 50).permute(1,2,0).cpu().numpy()"
   ]
  },
  {
   "cell_type": "code",
   "execution_count": 100,
   "metadata": {},
   "outputs": [],
   "source": [
    "!rm -rf \"/n/home06/udithhaputhanthri/project_udith/datasets/mnistgrid_imgsize(32)\"\n",
    "!mkdir  \"/n/home06/udithhaputhanthri/project_udith/datasets/mnistgrid_imgsize(32)\""
   ]
  },
  {
   "cell_type": "code",
   "execution_count": 103,
   "metadata": {},
   "outputs": [],
   "source": [
    "def save_grids(data, images_per_grid, nrow_per_grid, save_dir, type_):\n",
    "    try:shutil.rmtree(f\"{save_dir}/{type_}\")\n",
    "    except:pass\n",
    "    os.mkdir(f\"{save_dir}/{type_}\")\n",
    "    for i in range(0, len(data), images_per_grid):\n",
    "        grid = torchvision.utils.make_grid(data[i:i+images_per_grid], padding=0, nrow= nrow_per_grid).permute(1,2,0).cpu().numpy()\n",
    "        \n",
    "        \n",
    "        img_save_dir = f\"{save_dir}/{type_}/{i//100+1}.jpg\"\n",
    "        plt.imsave(img_save_dir, grid)\n",
    "        \n",
    "        if i%10000==0:print(\"saving ...  : \", img_save_dir)\n"
   ]
  },
  {
   "cell_type": "code",
   "execution_count": null,
   "metadata": {},
   "outputs": [],
   "source": [
    "import os\n",
    "save_dir = f\"/n/home06/udithhaputhanthri/project_udith/datasets/mnistgrid_imgsize({img_size})\"\n",
    "\n",
    "save_grids(train_data, 100, 10, save_dir, 'train') # save 600 images\n",
    "save_grids(val_test_data[:5000], 100, 10, save_dir, 'val') # save 50 images\n",
    "save_grids(val_test_data[5000:], 100, 10, save_dir, 'test') # save 50 images"
   ]
  },
  {
   "cell_type": "markdown",
   "metadata": {},
   "source": [
    "## Create a dataloader for load new imagesglob.glob(f\"{img_dir}/{type_}/*.jpg\")"
   ]
  },
  {
   "cell_type": "code",
   "execution_count": 125,
   "metadata": {},
   "outputs": [],
   "source": [
    "import torch\n",
    "import matplotlib.pyplot as plt\n",
    "import torchvision\n",
    "import numpy as np\n",
    "from PIL import Image\n",
    "import glob\n",
    "\n",
    "class mnistgrid_getdataset(torch.utils.data.Dataset):\n",
    "    def __init__(self, img_size= 32, type_= 'train', img_dir= \"/n/home06/udithhaputhanthri/project_udith/datasets/mnistgrid_imgsize(32)\"):\n",
    "        super(mnistgrid_getdataset, self).__init__()\n",
    "        self.img_list = glob.glob(f\"{img_dir}/{type_}/*.jpg\")\n",
    "        \n",
    "        self.transform = transform=torchvision.transforms.Compose([\n",
    "                                torchvision.transforms.ToTensor(),\n",
    "                                torchvision.transforms.Normalize((0,), (1,)),\n",
    "                                torchvision.transforms.RandomCrop((img_size,img_size), padding=None, pad_if_needed=False, fill=0, padding_mode='constant'),\n",
    "                                torchvision.transforms.Grayscale(num_output_channels=1)])\n",
    "        \n",
    "        \n",
    "    def __len__(self):\n",
    "        return len(self.img_list)\n",
    "    \n",
    "    def __getitem__(self, idx):\n",
    "        return self.transform(Image.fromarray(plt.imread(self.img_list[idx])))"
   ]
  },
  {
   "cell_type": "code",
   "execution_count": 132,
   "metadata": {},
   "outputs": [],
   "source": [
    "img_size= 32\n",
    "train_loader = torch.utils.data.DataLoader(mnistgrid_getdataset(img_size, 'train'), batch_size=32, shuffle=True, drop_last= True)\n",
    "val_loader = torch.utils.data.DataLoader(mnistgrid_getdataset(img_size, 'val'), batch_size=32, shuffle=True, drop_last= True)\n",
    "test_loader = torch.utils.data.DataLoader(mnistgrid_getdataset(img_size, 'test'), batch_size=32, shuffle=True, drop_last= True)\n"
   ]
  },
  {
   "cell_type": "code",
   "execution_count": 133,
   "metadata": {},
   "outputs": [
    {
     "name": "stdout",
     "output_type": "stream",
     "text": [
      "torch.Size([32, 1, 32, 32])\n",
      "time : 0.3440558910369873 sec\n"
     ]
    },
    {
     "data": {
      "image/png": "[encoded data removed]",
      "text/plain": [
       "<Figure size 432x288 with 1 Axes>"
      ]
     },
     "metadata": {
      "needs_background": "light"
     },
     "output_type": "display_data"
    }
   ],
   "source": [
    "import time\n",
    "\n",
    "start= time.time()\n",
    "for x in test_loader:\n",
    "    print(x.shape)\n",
    "    plt.imshow(x[0,0])\n",
    "    \n",
    "    break\n",
    "end= time.time()\n",
    "print(f\"time : {end- start} sec\")"
   ]
  },
  {
   "cell_type": "code",
   "execution_count": null,
   "metadata": {},
   "outputs": [],
   "source": []
  }
 ],
 "metadata": {
  "kernelspec": {
   "display_name": "deepTFM",
   "language": "python",
   "name": "deeptfm"
  },
  "language_info": {
   "codemirror_mode": {
    "name": "ipython",
    "version": 3
   },
   "file_extension": ".py",
   "mimetype": "text/x-python",
   "name": "python",
   "nbconvert_exporter": "python",
   "pygments_lexer": "ipython3",
   "version": "3.6.12"
  }
 },
 "nbformat": 4,
 "nbformat_minor": 4
}
