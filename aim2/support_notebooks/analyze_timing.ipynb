{
 "cells": [
  {
   "cell_type": "code",
   "execution_count": 1,
   "metadata": {},
   "outputs": [
    {
     "name": "stdout",
     "output_type": "stream",
     "text": [
      "total number of exps : 1152\n"
     ]
    }
   ],
   "source": [
    "import os, glob\n",
    "\n",
    "exp_set_dir = 'figs/mnistv17'\n",
    "\n",
    "exp_times= []\n",
    "count= 0\n",
    "for exp_dir in glob.glob(f'{exp_set_dir}/*'):\n",
    "    if not os.path.isdir(exp_dir):continue\n",
    "        \n",
    "    details_file_dir= f\"{exp_dir}/details.txt\"\n",
    "    if not os.path.isfile(details_file_dir):continue\n",
    "        \n",
    "    with open(details_file_dir, 'r') as f:\n",
    "        data = f.read()\n",
    "    try:\n",
    "        train_loop_time = data.split('\\n')[1]\n",
    "        val_loop_time = data.split('\\n')[2]\n",
    "\n",
    "        train_time = float(train_loop_time.split(' ')[-2])\n",
    "        val_time = float(val_loop_time.split(' ')[-2])    \n",
    "\n",
    "        exp_times += [[exp_dir.split('/')[-1], [train_time, val_time]]]\n",
    "        count+=1\n",
    "    except:\n",
    "        print(exp_dir,  data)\n",
    "print(f'total number of exps : {count}')\n"
   ]
  },
  {
   "cell_type": "code",
   "execution_count": 2,
   "metadata": {},
   "outputs": [
    {
     "data": {
      "text/plain": [
       "288"
      ]
     },
     "execution_count": 2,
     "metadata": {},
     "output_type": "execute_result"
    }
   ],
   "source": [
    "1152//4"
   ]
  },
  {
   "cell_type": "code",
   "execution_count": 2,
   "metadata": {},
   "outputs": [],
   "source": [
    "to_file= ''\n",
    "for exp, times in sorted(exp_times, key= lambda x:x[1][0], reverse= True):\n",
    "    to_file+=exp+f'{\"-\"*(256- len(exp))} train time: {times[0]}\\n'"
   ]
  },
  {
   "cell_type": "code",
   "execution_count": 3,
   "metadata": {},
   "outputs": [],
   "source": [
    "exp_set_name= exp_set_dir.replace('/', '_')\n",
    "\n",
    "with open(f'./timing_{exp_set_name}.txt', 'w') as f:\n",
    "    f.write(to_file)"
   ]
  },
  {
   "cell_type": "code",
   "execution_count": null,
   "metadata": {},
   "outputs": [],
   "source": []
  }
 ],
 "metadata": {
  "kernelspec": {
   "display_name": "deepTFM",
   "language": "python",
   "name": "deeptfm"
  },
  "language_info": {
   "codemirror_mode": {
    "name": "ipython",
    "version": 3
   },
   "file_extension": ".py",
   "mimetype": "text/x-python",
   "name": "python",
   "nbconvert_exporter": "python",
   "pygments_lexer": "ipython3",
   "version": "3.6.12"
  }
 },
 "nbformat": 4,
 "nbformat_minor": 4
}
