{
 "cells": [
  {
   "cell_type": "code",
   "execution_count": 25,
   "id": "0973c2bd-f116-4eb3-94f9-ce5028978d43",
   "metadata": {},
   "outputs": [],
   "source": [
    "import glob\n",
    "from tifffile import imread\n",
    "import numpy as np\n",
    "import matplotlib.pyplot as plt\n",
    "from skimage import io\n",
    "import skimage.filters\n",
    "\n",
    "data_dir= '/n/holylfs/LABS/wadduwage_lab/Lab/wadduwage-lab-data/Confocal/20200210_confocal-3d_Seeber-lab_h2ax-cells/63xZseriesSmall'\n",
    "sample_dirs =  sorted(glob.glob(f'{data_dir}/*_w1*.stk'), key= lambda x: int(x[:-4].split('_')[-1][1:]))"
   ]
  },
  {
   "cell_type": "code",
   "execution_count": 28,
   "id": "b205869b-82b6-45f8-97b8-8cc617717b6d",
   "metadata": {},
   "outputs": [],
   "source": [
    "def show_samples(n_samples= 10, ids= None, thres_method= 500, show_imgs= True):\n",
    "    max_occur_count= []\n",
    "    for i in range(n_samples):\n",
    "        rnd_idx= rnd_ids[i]\n",
    "        print('img idx : ', rnd_idx)\n",
    "        sample_dir = sample_dirs[rnd_idx]\n",
    "        img= imread(sample_dir)\n",
    "        im_max= np.max(img, axis=0)\n",
    "\n",
    "        if type(thres_method)==float or type(thres_method)==int:\n",
    "            thres= thres_method\n",
    "        else:\n",
    "            thres = eval(thres_method)(im_max)\n",
    "\n",
    "        plt.figure(figsize= (20, 3))\n",
    "        plt.subplot(1,2,1)\n",
    "        x, y, _ = plt.hist(im_max.flatten(), density=True, bins=100)\n",
    "        max_pos= np.where(x==x.max())\n",
    "        print(f'x.max_pos: {max_pos}, y: {y[max_pos][0]}')\n",
    "        plt.xlim([0, 10000])\n",
    "        plt.axvline(x = thres, c= 'red')\n",
    "        plt.subplot(1,2,2)\n",
    "        plt.hist(im_max.flatten(), density=True, bins=100)\n",
    "        plt.xlim([0, thres])\n",
    "        if type(thres_method)==float or type(thres_method)==int:\n",
    "            plt.suptitle(f'fixed thres : {thres}')\n",
    "        else:\n",
    "            plt.suptitle(f'thres_method :: {thres_method} | thres : {thres}')\n",
    "        if show_imgs:plt.show()\n",
    "\n",
    "        plt.figure()\n",
    "        plt.imshow(np.clip(im_max, 0, thres), vmin=0, vmax= thres)\n",
    "        plt.colorbar()\n",
    "        if show_imgs:plt.show()\n",
    "        else:\n",
    "            plt.close('all')\n",
    "\n",
    "\n",
    "        max_occur_count.append(y[max_pos][0])\n",
    "    return max_occur_count\n",
    "\n",
    "class sort_thres:\n",
    "    def __init__(self, ratio= 0.98):\n",
    "        self.ratio= 0.98\n",
    "    def __call__(self, img):\n",
    "        sorted_vals = sorted(img.flatten())\n",
    "        idx = int(len(sorted_vals)*self.ratio)\n",
    "        return sorted_vals[idx]"
   ]
  },
  {
   "cell_type": "code",
   "execution_count": 34,
   "id": "52e4b3d9-5606-4839-a5bb-6b8b27b68842",
   "metadata": {},
   "outputs": [],
   "source": [
    "n_samples= 10\n",
    "rnd_ids = np.arange(50, 100) #np.random.choice(list(range(len(sample_dirs))), n_samples)  \n",
    "\n",
    "# train set: 0- 168\n",
    "# val set:  168- 189\n",
    "# test set: 189- 210"
   ]
  },
  {
   "cell_type": "code",
   "execution_count": null,
   "id": "475f9d99-7cba-4927-8b1d-a235b45010bb",
   "metadata": {},
   "outputs": [],
   "source": [
    "max_occur_count = show_samples(n_samples= 50, ids= rnd_ids, thres_method= 500, show_imgs= False)"
   ]
  },
  {
   "cell_type": "code",
   "execution_count": 36,
   "id": "f7873dee-52d2-4a44-800b-d2b5d8bd1f4a",
   "metadata": {},
   "outputs": [
    {
     "data": {
      "text/plain": [
       "132.36960000000002"
      ]
     },
     "execution_count": 36,
     "metadata": {},
     "output_type": "execute_result"
    }
   ],
   "source": [
    "np.array(max_occur_count).mean()"
   ]
  },
  {
   "cell_type": "code",
   "execution_count": 37,
   "id": "e1e8f8e1-93c7-491e-a93e-b64d2a6d6c0b",
   "metadata": {},
   "outputs": [],
   "source": [
    "# first 50 stk images: B= 134.2788\n",
    "# second 50 stk images: B= 132.3696"
   ]
  },
  {
   "cell_type": "markdown",
   "id": "f0cbd925-fa94-4bd2-a972-fcc1e7ff2ac0",
   "metadata": {},
   "source": [
    "## Conclusion\n",
    "\n",
    "Considering first 50k samples; B= 134.28"
   ]
  },
  {
   "cell_type": "code",
   "execution_count": null,
   "id": "030a2f75-7449-4d68-b537-039dd44d6fcb",
   "metadata": {},
   "outputs": [],
   "source": []
  }
 ],
 "metadata": {
  "kernelspec": {
   "display_name": "deepTFM",
   "language": "python",
   "name": "deeptfm"
  },
  "language_info": {
   "codemirror_mode": {
    "name": "ipython",
    "version": 3
   },
   "file_extension": ".py",
   "mimetype": "text/x-python",
   "name": "python",
   "nbconvert_exporter": "python",
   "pygments_lexer": "ipython3",
   "version": "3.6.12"
  }
 },
 "nbformat": 4,
 "nbformat_minor": 5
}
