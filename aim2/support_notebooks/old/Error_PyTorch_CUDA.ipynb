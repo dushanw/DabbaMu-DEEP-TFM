{
 "cells": [
  {
   "cell_type": "markdown",
   "metadata": {},
   "source": [
    "### SAME EXPERIMENT ON COLAB: https://colab.research.google.com/drive/1aDHkE02n-ahCBoQxcTCp4AldgTpQ13r3#scrollTo=Fg7NQp8Hw8LG"
   ]
  },
  {
   "cell_type": "code",
   "execution_count": 1,
   "metadata": {},
   "outputs": [],
   "source": [
    "import torch\n",
    "import torchvision\n",
    "import shutil \n",
    "\n",
    "batch_size= 32\n",
    "\n",
    "train_loader = torch.utils.data.DataLoader(\n",
    "    torchvision.datasets.MNIST('../datasets/mnist', train=True, download=True,\n",
    "                             transform=torchvision.transforms.Compose([\n",
    "                                torchvision.transforms.Resize([32, 32]),\n",
    "                                torchvision.transforms.ToTensor(),\n",
    "                                #torchvision.transforms.Normalize(\n",
    "                                # (0.5,), (0.5,))\n",
    "                             ])),\n",
    "  batch_size=batch_size, shuffle=True)\n",
    "\n",
    "test_loader = torch.utils.data.DataLoader(\n",
    "  torchvision.datasets.MNIST('../datasets/mnist', train=False, download=True,\n",
    "                             transform=torchvision.transforms.Compose([\n",
    "                                torchvision.transforms.Resize([32, 32]),\n",
    "                                torchvision.transforms.ToTensor(),\n",
    "                                #torchvision.transforms.Normalize(\n",
    "                                # (0.5,), (0.5,))\n",
    "                             ])),\n",
    "  batch_size=16, shuffle=False, drop_last= True)"
   ]
  },
  {
   "cell_type": "code",
   "execution_count": 2,
   "metadata": {},
   "outputs": [
    {
     "name": "stdout",
     "output_type": "stream",
     "text": [
      "X range : 0.0, 1.0\n",
      "Ht range : 0.06982771307229996, 0.9736600518226624\n",
      "kernel range : 0.11369909346103668, 0.8882800936698914\n",
      "A1 range (conv(Ht, kernel)) : 0.0, 8.109411239624023\n",
      "yt range (conv(A1, kernel)) : 0.0, 97.17454528808594\n"
     ]
    }
   ],
   "source": [
    "import torch\n",
    "from torch.nn import functional as F\n",
    "\n",
    "device_ = 'cuda'\n",
    "\n",
    "for X, _ in train_loader:\n",
    "    #X= torch.randint(0, 256, (1,1,32,32))/255\n",
    "    X= X.to(device_)\n",
    "    \n",
    "    Ht = torch.sigmoid(torch.randn((1, 1, 32, 32))).to(device_)\n",
    "    kernel = torch.sigmoid(torch.randn((1, 1, 5, 5))).to(device_)\n",
    "    A1= F.conv2d(Ht, kernel, padding= 2)*X\n",
    "    yt= F.conv2d(A1, kernel, padding= 2)\n",
    "    \n",
    "    print(f'X range : {X.min()}, {X.max()}')\n",
    "    print(f'Ht range : {Ht.min()}, {Ht.max()}')\n",
    "    print(f'kernel range : {kernel.min()}, {kernel.max()}')\n",
    "    print(f'A1 range (conv(Ht, kernel)) : {A1.min()}, {A1.max()}')\n",
    "    print(f'yt range (conv(A1, kernel)) : {yt.min()}, {yt.max()}')\n",
    "    break"
   ]
  },
  {
   "cell_type": "code",
   "execution_count": 8,
   "metadata": {},
   "outputs": [
    {
     "name": "stdout",
     "output_type": "stream",
     "text": [
      "/bin/bash: /nvcc: No such file or directory\n"
     ]
    }
   ],
   "source": [
    "!/nvcc  --version"
   ]
  },
  {
   "cell_type": "code",
   "execution_count": 9,
   "metadata": {},
   "outputs": [
    {
     "name": "stdout",
     "output_type": "stream",
     "text": [
      "cat: /usr/include/cudnn.h: No such file or directory\n"
     ]
    }
   ],
   "source": [
    "!cat /usr/include/cudnn.h | grep CUDNN_MAJOR -A 2\n"
   ]
  },
  {
   "cell_type": "code",
   "execution_count": 13,
   "metadata": {},
   "outputs": [
    {
     "name": "stdout",
     "output_type": "stream",
     "text": [
      "Sat May 22 16:42:24 2021       \n",
      "+-----------------------------------------------------------------------------+\n",
      "| NVIDIA-SMI 455.23.05    Driver Version: 455.23.05    CUDA Version: 11.1     |\n",
      "|-------------------------------+----------------------+----------------------+\n",
      "| GPU  Name        Persistence-M| Bus-Id        Disp.A | Volatile Uncorr. ECC |\n",
      "| Fan  Temp  Perf  Pwr:Usage/Cap|         Memory-Usage | GPU-Util  Compute M. |\n",
      "|                               |                      |               MIG M. |\n",
      "|===============================+======================+======================|\n",
      "|   0  Tesla V100-PCIE...  On   | 00000000:86:00.0 Off |                    0 |\n",
      "| N/A   38C    P0    36W / 250W |   3591MiB / 32510MiB |      0%      Default |\n",
      "|                               |                      |                  N/A |\n",
      "+-------------------------------+----------------------+----------------------+\n",
      "                                                                               \n",
      "+-----------------------------------------------------------------------------+\n",
      "| Processes:                                                                  |\n",
      "|  GPU   GI   CI        PID   Type   Process name                  GPU Memory |\n",
      "|        ID   ID                                                   Usage      |\n",
      "|=============================================================================|\n",
      "|    0   N/A  N/A     23667      C   ...a/envs/deepTFM/bin/python     1149MiB |\n",
      "|    0   N/A  N/A     31300      C   ...a/envs/deepTFM/bin/python     1219MiB |\n",
      "|    0   N/A  N/A     32282      C   ...a/envs/deepTFM/bin/python     1219MiB |\n",
      "+-----------------------------------------------------------------------------+\n"
     ]
    }
   ],
   "source": [
    "!nvidia-smi"
   ]
  },
  {
   "cell_type": "code",
   "execution_count": 14,
   "metadata": {},
   "outputs": [
    {
     "data": {
      "text/plain": [
       "'1.8.1'"
      ]
     },
     "execution_count": 14,
     "metadata": {},
     "output_type": "execute_result"
    }
   ],
   "source": [
    "torch.__version__"
   ]
  },
  {
   "cell_type": "code",
   "execution_count": null,
   "metadata": {},
   "outputs": [],
   "source": []
  }
 ],
 "metadata": {
  "kernelspec": {
   "display_name": "deepTFM",
   "language": "python",
   "name": "deeptfm"
  },
  "language_info": {
   "codemirror_mode": {
    "name": "ipython",
    "version": 3
   },
   "file_extension": ".py",
   "mimetype": "text/x-python",
   "name": "python",
   "nbconvert_exporter": "python",
   "pygments_lexer": "ipython3",
   "version": "3.6.12"
  }
 },
 "nbformat": 4,
 "nbformat_minor": 4
}
