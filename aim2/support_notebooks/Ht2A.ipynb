{
 "cells": [
  {
   "cell_type": "code",
   "execution_count": 1,
   "metadata": {
    "id": "3KJr0JZ-8iys"
   },
   "outputs": [],
   "source": [
    "import torch\n",
    "import numpy as np\n",
    "from torch.nn import functional as F\n",
    "import time\n",
    "\n",
    "def get_yt_map_idx_grid(img_size, scale_factor):\n",
    "    yt_img_size= img_size//scale_factor\n",
    "    yt_idx_grid= torch.arange(yt_img_size**2).reshape(yt_img_size, yt_img_size)\n",
    "    yt_map_idx_grid_flatten= torch.tile(yt_idx_grid, (scale_factor,scale_factor,1,1)).permute(2, 0, 3, 1).reshape(img_size, img_size).flatten()\n",
    "\n",
    "    return yt_map_idx_grid_flatten\n",
    "\n",
    "def convert_Ht2A(Ht, lambda_scale_factor):\n",
    "    \"\"\"\n",
    "    Convert Ht to sparse matrix A/ forward model matrix including downsampling\n",
    "\n",
    "    Ht.shape: [1, T, img_size, img_size]\n",
    "    X.shape: [n_imgs, 1, img_size, img_size]\n",
    "    \"\"\"\n",
    "    img_size= Ht.shape[2]\n",
    "    T= Ht.shape[1]\n",
    "    scale_factor= 2**(lambda_scale_factor-1)\n",
    "    yt_img_size= img_size//scale_factor\n",
    "\n",
    "    Ht_flatten= Ht.reshape(-1) #shape: (T*img_size*img_size, )\n",
    "    A= torch.zeros(T, yt_img_size**2, img_size**2).float() #shape: (T, yt_img_size**2, img_size**2)  ## CAUTION: MEMORY HUNGRY- 1 !!!\n",
    "\n",
    "    yt_map_idx_grid_flatten= get_yt_map_idx_grid(img_size, scale_factor) #shape: (img_size, img_size)\n",
    "\n",
    "    depth= torch.tile(torch.arange(T).reshape(1, -1), (img_size*img_size, 1)).T.reshape(-1)\n",
    "    column= torch.tile(torch.arange(img_size*img_size), (T,)) \n",
    "    row= torch.tile(yt_map_idx_grid_flatten[np.arange(img_size*img_size)], (T,))\n",
    "    \n",
    "    A= A.index_put(indices=[depth, row, column], values=Ht_flatten.float()).unsqueeze(dim=0) ## CAUTION: MEMORY HUNGRY- 3 !!!\n",
    "    return A"
   ]
  },
  {
   "cell_type": "code",
   "execution_count": 2,
   "metadata": {
    "colab": {
     "base_uri": "https://localhost:8080/"
    },
    "id": "igtWteG5SFSp",
    "outputId": "caac674d-787a-4016-b690-7f4f5c135df8"
   },
   "outputs": [
    {
     "name": "stdout",
     "output_type": "stream",
     "text": [
      "MatrixA shape: (1, 4, 4, 16)\n",
      "tot. memory requirement for MatrixA : 1.024e-06 GB !!! \n"
     ]
    }
   ],
   "source": [
    "img_size= 4\n",
    "lambda_scale_factor= 2\n",
    "T=4\n",
    "\n",
    "scale_factor= 2**(lambda_scale_factor-1)\n",
    "yt_img_size= img_size//scale_factor\n",
    "\n",
    "print(f'MatrixA shape: {(1, T, yt_img_size**2, img_size**2)}')\n",
    "print(f'tot. memory requirement for MatrixA : {(T*yt_img_size**2*img_size**2)*4*1e-9} GB !!! ')\n",
    "\n",
    "\n",
    "Ht= torch.randint(0, 10, (1, T, img_size, img_size))\n",
    "A= convert_Ht2A(Ht, lambda_scale_factor)\n",
    "X= torch.randint(0, 150, (32, 1, img_size, img_size)).float()\n",
    "#X= torch.randn(32, 1, img_size, img_size)"
   ]
  },
  {
   "cell_type": "code",
   "execution_count": 3,
   "metadata": {},
   "outputs": [
    {
     "data": {
      "image/png": "[encoded data removed]",
      "text/plain": [
       "<Figure size 432x288 with 1 Axes>"
      ]
     },
     "metadata": {
      "needs_background": "light"
     },
     "output_type": "display_data"
    },
    {
     "data": {
      "image/png": "[encoded data removed]",
      "text/plain": [
       "<Figure size 432x288 with 1 Axes>"
      ]
     },
     "metadata": {
      "needs_background": "light"
     },
     "output_type": "display_data"
    }
   ],
   "source": [
    "import matplotlib.pyplot as plt\n",
    "plt.imshow(Ht[0,0])\n",
    "plt.show()\n",
    "plt.imshow(A[0, 1])\n",
    "plt.show()"
   ]
  },
  {
   "cell_type": "code",
   "execution_count": 4,
   "metadata": {
    "colab": {
     "base_uri": "https://localhost:8080/"
    },
    "id": "DaK34h4NXlHM",
    "outputId": "3c05fe8b-bd54-4887-cf41-ea05476a8f51"
   },
   "outputs": [
    {
     "name": "stdout",
     "output_type": "stream",
     "text": [
      "is identical : True\n",
      "is close (how much) : 1.0\n"
     ]
    }
   ],
   "source": [
    "upscale_method1= (F.avg_pool2d((Ht*X), (scale_factor, scale_factor))*(scale_factor**2))\n",
    "upscale_method2 = (A @ X.float().flatten(start_dim= 2).unsqueeze(dim=3)).reshape(-1, T, yt_img_size, yt_img_size)\n",
    "\n",
    "print(f'is identical : {(upscale_method1== upscale_method2).all()}')\n",
    "print(f'is close (how much) : {torch.isclose(upscale_method1, upscale_method2).float().mean()}')"
   ]
  },
  {
   "cell_type": "markdown",
   "metadata": {
    "id": "a53pwah92z9p"
   },
   "source": [
    "# Testing"
   ]
  },
  {
   "cell_type": "code",
   "execution_count": 5,
   "metadata": {
    "id": "-C-brXRy36LE"
   },
   "outputs": [],
   "source": [
    "from torch import nn"
   ]
  },
  {
   "cell_type": "markdown",
   "metadata": {
    "id": "XGNyOBfr21rK"
   },
   "source": [
    "## 1. Upsampling initialization (only) using A.transpose()\n",
    "\n"
   ]
  },
  {
   "cell_type": "code",
   "execution_count": 6,
   "metadata": {
    "colab": {
     "base_uri": "https://localhost:8080/"
    },
    "id": "9JsqoeY9zon3",
    "outputId": "5aba2ef2-ad92-4709-a9d5-c968f9751faa"
   },
   "outputs": [
    {
     "name": "stdout",
     "output_type": "stream",
     "text": [
      "initial, upscaled shapes : torch.Size([32, 4, 2, 2]) | torch.Size([32, 4, 4, 4])\n"
     ]
    }
   ],
   "source": [
    "yt= torch.randint(0, 150, (32, T, yt_img_size, yt_img_size)).float()\n",
    "batch_size= yt.shape[0]\n",
    "\n",
    "Ht= torch.randn(1, T, img_size, img_size)\n",
    "A= convert_Ht2A(Ht, lambda_scale_factor)\n",
    "A_transpose= nn.Parameter(A.permute(0,1,3,2), requires_grad= True) # Get transpose for upsampling (Approx for inverse(A))\n",
    "yt_upscaled = (A_transpose @ yt.flatten(start_dim= 2).unsqueeze(dim=3)).reshape(-1, T, img_size, img_size)\n",
    "print(f'initial, upscaled shapes : {yt.shape} | {yt_upscaled.shape}')\n",
    "\n",
    "yt_upscaled.sum().backward()"
   ]
  },
  {
   "cell_type": "markdown",
   "metadata": {
    "id": "pagAnv8K28dl"
   },
   "source": [
    "## 2. Learning Ht through Upsampling using A.transpose()"
   ]
  },
  {
   "cell_type": "code",
   "execution_count": 7,
   "metadata": {
    "colab": {
     "base_uri": "https://localhost:8080/"
    },
    "id": "u_u8_ST60qcM",
    "outputId": "04482a93-6f39-4f90-a9de-9df134c2ceef"
   },
   "outputs": [
    {
     "name": "stdout",
     "output_type": "stream",
     "text": [
      "initial, upscaled shapes : torch.Size([32, 4, 2, 2]) | torch.Size([32, 4, 4, 4])\n"
     ]
    }
   ],
   "source": [
    "yt= torch.randint(0, 150, (32, T, yt_img_size, yt_img_size)).float()\n",
    "batch_size= yt.shape[0]\n",
    "\n",
    "Ht= nn.Parameter(torch.randn(1, T, img_size, img_size), requires_grad= True)\n",
    "A= convert_Ht2A(Ht, lambda_scale_factor)\n",
    "A_transpose= A.permute(0,1,3,2) # Get transpose for upsampling (Approx for inverse(A))\n",
    "yt_upscaled = (A_transpose @ yt.flatten(start_dim= 2).unsqueeze(dim=3)).reshape(-1, T, img_size, img_size)\n",
    "print(f'initial, upscaled shapes : {yt.shape} | {yt_upscaled.shape}')\n",
    "\n",
    "yt_upscaled.sum().backward()"
   ]
  },
  {
   "cell_type": "code",
   "execution_count": 8,
   "metadata": {
    "id": "762HD8Vw2WsM"
   },
   "outputs": [
    {
     "data": {
      "text/plain": [
       "torch.Size([32, 4, 16, 1])"
      ]
     },
     "execution_count": 8,
     "metadata": {},
     "output_type": "execute_result"
    }
   ],
   "source": [
    "(A_transpose @ yt.flatten(start_dim= 2).unsqueeze(dim=3)).shape"
   ]
  },
  {
   "cell_type": "code",
   "execution_count": 9,
   "metadata": {},
   "outputs": [
    {
     "data": {
      "text/plain": [
       "torch.Size([1, 4, 4, 16])"
      ]
     },
     "execution_count": 9,
     "metadata": {},
     "output_type": "execute_result"
    }
   ],
   "source": [
    "A.shape"
   ]
  },
  {
   "cell_type": "markdown",
   "metadata": {},
   "source": [
    "# Correction\n",
    "\n",
    "1. Previous:\n",
    "\n",
    "    1. A.shape: (1, T, yt_img_size^2, img_size^2)\n",
    "    2. Transpose(A).shape: (1, T, img_size^2, yt_img_size^2) -> Transpose of last 2 dims of A, So will be done separately for each channel/ T\n",
    "    3. yt.shape: (batch_size, T, yt_img_size^2, 1)\n",
    "    4. X_recon.shape (or yt_rescaled.shape): (batch_size, T, img_size^2, 1)\n",
    "\n",
    "\n",
    "2. New:\n",
    "    1. A.shape: (1, **T*yt_img_size^2**, img_size^2) -> no separate dimension for T !!! (Can obtain this A matrix by concatenating dim= 1, 2 of previous A)\n",
    "    2. Transpose(A).shape: (1, img_size^2, **T*yt_img_size^2**) -> Transpose the whole 2D matrix which includes different Ts as well.\n",
    "    3. yt.shape: (batch_size, **T*yt_img_size^2**, 1) -> No separate dimension for T !!!\n",
    "    4. X_recon.shape (or yt_rescaled.shape): **(batch_size, img_size^2, 1)** -> No dimension for T. All the channels have mixed up !!!\n",
    "\n"
   ]
  },
  {
   "cell_type": "code",
   "execution_count": 10,
   "metadata": {},
   "outputs": [
    {
     "name": "stdout",
     "output_type": "stream",
     "text": [
      "MatrixA shape: (1, 4, 4, 16)\n",
      "tot. memory requirement for MatrixA : 1.024e-06 GB !!! \n"
     ]
    },
    {
     "data": {
      "image/png": "[encoded data removed]",
      "text/plain": [
       "<Figure size 432x288 with 1 Axes>"
      ]
     },
     "metadata": {
      "needs_background": "light"
     },
     "output_type": "display_data"
    },
    {
     "data": {
      "image/png": "[encoded data removed]",
      "text/plain": [
       "<Figure size 432x288 with 1 Axes>"
      ]
     },
     "metadata": {
      "needs_background": "light"
     },
     "output_type": "display_data"
    }
   ],
   "source": [
    "from torch import nn\n",
    "import torch\n",
    "\n",
    "img_size= 4\n",
    "lambda_scale_factor= 2\n",
    "T=4\n",
    "\n",
    "scale_factor= 2**(lambda_scale_factor-1)\n",
    "yt_img_size= img_size//scale_factor\n",
    "\n",
    "print(f'MatrixA shape: {(1, T, yt_img_size**2, img_size**2)}')\n",
    "print(f'tot. memory requirement for MatrixA : {(T*yt_img_size**2*img_size**2)*4*1e-9} GB !!! ')\n",
    "\n",
    "\n",
    "Ht= torch.randint(10, 20, (1, T, img_size, img_size))\n",
    "A= convert_Ht2A(Ht, lambda_scale_factor)\n",
    "X= torch.randint(0, 150, (32, 1, img_size, img_size)).float()\n",
    "#X= torch.randn(32, 1, img_size, img_size)\n",
    "\n",
    "yt= torch.randint(0, 150, (32, T, yt_img_size, yt_img_size)).float()\n",
    "batch_size= yt.shape[0]\n",
    "\n",
    "\n",
    "import matplotlib.pyplot as plt\n",
    "plt.imshow(Ht[0,0])\n",
    "plt.show()\n",
    "plt.imshow(A[0, 1])\n",
    "plt.show()"
   ]
  },
  {
   "cell_type": "code",
   "execution_count": 11,
   "metadata": {},
   "outputs": [
    {
     "name": "stdout",
     "output_type": "stream",
     "text": [
      "tensor(True)\n",
      "tensor(True)\n",
      "tensor(True)\n",
      "tensor(True)\n"
     ]
    },
    {
     "data": {
      "image/png": "[encoded data removed]",
      "text/plain": [
       "<Figure size 432x288 with 1 Axes>"
      ]
     },
     "metadata": {
      "needs_background": "light"
     },
     "output_type": "display_data"
    },
    {
     "data": {
      "text/plain": [
       "<matplotlib.image.AxesImage at 0x2b3e4a707b70>"
      ]
     },
     "execution_count": 11,
     "metadata": {},
     "output_type": "execute_result"
    },
    {
     "data": {
      "image/png": "[encoded data removed]",
      "text/plain": [
       "<Figure size 432x288 with 1 Axes>"
      ]
     },
     "metadata": {
      "needs_background": "light"
     },
     "output_type": "display_data"
    }
   ],
   "source": [
    "A_transpose_special= A.reshape(1, T*yt_img_size**2, img_size**2).permute(0, 2, 1)\n",
    "for i in range(T):\n",
    "    print((A[0, i]== A_transpose_special[0].T[i*T:(i+1)*T]).all())\n",
    "    \n",
    "plt.imshow(A[0,0])\n",
    "plt.show()\n",
    "plt.imshow(A_transpose_special[0])"
   ]
  },
  {
   "cell_type": "code",
   "execution_count": 13,
   "metadata": {},
   "outputs": [
    {
     "name": "stdout",
     "output_type": "stream",
     "text": [
      "initial, upscaled shapes : torch.Size([32, 4, 2, 2]) | torch.Size([32, 1, 4, 4])\n"
     ]
    }
   ],
   "source": [
    "#Ht= torch.randn(1, T, img_size, img_size)\n",
    "A= convert_Ht2A(Ht, lambda_scale_factor)\n",
    "A_transpose_special= A.reshape(1, T*yt_img_size**2, img_size**2).permute(0, 2, 1)\n",
    "yt_upscaled = (A_transpose_special @ yt.flatten(start_dim= 1).unsqueeze(dim=2)).reshape(batch_size, 1, img_size, img_size)\n",
    "print(f'initial, upscaled shapes : {yt.shape} | {yt_upscaled.shape}')\n",
    "\n",
    "#yt_upscaled.sum().backward()"
   ]
  },
  {
   "cell_type": "markdown",
   "metadata": {},
   "source": [
    "### Compare using Previous"
   ]
  },
  {
   "cell_type": "code",
   "execution_count": 15,
   "metadata": {},
   "outputs": [
    {
     "name": "stdout",
     "output_type": "stream",
     "text": [
      "MatrixA shape: (1, 8, 64, 1024)\n",
      "tot. memory requirement for MatrixA : 0.002097152 GB !!! \n"
     ]
    }
   ],
   "source": [
    "img_size= 32\n",
    "lambda_scale_factor= 3\n",
    "T=8\n",
    "\n",
    "scale_factor= 2**(lambda_scale_factor-1)\n",
    "yt_img_size= img_size//scale_factor\n",
    "\n",
    "print(f'MatrixA shape: {(1, T, yt_img_size**2, img_size**2)}')\n",
    "print(f'tot. memory requirement for MatrixA : {(T*yt_img_size**2*img_size**2)*4*1e-9} GB !!! ')\n",
    "\n",
    "\n",
    "Ht= torch.randint(10, 20, (1, T, img_size, img_size))\n",
    "A= convert_Ht2A(Ht, lambda_scale_factor)\n",
    "X= torch.randint(0, 150, (32, 1, img_size, img_size)).float()\n",
    "\n",
    "yt= torch.randint(0, 150, (32, T, yt_img_size, yt_img_size)).float()\n",
    "batch_size= yt.shape[0]"
   ]
  },
  {
   "cell_type": "code",
   "execution_count": 16,
   "metadata": {},
   "outputs": [
    {
     "name": "stdout",
     "output_type": "stream",
     "text": [
      "Created `yt` which have non-zero values only in the region which multiply with T=0 section in transposed-A \n",
      "is True : new_upscaled yt vs. previous_upscaled_yt[T=i] :  tensor(True) \n",
      "\n",
      "Created `yt` which have non-zero values only in the region which multiply with T=1 section in transposed-A \n",
      "is True : new_upscaled yt vs. previous_upscaled_yt[T=i] :  tensor(True) \n",
      "\n",
      "Created `yt` which have non-zero values only in the region which multiply with T=2 section in transposed-A \n",
      "is True : new_upscaled yt vs. previous_upscaled_yt[T=i] :  tensor(True) \n",
      "\n",
      "Created `yt` which have non-zero values only in the region which multiply with T=3 section in transposed-A \n",
      "is True : new_upscaled yt vs. previous_upscaled_yt[T=i] :  tensor(True) \n",
      "\n",
      "Created `yt` which have non-zero values only in the region which multiply with T=4 section in transposed-A \n",
      "is True : new_upscaled yt vs. previous_upscaled_yt[T=i] :  tensor(True) \n",
      "\n",
      "Created `yt` which have non-zero values only in the region which multiply with T=5 section in transposed-A \n",
      "is True : new_upscaled yt vs. previous_upscaled_yt[T=i] :  tensor(True) \n",
      "\n",
      "Created `yt` which have non-zero values only in the region which multiply with T=6 section in transposed-A \n",
      "is True : new_upscaled yt vs. previous_upscaled_yt[T=i] :  tensor(True) \n",
      "\n",
      "Created `yt` which have non-zero values only in the region which multiply with T=7 section in transposed-A \n",
      "is True : new_upscaled yt vs. previous_upscaled_yt[T=i] :  tensor(True) \n",
      "\n"
     ]
    }
   ],
   "source": [
    "A_transpose_previous= A.permute(0,1,3,2) # Get transpose for upsampling (Approx for inverse(A))\n",
    "A_transpose_special= A.reshape(1, T*yt_img_size**2, img_size**2).permute(0, 2, 1)\n",
    "\n",
    "yt_upscaled_previous = (A_transpose_previous @ yt.flatten(start_dim= 2).unsqueeze(dim=3)).reshape(-1, T, img_size, img_size)\n",
    "\n",
    "for i in range(T):\n",
    "    yt_zeros= torch.zeros(32, T * yt_img_size*yt_img_size).float()\n",
    "    yt_zeros[:, i*yt_img_size*yt_img_size: (i+1)*yt_img_size*yt_img_size]= yt[:, i].flatten(start_dim= 1)\n",
    "    print(f'Created `yt` which have non-zero values only in the region which multiply with T={i} section in transposed-A ')\n",
    "    #yt_zeros= yt.flatten(start_dim= 1)\n",
    "    \n",
    "    yt_rearranged= yt_zeros.flatten(start_dim= 1).unsqueeze(dim=2)\n",
    "    yt_upscaled_new = (A_transpose_special @ yt_rearranged).reshape(batch_size, 1, img_size, img_size)\n",
    "    print('is True : new_upscaled yt vs. previous_upscaled_yt[T=i] : ', (yt_upscaled_new[:,0]==yt_upscaled_previous[:, i]).all(), '\\n')"
   ]
  },
  {
   "cell_type": "markdown",
   "metadata": {},
   "source": [
    "## Multiple channels: for implementation"
   ]
  },
  {
   "cell_type": "code",
   "execution_count": 70,
   "metadata": {},
   "outputs": [
    {
     "name": "stdout",
     "output_type": "stream",
     "text": [
      "MatrixA shape: (1, 3, 64, 256)\n",
      "tot. memory requirement for MatrixA : 0.00019660800000000003 GB !!! \n",
      "initial, upscaled shapes : torch.Size([32, 3, 8, 8]) | torch.Size([32, 3, 16, 16])\n"
     ]
    }
   ],
   "source": [
    "from torch import nn\n",
    "import torch\n",
    "\n",
    "img_size= 16\n",
    "lambda_scale_factor= 2\n",
    "T=3\n",
    "\n",
    "scale_factor= 2**(lambda_scale_factor-1)\n",
    "yt_img_size= img_size//scale_factor\n",
    "\n",
    "print(f'MatrixA shape: {(1, T, yt_img_size**2, img_size**2)}')\n",
    "print(f'tot. memory requirement for MatrixA : {(T*yt_img_size**2*img_size**2)*4*1e-9} GB !!! ')\n",
    "\n",
    "Ht= torch.randint(10, 20, (1, T, img_size, img_size))\n",
    "X= torch.randint(0, 150, (32, 1, img_size, img_size)).float()\n",
    "yt= torch.randint(0, 150, (32, T, yt_img_size, yt_img_size)).float()\n",
    "batch_size= yt.shape[0]\n",
    "\n",
    "A= convert_Ht2A(Ht, lambda_scale_factor) # shape: (1, T, yt_img_size^2, img_size^2)\n",
    "A_transpose_special= A.reshape(1, T*yt_img_size**2, img_size**2).permute(0, 2, 1) # shape: (1, img_size^2, T*yt_img_size^2)\n",
    "A_transpose_special_tiled = torch.tile(A_transpose_special.unsqueeze(dim=1), (1, T, 1, 1))# shape: (1, T, img_size^2, T*yt_img_size^2)\n",
    "yt_flatten = yt.flatten(start_dim= 1).unsqueeze(2).unsqueeze(1) # shape: (n_samples, 1, T*yt_img_size^2, 1)\n",
    "yt_upscaled  =(A_transpose_special_tiled @ yt_flatten).reshape(batch_size, T, img_size, img_size) # shape: (n_samples, T, img_size, img_size)\n",
    " \n",
    "print(f'initial, upscaled shapes : {yt.shape} | {yt_upscaled.shape}')\n"
   ]
  },
  {
   "cell_type": "code",
   "execution_count": 71,
   "metadata": {},
   "outputs": [
    {
     "name": "stdout",
     "output_type": "stream",
     "text": [
      "same yt should be returned for each T/ channel\n",
      "Compare channel 0 with 1 :  tensor(True)\n",
      "Compare channel 0 with 2 :  tensor(True)\n"
     ]
    }
   ],
   "source": [
    "print('same yt should be returned for each T/ channel')\n",
    "for idx in range(1, T):\n",
    "    print(f'Compare channel {0} with {idx} : ',(yt_upscaled[:,0]==yt_upscaled[:,idx]).all())"
   ]
  },
  {
   "cell_type": "code",
   "execution_count": null,
   "metadata": {},
   "outputs": [],
   "source": []
  }
 ],
 "metadata": {
  "colab": {
   "collapsed_sections": [],
   "name": "Ht2A.ipynb",
   "provenance": []
  },
  "kernelspec": {
   "display_name": "deepTFM",
   "language": "python",
   "name": "deeptfm"
  },
  "language_info": {
   "codemirror_mode": {
    "name": "ipython",
    "version": 3
   },
   "file_extension": ".py",
   "mimetype": "text/x-python",
   "name": "python",
   "nbconvert_exporter": "python",
   "pygments_lexer": "ipython3",
   "version": "3.6.12"
  }
 },
 "nbformat": 4,
 "nbformat_minor": 4
}
