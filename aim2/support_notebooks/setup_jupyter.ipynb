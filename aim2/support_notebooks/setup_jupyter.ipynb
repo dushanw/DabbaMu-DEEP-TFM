{
 "cells": [
  {
   "cell_type": "code",
   "execution_count": null,
   "metadata": {},
   "outputs": [],
   "source": [
    "# run on terminal (not inside base environement !!!)\n",
    "'''\n",
    "conda create -n deepTFM python=3.6\n",
    "source activate deepTFM\n",
    "conda install -c anaconda ipykernel -y\n",
    "python -m ipykernel install --user --name=deepTFM\n",
    "## conda install pytorch torchvision torchaudio cudatoolkit=10.2 -c pytorch -> CUDA NOT GIVING CORRECT VALUES\n",
    "conda install pytorch torchvision torchaudio cudatoolkit=11.1 -c pytorch -c nvidia\n",
    "conda install -c conda-forge matplotlib\n",
    "'''"
   ]
  },
  {
   "cell_type": "code",
   "execution_count": 6,
   "metadata": {},
   "outputs": [
    {
     "name": "stdout",
     "output_type": "stream",
     "text": [
      "/n/home06/udithhaputhanthri/project_udith\n"
     ]
    }
   ],
   "source": [
    "%cd project_udith"
   ]
  },
  {
   "cell_type": "code",
   "execution_count": 7,
   "metadata": {},
   "outputs": [
    {
     "name": "stdout",
     "output_type": "stream",
     "text": [
      "Initialized empty Git repository in /n/home06/udithhaputhanthri/project_udith/.git/\n"
     ]
    }
   ],
   "source": [
    "!git init\n",
    "!git config --global user.name udithhaputhanthri\n",
    "!git config --global user.email udithhaputhanthri.official@gmail.com"
   ]
  },
  {
   "cell_type": "code",
   "execution_count": 30,
   "metadata": {},
   "outputs": [],
   "source": [
    "!mv gitignore .gitignore"
   ]
  },
  {
   "cell_type": "code",
   "execution_count": 38,
   "metadata": {},
   "outputs": [],
   "source": [
    "!rm -rf .git"
   ]
  }
 ],
 "metadata": {
  "kernelspec": {
   "display_name": "deepTFM",
   "language": "python",
   "name": "deeptfm"
  },
  "language_info": {
   "codemirror_mode": {
    "name": "ipython",
    "version": 3
   },
   "file_extension": ".py",
   "mimetype": "text/x-python",
   "name": "python",
   "nbconvert_exporter": "python",
   "pygments_lexer": "ipython3",
   "version": "3.6.12"
  }
 },
 "nbformat": 4,
 "nbformat_minor": 4
}
