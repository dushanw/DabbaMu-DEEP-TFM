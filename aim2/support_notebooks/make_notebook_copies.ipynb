{
 "cells": [
  {
   "cell_type": "code",
   "execution_count": 4,
   "metadata": {},
   "outputs": [],
   "source": [
    "import os, shutil, glob"
   ]
  },
  {
   "cell_type": "code",
   "execution_count": 5,
   "metadata": {},
   "outputs": [],
   "source": [
    "def make_copy_notebooks(notebook_dir, num_copies):\n",
    "    for idx in range(1, num_copies+1):\n",
    "        new_notebook_dir = f\"{notebook_dir[:-6]}_{idx}.ipynb\"\n",
    "        shutil.copyfile(notebook_dir, new_notebook_dir)\n",
    "    print(f'Created {num_copies} of {notebook_dir}')\n",
    "    \n",
    "def delete_copy_notebooks(notebook_dir):\n",
    "    root = '/'.join(notebook_dir.split('/')[:-1])\n",
    "    name = notebook_dir.split('/')[-1][:-6]\n",
    "    \n",
    "    copies= glob.glob(f'{root}/{name}_*.ipynb')\n",
    "    \n",
    "    if len(copies)==0:print('no copies !!!')\n",
    "        \n",
    "    for notebook in copies:\n",
    "        print(f\"removed : {notebook}\")\n",
    "        os.remove(notebook)\n",
    "        "
   ]
  },
  {
   "cell_type": "code",
   "execution_count": 6,
   "metadata": {},
   "outputs": [],
   "source": [
    "#!cp '../current_exps_notebooks/main_exps.ipynb' '../current_exps_notebooks/main_exps_randnFouierBased.ipynb'"
   ]
  },
  {
   "cell_type": "code",
   "execution_count": 14,
   "metadata": {},
   "outputs": [
    {
     "name": "stdout",
     "output_type": "stream",
     "text": [
      "Created 5 of ../current_exps_notebooks/main_exps_randnFouierBased.ipynb\n"
     ]
    }
   ],
   "source": [
    "notebook_dir = '../current_exps_notebooks/main_exps_randnFouierBased.ipynb'\n",
    "num_copies= 5\n",
    "\n",
    "make_copy_notebooks(notebook_dir, num_copies)\n",
    "#delete_copy_notebooks(notebook_dir)"
   ]
  },
  {
   "cell_type": "code",
   "execution_count": null,
   "metadata": {},
   "outputs": [],
   "source": [
    "#move results :: mv  -v /n/home06/udithhaputhanthri/project_udith/aim2/figs/* /n/holyscratch01/wadduwage_lab/uom_Udith/results/aim2/figs2/"
   ]
  },
  {
   "cell_type": "code",
   "execution_count": null,
   "metadata": {},
   "outputs": [],
   "source": [
    "#mv  -v /n/holyscratch01/wadduwage_lab/uom_Udith/results/aim2/figs/mnistv28 /n/home06/udithhaputhanthri/project_udith/aim2/figs/"
   ]
  }
 ],
 "metadata": {
  "kernelspec": {
   "display_name": "deepTFM",
   "language": "python",
   "name": "deeptfm"
  },
  "language_info": {
   "codemirror_mode": {
    "name": "ipython",
    "version": 3
   },
   "file_extension": ".py",
   "mimetype": "text/x-python",
   "name": "python",
   "nbconvert_exporter": "python",
   "pygments_lexer": "ipython3",
   "version": "3.6.12"
  }
 },
 "nbformat": 4,
 "nbformat_minor": 4
}
