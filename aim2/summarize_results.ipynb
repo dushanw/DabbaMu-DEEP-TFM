{
 "cells": [
  {
   "cell_type": "code",
   "execution_count": 21,
   "metadata": {},
   "outputs": [
    {
     "name": "stdout",
     "output_type": "stream",
     "text": [
      "The autoreload extension is already loaded. To reload it, use:\n",
      "  %reload_ext autoreload\n"
     ]
    }
   ],
   "source": [
    "%load_ext autoreload\n",
    "%autoreload 2"
   ]
  },
  {
   "cell_type": "code",
   "execution_count": 22,
   "metadata": {},
   "outputs": [],
   "source": [
    "dict_img_position = {\n",
    "    'main':[0, 200],\n",
    "    'ht':[200, 650],\n",
    "    'loss':[650, 920],\n",
    "    'overall_results':[930, 1150]}"
   ]
  },
  {
   "cell_type": "code",
   "execution_count": 23,
   "metadata": {},
   "outputs": [],
   "source": [
    "from modules.summarizing_utils.common_filter_results_methods import get_img_list\n",
    "from modules.summarizing_utils.filter_results_utils import get_available_attr\n",
    "from modules.summarizing_utils.filter_results_utils import filter_results\n",
    "\n",
    "from modules.summarizing_utils.save_imgs import save_imgs2pdf\n",
    "from modules.summarizing_utils.sorting_methods import sort_by_attr_values\n",
    "\n",
    "from modules.summarizing_utils.heatmaps import get_override_dict_list\n",
    "from modules.summarizing_utils.heatmaps import quantitative_results_HEATMAPS"
   ]
  },
  {
   "cell_type": "markdown",
   "metadata": {},
   "source": [
    "## Obtain attribute dictionary"
   ]
  },
  {
   "cell_type": "code",
   "execution_count": 24,
   "metadata": {},
   "outputs": [],
   "source": [
    "import glob"
   ]
  },
  {
   "cell_type": "code",
   "execution_count": 25,
   "metadata": {},
   "outputs": [
    {
     "name": "stdout",
     "output_type": "stream",
     "text": [
      "Incompleted exp : figs/mnistv18/errors.txt\n",
      "All exps are completed\n",
      "\n",
      "\n",
      "\n",
      "1/6 : figs/mnistv18/upsample_net_init_method(linear_default)@upsample_net(custom_v2)@lr_H(0.0)/150_L1Loss(0.0557856)_MSE(0.0210192)_SSIM11(0.7701365)_SSIM5(0.7589603).jpg\n",
      "len img dirs : 6\n",
      "img_list length :  6\n",
      "6 images are found !!!\n",
      "available keys : ['main', 'ht', 'loss', 'overall_results']\n"
     ]
    },
    {
     "data": {
      "text/plain": [
       "{'upsample_net_init_method': ['linear_default', 'randn', 'xavier_normal'],\n",
       " 'upsample_net': ['custom_v2'],\n",
       " 'lr_H': ['0.0', '1.0']}"
      ]
     },
     "execution_count": 25,
     "metadata": {},
     "output_type": "execute_result"
    }
   ],
   "source": [
    "modes = ['L1Loss', 'MSE', 'SSIM', 'SSIM11', 'SSIM5', 'last_converged']\n",
    "interested_modes = ['L1Loss', 'MSE', 'SSIM5', 'SSIM11']\n",
    "\n",
    "exp_set_dir = 'figs/mnistv18'\n",
    "\n",
    "for dir_ in glob.glob(f'{exp_set_dir}/*'):\n",
    "    if dir_.split('/')[-1]=='heatmaps' or dir_.split('/')[-1]=='_results_summaries':continue\n",
    "    for img_dir in glob.glob(f'{dir_}/*.jpg'):\n",
    "        if '150_' in img_dir:break\n",
    "    else:\n",
    "        print(f'Incompleted exp : {dir_}')\n",
    "else:\n",
    "    print('All exps are completed')\n",
    "print('\\n\\n')\n",
    "\n",
    "mode= interested_modes[0]\n",
    "img_list = get_img_list(img_dir = exp_set_dir, mode=mode)\n",
    "print('img_list length : ', len(img_list))\n",
    "dict_ = get_available_attr(img_list)\n",
    "interested_imgs = filter_results(img_list, dict_)\n",
    "print(f'available keys : {list(dict_img_position.keys())}')\n",
    "\n",
    "dict_"
   ]
  },
  {
   "cell_type": "markdown",
   "metadata": {},
   "source": [
    "## Save qualitative results and Quantitative results (HEATMAPS) to PDF"
   ]
  },
  {
   "cell_type": "code",
   "execution_count": 26,
   "metadata": {},
   "outputs": [],
   "source": [
    "dict_ = {'upsample_net': ['bicubic_interp', 'custom_v2', 'learnable_transpose_conv'],\n",
    " 'lr_H': ['0.0', '1.0']}"
   ]
  },
  {
   "cell_type": "code",
   "execution_count": 28,
   "metadata": {},
   "outputs": [],
   "source": [
    "def save_HEATMAPS(mode, img_list, exp_set_dir= None): ## CHANGE THIS \n",
    "    print(mode)    \n",
    "    plot_vars_dict = {\n",
    "         'T': ['1', '2', '4', '8', '16', '32'],\n",
    "         'lambda_scale_factor': ['1', '2', '3', '4']}\n",
    "\n",
    "    all_overrides_dict = {'img_size': ['128', '64'],\n",
    "                 'rotation_lambda': ['10.0', '100.0', '1000.0', '10000.0'],\n",
    "                 'ht_init_method': ['uniformones_FourierBased', 'randn_FourierBased', 'hadamard_FourierBased']}\n",
    "\n",
    "    overrides_dict_list = get_override_dict_list(all_overrides_dict) ## obtain all combinations of override dicts\n",
    "    quantitative_results_HEATMAPS(img_list, plot_vars_dict, overrides_dict_list, mode, save_dir = exp_set_dir)"
   ]
  },
  {
   "cell_type": "code",
   "execution_count": 29,
   "metadata": {},
   "outputs": [
    {
     "name": "stdout",
     "output_type": "stream",
     "text": [
      "1/6 : figs/mnistv18/upsample_net_init_method(linear_default)@upsample_net(custom_v2)@lr_H(0.0)/150_L1Loss(0.0557856)_MSE(0.0210192)_SSIM11(0.7701365)_SSIM5(0.7589603).jpg\n",
      "len img dirs : 6\n",
      "img_list length :  6\n",
      "6 images are found !!!\n",
      "available keys : ['main', 'ht', 'loss', 'overall_results']\n",
      "qualitative results saved : figs/mnistv18/_results_summaries/results_L1Loss.pdf\n",
      "1/6 : figs/mnistv18/upsample_net_init_method(linear_default)@upsample_net(custom_v2)@lr_H(0.0)/150_L1Loss(0.0557856)_MSE(0.0210192)_SSIM11(0.7701365)_SSIM5(0.7589603).jpg\n",
      "len img dirs : 6\n",
      "img_list length :  6\n",
      "6 images are found !!!\n",
      "available keys : ['main', 'ht', 'loss', 'overall_results']\n",
      "qualitative results saved : figs/mnistv18/_results_summaries/results_MSE.pdf\n",
      "1/6 : figs/mnistv18/upsample_net_init_method(linear_default)@upsample_net(custom_v2)@lr_H(0.0)/150_L1Loss(0.0557856)_MSE(0.0210192)_SSIM11(0.7701365)_SSIM5(0.7589603).jpg\n",
      "len img dirs : 6\n",
      "img_list length :  6\n",
      "6 images are found !!!\n",
      "available keys : ['main', 'ht', 'loss', 'overall_results']\n",
      "qualitative results saved : figs/mnistv18/_results_summaries/results_SSIM5.pdf\n",
      "1/6 : figs/mnistv18/upsample_net_init_method(linear_default)@upsample_net(custom_v2)@lr_H(0.0)/150_L1Loss(0.0557856)_MSE(0.0210192)_SSIM11(0.7701365)_SSIM5(0.7589603).jpg\n",
      "len img dirs : 6\n",
      "img_list length :  6\n",
      "6 images are found !!!\n",
      "available keys : ['main', 'ht', 'loss', 'overall_results']\n",
      "qualitative results saved : figs/mnistv18/_results_summaries/results_SSIM11.pdf\n"
     ]
    }
   ],
   "source": [
    "import shutil, os\n",
    "\n",
    "try:shutil.rmtree(f'{exp_set_dir}/_results_summaries')\n",
    "except:pass\n",
    "\n",
    "try:shutil.rmtree(f'{exp_set_dir}/heatmaps')\n",
    "except:pass\n",
    "\n",
    "os.mkdir(f'{exp_set_dir}/_results_summaries')\n",
    "\n",
    "for mode in interested_modes:\n",
    "    img_list = get_img_list(img_dir = exp_set_dir, mode=mode)\n",
    "    print('img_list length : ', len(img_list))\n",
    "\n",
    "    dict_ = get_available_attr(img_list)\n",
    "    interested_imgs = filter_results(img_list, dict_)\n",
    "    print(f'available keys : {list(dict_img_position.keys())}')\n",
    "\n",
    "    #show_results('main', dict_img_position, interested_imgs,  sort_by_attr_values)\n",
    "    #show_results('loss', dict_img_position, interested_imgs,  sort_by_attr_values)\n",
    "    #show_results('ht', dict_img_position, interested_imgs,  sort_by_attr_values)\n",
    "    #show_results('overall_results', dict_img_position, interested_imgs,  sort_by_attr_values)\n",
    "\n",
    "    img_pdf_filename = f'{exp_set_dir}/_results_summaries/results_{mode}.pdf'\n",
    "    save_imgs2pdf(interested_imgs, sorting_function= sort_by_attr_values, pdf_filename=img_pdf_filename, attr_dict= dict_)\n",
    "    print(f'qualitative results saved : {img_pdf_filename}')\n",
    "    \n",
    "    ## ABOVE attr_dict_highlrH, attr_dict_lowlrH -> ONLY CONTAIN KEYS: lr_H, interested_key1, interested_key2 || Other keys -> goes into override dicts !!!\n",
    "\n",
    "    save_HEATMAPS(mode, img_list, exp_set_dir)"
   ]
  },
  {
   "cell_type": "markdown",
   "metadata": {},
   "source": [
    "## Convert HEATMAP values to MATLAB format"
   ]
  },
  {
   "cell_type": "code",
   "execution_count": 1,
   "metadata": {},
   "outputs": [
    {
     "name": "stdout",
     "output_type": "stream",
     "text": [
      "exp_set_dir : figs/mnistv13\n"
     ]
    }
   ],
   "source": [
    "#exp_set_dir = 'figs/mnistv13'\n",
    "\n",
    "print('exp_set_dir :',exp_set_dir) \n",
    "heatmap_zipped_dir = './heatmaps_mat_files.zip' #f'{exp_set_dir}/heatmaps/heatmaps_mat_files.zip'"
   ]
  },
  {
   "cell_type": "code",
   "execution_count": null,
   "metadata": {},
   "outputs": [],
   "source": [
    "!rm -rf ./test\n",
    "!rm $heatmap_zipped_dir"
   ]
  },
  {
   "cell_type": "code",
   "execution_count": null,
   "metadata": {},
   "outputs": [],
   "source": [
    "#%%capture\n",
    "from modules.summarizing_utils.numpy2mat import zip_heatmap_vals_matlab\n",
    "zip_heatmap_vals_matlab(exp_set_dir=exp_set_dir, target_dir = heatmap_zipped_dir)"
   ]
  },
  {
   "cell_type": "code",
   "execution_count": 4,
   "metadata": {},
   "outputs": [],
   "source": [
    "%%capture\n",
    "!mkdir ./test\n",
    "!unzip $heatmap_zipped_dir -d ./test"
   ]
  },
  {
   "cell_type": "code",
   "execution_count": null,
   "metadata": {},
   "outputs": [],
   "source": [
    "!ls ./test"
   ]
  },
  {
   "cell_type": "code",
   "execution_count": 6,
   "metadata": {},
   "outputs": [
    {
     "data": {
      "text/plain": [
       "192"
      ]
     },
     "execution_count": 6,
     "metadata": {},
     "output_type": "execute_result"
    }
   ],
   "source": [
    "import os \n",
    "len(os.listdir('./test'))"
   ]
  },
  {
   "cell_type": "code",
   "execution_count": 7,
   "metadata": {},
   "outputs": [],
   "source": [
    "!rm -rf ./test\n",
    "!rm $heatmap_zipped_dir"
   ]
  }
 ],
 "metadata": {
  "kernelspec": {
   "display_name": "deepTFM",
   "language": "python",
   "name": "deeptfm"
  },
  "language_info": {
   "codemirror_mode": {
    "name": "ipython",
    "version": 3
   },
   "file_extension": ".py",
   "mimetype": "text/x-python",
   "name": "python",
   "nbconvert_exporter": "python",
   "pygments_lexer": "ipython3",
   "version": "3.6.12"
  }
 },
 "nbformat": 4,
 "nbformat_minor": 4
}
