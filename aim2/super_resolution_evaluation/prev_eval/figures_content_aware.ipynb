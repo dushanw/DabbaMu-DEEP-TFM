{
 "cells": [
  {
   "cell_type": "markdown",
   "metadata": {},
   "source": [
    "# Figures for X, X_val, Ht, yt"
   ]
  },
  {
   "cell_type": "code",
   "execution_count": 1,
   "metadata": {},
   "outputs": [],
   "source": [
    "#data_dir = f'/n/holyscratch01/wadduwage_lab/uom_Udith/results/aim2/figs_cvpr/set1'\n",
    "data_dir =  '/n/holylfs/LABS/wadduwage_lab/Lab/uom_Udith/results/aim2/figs_cvpr/set1'"
   ]
  },
  {
   "cell_type": "code",
   "execution_count": 2,
   "metadata": {},
   "outputs": [],
   "source": [
    "import torchvision\n",
    "import cv2\n",
    "def show_yt(yt):\n",
    "    #plt.figure(figsize= (15,3.2))\n",
    "    T= yt.shape[1]\n",
    "    if T>4:T=4\n",
    "    \n",
    "    yt_img= torch.ones((4, 1, yt.shape[2], yt.shape[3]))\n",
    "    yt_img[0:T, 0, :, :]= torch.from_numpy(yt[img_id, 0:T])\n",
    "    \n",
    "    yt_img = cv2.cvtColor((torchvision.utils.make_grid(yt_img, nrow= 2, padding= 1).permute(1,2,0)*255).numpy().astype('uint8'), cv2.COLOR_RGB2GRAY)/255.0\n",
    "    plt.imshow(yt_img)\n",
    "\n",
    "def show_real(x):\n",
    "    #plt.figure(figsize= (5,5))\n",
    "    plt.imshow(x[img_id,0])\n",
    "    plt.axis('off')\n",
    "    #plt.tight_layout()\n",
    "    \n",
    "def show_pred(x_pred):\n",
    "    #plt.figure(figsize= (5,5))\n",
    "    plt.imshow(x_pred[img_id,0])\n",
    "    plt.axis('off')\n",
    "    #plt.tight_layout()\n"
   ]
  },
  {
   "cell_type": "code",
   "execution_count": 3,
   "metadata": {},
   "outputs": [
    {
     "data": {
      "text/plain": [
       "'0: ht, 1: x_pred, 2: x, 3: y'"
      ]
     },
     "execution_count": 3,
     "metadata": {},
     "output_type": "execute_result"
    }
   ],
   "source": [
    "\"0: ht, 1: x_pred, 2: x, 3: y\""
   ]
  },
  {
   "cell_type": "code",
   "execution_count": 4,
   "metadata": {},
   "outputs": [],
   "source": [
    "import glob\n",
    "import numpy as np\n",
    "import matplotlib.pyplot as plt\n",
    "\n",
    "def show_all(lambda_r, lr_H, H_init, dataset_name, Ts, lambda_ss, type_ = 'pred'):\n",
    "    plt.figure(figsize = (len(Ts) * 2, 2))\n",
    "\n",
    "    for i in range(len(Ts)):\n",
    "        print(f'T : {i}')\n",
    "        T= Ts[i]\n",
    "        lambda_s= lambda_ss[i]\n",
    "        np_img_dirs = sorted(glob.glob(f'{data_dir}/name({dataset_name})@rotation_lambda({lambda_r})@lambda_scale_factor({lambda_s})@T({T})@img_size(256)@num_samples_train(3000)@upsample_net(custom_v2)@H_init({H_init})@lr_H({lr_H})/save_special/150*'))\n",
    "        print('\\n'.join(np_img_dirs))\n",
    "        print(f'T : {i} : loading')\n",
    "        if type_ == 'pred': \n",
    "            print(f'T : {i} : loading -> before np.load')\n",
    "            x_pred = np.load(np_img_dirs[1])\n",
    "            print(f'T : {i} : loading -> after np.load')\n",
    "            plt.subplot(1, len(Ts), i+1)\n",
    "            show_real(x_pred)\n",
    "        elif type_ == 'yt':\n",
    "            print(f'T : {i} : loading -> before np.load')\n",
    "            yt = np.load(np_img_dirs[3])\n",
    "            print(f'T : {i} : loading -> after np.load')\n",
    "            plt.subplot(1, len(Ts), i+1)\n",
    "            show_yt(yt)\n",
    "        print(f'T : {i} : done')\n",
    "#########\n"
   ]
  },
  {
   "cell_type": "code",
   "execution_count": 5,
   "metadata": {},
   "outputs": [
    {
     "name": "stdout",
     "output_type": "stream",
     "text": [
      "mkdir: cannot create directory ‘./figs_contentaware’: File exists\n"
     ]
    }
   ],
   "source": [
    "!mkdir ./figs_contentaware"
   ]
  },
  {
   "cell_type": "code",
   "execution_count": null,
   "metadata": {},
   "outputs": [
    {
     "name": "stdout",
     "output_type": "stream",
     "text": [
      "IMG_ID :  0\n",
      "T : 0\n",
      "/n/holylfs/LABS/wadduwage_lab/Lab/uom_Udith/results/aim2/figs_cvpr/set1/name(confocal)@rotation_lambda(10.0)@lambda_scale_factor(2)@T(4)@img_size(256)@num_samples_train(3000)@upsample_net(custom_v2)@H_init(randn_FourierBased)@lr_H(1.0)/save_special/150_Ht_val.npy\n",
      "/n/holylfs/LABS/wadduwage_lab/Lab/uom_Udith/results/aim2/figs_cvpr/set1/name(confocal)@rotation_lambda(10.0)@lambda_scale_factor(2)@T(4)@img_size(256)@num_samples_train(3000)@upsample_net(custom_v2)@H_init(randn_FourierBased)@lr_H(1.0)/save_special/150_X_hat_val.npy\n",
      "/n/holylfs/LABS/wadduwage_lab/Lab/uom_Udith/results/aim2/figs_cvpr/set1/name(confocal)@rotation_lambda(10.0)@lambda_scale_factor(2)@T(4)@img_size(256)@num_samples_train(3000)@upsample_net(custom_v2)@H_init(randn_FourierBased)@lr_H(1.0)/save_special/150_X_val.npy\n",
      "/n/holylfs/LABS/wadduwage_lab/Lab/uom_Udith/results/aim2/figs_cvpr/set1/name(confocal)@rotation_lambda(10.0)@lambda_scale_factor(2)@T(4)@img_size(256)@num_samples_train(3000)@upsample_net(custom_v2)@H_init(randn_FourierBased)@lr_H(1.0)/save_special/150_yt_val.npy\n",
      "T : 0 : loading\n",
      "T : 0 : loading -> before np.load\n",
      "T : 0 : loading -> after np.load\n",
      "T : 0 : done\n",
      "T : 1\n",
      "/n/holylfs/LABS/wadduwage_lab/Lab/uom_Udith/results/aim2/figs_cvpr/set1/name(confocal)@rotation_lambda(10.0)@lambda_scale_factor(3)@T(4)@img_size(256)@num_samples_train(3000)@upsample_net(custom_v2)@H_init(randn_FourierBased)@lr_H(1.0)/save_special/150_Ht_val.npy\n",
      "/n/holylfs/LABS/wadduwage_lab/Lab/uom_Udith/results/aim2/figs_cvpr/set1/name(confocal)@rotation_lambda(10.0)@lambda_scale_factor(3)@T(4)@img_size(256)@num_samples_train(3000)@upsample_net(custom_v2)@H_init(randn_FourierBased)@lr_H(1.0)/save_special/150_X_hat_val.npy\n",
      "/n/holylfs/LABS/wadduwage_lab/Lab/uom_Udith/results/aim2/figs_cvpr/set1/name(confocal)@rotation_lambda(10.0)@lambda_scale_factor(3)@T(4)@img_size(256)@num_samples_train(3000)@upsample_net(custom_v2)@H_init(randn_FourierBased)@lr_H(1.0)/save_special/150_X_val.npy\n",
      "/n/holylfs/LABS/wadduwage_lab/Lab/uom_Udith/results/aim2/figs_cvpr/set1/name(confocal)@rotation_lambda(10.0)@lambda_scale_factor(3)@T(4)@img_size(256)@num_samples_train(3000)@upsample_net(custom_v2)@H_init(randn_FourierBased)@lr_H(1.0)/save_special/150_yt_val.npy\n",
      "T : 1 : loading\n",
      "T : 1 : loading -> before np.load\n",
      "T : 1 : loading -> after np.load\n",
      "T : 1 : done\n",
      "T : 2\n",
      "/n/holylfs/LABS/wadduwage_lab/Lab/uom_Udith/results/aim2/figs_cvpr/set1/name(confocal)@rotation_lambda(10.0)@lambda_scale_factor(3)@T(1)@img_size(256)@num_samples_train(3000)@upsample_net(custom_v2)@H_init(randn_FourierBased)@lr_H(1.0)/save_special/150_Ht_val.npy\n",
      "/n/holylfs/LABS/wadduwage_lab/Lab/uom_Udith/results/aim2/figs_cvpr/set1/name(confocal)@rotation_lambda(10.0)@lambda_scale_factor(3)@T(1)@img_size(256)@num_samples_train(3000)@upsample_net(custom_v2)@H_init(randn_FourierBased)@lr_H(1.0)/save_special/150_X_hat_val.npy\n",
      "/n/holylfs/LABS/wadduwage_lab/Lab/uom_Udith/results/aim2/figs_cvpr/set1/name(confocal)@rotation_lambda(10.0)@lambda_scale_factor(3)@T(1)@img_size(256)@num_samples_train(3000)@upsample_net(custom_v2)@H_init(randn_FourierBased)@lr_H(1.0)/save_special/150_X_val.npy\n",
      "/n/holylfs/LABS/wadduwage_lab/Lab/uom_Udith/results/aim2/figs_cvpr/set1/name(confocal)@rotation_lambda(10.0)@lambda_scale_factor(3)@T(1)@img_size(256)@num_samples_train(3000)@upsample_net(custom_v2)@H_init(randn_FourierBased)@lr_H(1.0)/save_special/150_yt_val.npy\n",
      "T : 2 : loading\n",
      "T : 2 : loading -> before np.load\n"
     ]
    }
   ],
   "source": [
    "\n",
    "type_ = 'pred'\n",
    "for img_id in [0]:#, 3, 5, 7, 10, 16, 17, 20,23\n",
    "    #########\n",
    "    print('IMG_ID : ',img_id)\n",
    "    #show_real(np.load(sorted(glob.glob(f'{data_dir}/*/save_special/150*'))[2]))\n",
    "    #plt.savefig(f'./figs_contentaware/{img_id}_gt.png', dpi= 300)\n",
    "    \n",
    "    lambda_r = '10.0'\n",
    "    dataset_name = 'confocal'\n",
    "\n",
    "    H_init= 'randn_FourierBased'\n",
    "    lr_H= '1.0'\n",
    "\n",
    "    Ts = ['4', '4', '1', '1', '4', '4', '4']\n",
    "    lambda_ss = ['2', '3', '3', '4', '6', '7', '8']\n",
    "\n",
    "    show_all(lambda_r, lr_H, H_init, dataset_name, Ts, lambda_ss, type_ = type_)\n",
    "    #plt.suptitle(f'img_id:{img_id}->rows:learned,randn,hadamard,uniformones|cols:x1,x4,x16,x64,x256,x1024,x4096')\n",
    "    plt.savefig(f'./figs_contentaware/{img_id}_learned.png')\n",
    "    plt.show()\n",
    "\n",
    "    ############\n",
    "\n",
    "    H_init= 'randn_FourierBased'\n",
    "    lr_H= '0.0'\n",
    "\n",
    "    Ts = ['4', '4', '1', '1', '1', '1', '1']\n",
    "    lambda_ss = ['2', '3', '3', '4', '5', '6', '7']\n",
    "\n",
    "    show_all(lambda_r, lr_H, H_init, dataset_name, Ts, lambda_ss, type_ = type_)\n",
    "    plt.savefig(f'./figs_contentaware/{img_id}_randn.png')\n",
    "    plt.show()\n",
    "\n",
    "\n",
    "    ############\n",
    "\n",
    "    H_init= 'hadamard_FourierBased'\n",
    "    lr_H= '0.0'\n",
    "\n",
    "    Ts = ['4', '4', '1', '1', '1', '1', '1']\n",
    "    lambda_ss = ['2', '3', '3', '4', '5', '6', '7']\n",
    "\n",
    "    show_all(lambda_r, lr_H, H_init, dataset_name, Ts, lambda_ss, type_ = type_)\n",
    "    plt.savefig(f'./figs_contentaware/{img_id}_hadamard.png')\n",
    "    plt.show()\n",
    "    \n",
    "    ############\n",
    "\n",
    "    H_init= 'uniformones_FourierBased'\n",
    "    lr_H= '0.0'\n",
    "\n",
    "    Ts = ['4', '4', '4', '1', '1', '1', '1']\n",
    "    lambda_ss = ['2', '3', '4', '4', '5', '6', '7']\n",
    "\n",
    "    show_all(lambda_r, lr_H, H_init, dataset_name, Ts, lambda_ss, type_)\n",
    "    plt.savefig(f'./figs_contentaware/{img_id}_uniformones.png')\n",
    "    plt.show()"
   ]
  },
  {
   "cell_type": "code",
   "execution_count": null,
   "metadata": {},
   "outputs": [
    {
     "name": "stdout",
     "output_type": "stream",
     "text": [
      "IMG_ID :  0\n",
      "T : 0\n",
      "/n/holylfs/LABS/wadduwage_lab/Lab/uom_Udith/results/aim2/figs_cvpr/set1/name(confocal)@rotation_lambda(10.0)@lambda_scale_factor(2)@T(4)@img_size(256)@num_samples_train(3000)@upsample_net(custom_v2)@H_init(randn_FourierBased)@lr_H(1.0)/save_special/150_Ht_val.npy\n",
      "/n/holylfs/LABS/wadduwage_lab/Lab/uom_Udith/results/aim2/figs_cvpr/set1/name(confocal)@rotation_lambda(10.0)@lambda_scale_factor(2)@T(4)@img_size(256)@num_samples_train(3000)@upsample_net(custom_v2)@H_init(randn_FourierBased)@lr_H(1.0)/save_special/150_X_hat_val.npy\n",
      "/n/holylfs/LABS/wadduwage_lab/Lab/uom_Udith/results/aim2/figs_cvpr/set1/name(confocal)@rotation_lambda(10.0)@lambda_scale_factor(2)@T(4)@img_size(256)@num_samples_train(3000)@upsample_net(custom_v2)@H_init(randn_FourierBased)@lr_H(1.0)/save_special/150_X_val.npy\n",
      "/n/holylfs/LABS/wadduwage_lab/Lab/uom_Udith/results/aim2/figs_cvpr/set1/name(confocal)@rotation_lambda(10.0)@lambda_scale_factor(2)@T(4)@img_size(256)@num_samples_train(3000)@upsample_net(custom_v2)@H_init(randn_FourierBased)@lr_H(1.0)/save_special/150_yt_val.npy\n",
      "T : 0 : loading\n",
      "T : 0 : loading -> before np.load\n",
      "T : 0 : loading -> after np.load\n",
      "T : 0 : done\n",
      "T : 1\n",
      "/n/holylfs/LABS/wadduwage_lab/Lab/uom_Udith/results/aim2/figs_cvpr/set1/name(confocal)@rotation_lambda(10.0)@lambda_scale_factor(3)@T(4)@img_size(256)@num_samples_train(3000)@upsample_net(custom_v2)@H_init(randn_FourierBased)@lr_H(1.0)/save_special/150_Ht_val.npy\n",
      "/n/holylfs/LABS/wadduwage_lab/Lab/uom_Udith/results/aim2/figs_cvpr/set1/name(confocal)@rotation_lambda(10.0)@lambda_scale_factor(3)@T(4)@img_size(256)@num_samples_train(3000)@upsample_net(custom_v2)@H_init(randn_FourierBased)@lr_H(1.0)/save_special/150_X_hat_val.npy\n",
      "/n/holylfs/LABS/wadduwage_lab/Lab/uom_Udith/results/aim2/figs_cvpr/set1/name(confocal)@rotation_lambda(10.0)@lambda_scale_factor(3)@T(4)@img_size(256)@num_samples_train(3000)@upsample_net(custom_v2)@H_init(randn_FourierBased)@lr_H(1.0)/save_special/150_X_val.npy\n",
      "/n/holylfs/LABS/wadduwage_lab/Lab/uom_Udith/results/aim2/figs_cvpr/set1/name(confocal)@rotation_lambda(10.0)@lambda_scale_factor(3)@T(4)@img_size(256)@num_samples_train(3000)@upsample_net(custom_v2)@H_init(randn_FourierBased)@lr_H(1.0)/save_special/150_yt_val.npy\n",
      "T : 1 : loading\n",
      "T : 1 : loading -> before np.load\n",
      "T : 1 : loading -> after np.load\n",
      "T : 1 : done\n",
      "T : 2\n",
      "/n/holylfs/LABS/wadduwage_lab/Lab/uom_Udith/results/aim2/figs_cvpr/set1/name(confocal)@rotation_lambda(10.0)@lambda_scale_factor(3)@T(1)@img_size(256)@num_samples_train(3000)@upsample_net(custom_v2)@H_init(randn_FourierBased)@lr_H(1.0)/save_special/150_Ht_val.npy\n",
      "/n/holylfs/LABS/wadduwage_lab/Lab/uom_Udith/results/aim2/figs_cvpr/set1/name(confocal)@rotation_lambda(10.0)@lambda_scale_factor(3)@T(1)@img_size(256)@num_samples_train(3000)@upsample_net(custom_v2)@H_init(randn_FourierBased)@lr_H(1.0)/save_special/150_X_hat_val.npy\n",
      "/n/holylfs/LABS/wadduwage_lab/Lab/uom_Udith/results/aim2/figs_cvpr/set1/name(confocal)@rotation_lambda(10.0)@lambda_scale_factor(3)@T(1)@img_size(256)@num_samples_train(3000)@upsample_net(custom_v2)@H_init(randn_FourierBased)@lr_H(1.0)/save_special/150_X_val.npy\n",
      "/n/holylfs/LABS/wadduwage_lab/Lab/uom_Udith/results/aim2/figs_cvpr/set1/name(confocal)@rotation_lambda(10.0)@lambda_scale_factor(3)@T(1)@img_size(256)@num_samples_train(3000)@upsample_net(custom_v2)@H_init(randn_FourierBased)@lr_H(1.0)/save_special/150_yt_val.npy\n",
      "T : 2 : loading\n",
      "T : 2 : loading -> before np.load\n",
      "T : 2 : loading -> after np.load\n",
      "T : 2 : done\n",
      "T : 3\n",
      "/n/holylfs/LABS/wadduwage_lab/Lab/uom_Udith/results/aim2/figs_cvpr/set1/name(confocal)@rotation_lambda(10.0)@lambda_scale_factor(4)@T(1)@img_size(256)@num_samples_train(3000)@upsample_net(custom_v2)@H_init(randn_FourierBased)@lr_H(1.0)/save_special/150_Ht_val.npy\n",
      "/n/holylfs/LABS/wadduwage_lab/Lab/uom_Udith/results/aim2/figs_cvpr/set1/name(confocal)@rotation_lambda(10.0)@lambda_scale_factor(4)@T(1)@img_size(256)@num_samples_train(3000)@upsample_net(custom_v2)@H_init(randn_FourierBased)@lr_H(1.0)/save_special/150_X_hat_val.npy\n",
      "/n/holylfs/LABS/wadduwage_lab/Lab/uom_Udith/results/aim2/figs_cvpr/set1/name(confocal)@rotation_lambda(10.0)@lambda_scale_factor(4)@T(1)@img_size(256)@num_samples_train(3000)@upsample_net(custom_v2)@H_init(randn_FourierBased)@lr_H(1.0)/save_special/150_X_val.npy\n",
      "/n/holylfs/LABS/wadduwage_lab/Lab/uom_Udith/results/aim2/figs_cvpr/set1/name(confocal)@rotation_lambda(10.0)@lambda_scale_factor(4)@T(1)@img_size(256)@num_samples_train(3000)@upsample_net(custom_v2)@H_init(randn_FourierBased)@lr_H(1.0)/save_special/150_yt_val.npy\n",
      "T : 3 : loading\n",
      "T : 3 : loading -> before np.load\n",
      "T : 3 : loading -> after np.load\n",
      "T : 3 : done\n",
      "T : 4\n",
      "/n/holylfs/LABS/wadduwage_lab/Lab/uom_Udith/results/aim2/figs_cvpr/set1/name(confocal)@rotation_lambda(10.0)@lambda_scale_factor(6)@T(4)@img_size(256)@num_samples_train(3000)@upsample_net(custom_v2)@H_init(randn_FourierBased)@lr_H(1.0)/save_special/150_Ht_val.npy\n",
      "/n/holylfs/LABS/wadduwage_lab/Lab/uom_Udith/results/aim2/figs_cvpr/set1/name(confocal)@rotation_lambda(10.0)@lambda_scale_factor(6)@T(4)@img_size(256)@num_samples_train(3000)@upsample_net(custom_v2)@H_init(randn_FourierBased)@lr_H(1.0)/save_special/150_X_hat_val.npy\n",
      "/n/holylfs/LABS/wadduwage_lab/Lab/uom_Udith/results/aim2/figs_cvpr/set1/name(confocal)@rotation_lambda(10.0)@lambda_scale_factor(6)@T(4)@img_size(256)@num_samples_train(3000)@upsample_net(custom_v2)@H_init(randn_FourierBased)@lr_H(1.0)/save_special/150_X_val.npy\n",
      "/n/holylfs/LABS/wadduwage_lab/Lab/uom_Udith/results/aim2/figs_cvpr/set1/name(confocal)@rotation_lambda(10.0)@lambda_scale_factor(6)@T(4)@img_size(256)@num_samples_train(3000)@upsample_net(custom_v2)@H_init(randn_FourierBased)@lr_H(1.0)/save_special/150_yt_val.npy\n",
      "T : 4 : loading\n",
      "T : 4 : loading -> before np.load\n",
      "T : 4 : loading -> after np.load\n",
      "T : 4 : done\n",
      "T : 5\n",
      "/n/holylfs/LABS/wadduwage_lab/Lab/uom_Udith/results/aim2/figs_cvpr/set1/name(confocal)@rotation_lambda(10.0)@lambda_scale_factor(7)@T(4)@img_size(256)@num_samples_train(3000)@upsample_net(custom_v2)@H_init(randn_FourierBased)@lr_H(1.0)/save_special/150_Ht_val.npy\n",
      "/n/holylfs/LABS/wadduwage_lab/Lab/uom_Udith/results/aim2/figs_cvpr/set1/name(confocal)@rotation_lambda(10.0)@lambda_scale_factor(7)@T(4)@img_size(256)@num_samples_train(3000)@upsample_net(custom_v2)@H_init(randn_FourierBased)@lr_H(1.0)/save_special/150_X_hat_val.npy\n",
      "/n/holylfs/LABS/wadduwage_lab/Lab/uom_Udith/results/aim2/figs_cvpr/set1/name(confocal)@rotation_lambda(10.0)@lambda_scale_factor(7)@T(4)@img_size(256)@num_samples_train(3000)@upsample_net(custom_v2)@H_init(randn_FourierBased)@lr_H(1.0)/save_special/150_X_val.npy\n",
      "/n/holylfs/LABS/wadduwage_lab/Lab/uom_Udith/results/aim2/figs_cvpr/set1/name(confocal)@rotation_lambda(10.0)@lambda_scale_factor(7)@T(4)@img_size(256)@num_samples_train(3000)@upsample_net(custom_v2)@H_init(randn_FourierBased)@lr_H(1.0)/save_special/150_yt_val.npy\n",
      "T : 5 : loading\n",
      "T : 5 : loading -> before np.load\n"
     ]
    }
   ],
   "source": [
    "import torch\n",
    "type_ = 'yt'\n",
    "for img_id in [0]:#, 3, 5, 7, 10, 16, 17, 20,23\n",
    "    #########\n",
    "    print('IMG_ID : ',img_id)\n",
    "    #show_real(np.load(sorted(glob.glob(f'{data_dir}/*/save_special/150*'))[2]))\n",
    "    #plt.savefig(f'./figs_contentaware/{img_id}_gt.png', dpi= 300)\n",
    "    \n",
    "    lambda_r = '10.0'\n",
    "    dataset_name = 'confocal'\n",
    "\n",
    "    H_init= 'randn_FourierBased'\n",
    "    lr_H= '1.0'\n",
    "\n",
    "    Ts = ['4', '4', '1', '1', '4', '4', '4']\n",
    "    lambda_ss = ['2', '3', '3', '4', '6', '7', '8']\n",
    "\n",
    "    show_all(lambda_r, lr_H, H_init, dataset_name, Ts, lambda_ss, type_ = type_)\n",
    "    #plt.suptitle(f'img_id:{img_id}->rows:learned,randn,hadamard,uniformones|cols:x1,x4,x16,x64,x256,x1024,x4096')\n",
    "    plt.savefig(f'./figs_contentaware/{img_id}_learned_{type_}.png')\n",
    "    plt.show()\n",
    "\n",
    "    ############\n",
    "\n",
    "    H_init= 'randn_FourierBased'\n",
    "    lr_H= '0.0'\n",
    "\n",
    "    Ts = ['4', '4', '1', '1', '1', '1', '1']\n",
    "    lambda_ss = ['2', '3', '3', '4', '5', '6', '7']\n",
    "\n",
    "    show_all(lambda_r, lr_H, H_init, dataset_name, Ts, lambda_ss, type_ = type_)\n",
    "    plt.savefig(f'./figs_contentaware/{img_id}_randn_{type_}.png')\n",
    "    plt.show()\n",
    "\n",
    "\n",
    "    ############\n",
    "\n",
    "    H_init= 'hadamard_FourierBased'\n",
    "    lr_H= '0.0'\n",
    "\n",
    "    Ts = ['4', '4', '1', '1', '1', '1', '1']\n",
    "    lambda_ss = ['2', '3', '3', '4', '5', '6', '7']\n",
    "\n",
    "    show_all(lambda_r, lr_H, H_init, dataset_name, Ts, lambda_ss, type_ = type_)\n",
    "    plt.savefig(f'./figs_contentaware/{img_id}_hadamard_{type_}.png')\n",
    "    plt.show()\n",
    "    \n",
    "    ############\n",
    "\n",
    "    H_init= 'uniformones_FourierBased'\n",
    "    lr_H= '0.0'\n",
    "\n",
    "    Ts = ['4', '4', '4', '1', '1', '1', '1']\n",
    "    lambda_ss = ['2', '3', '4', '4', '5', '6', '7']\n",
    "\n",
    "    show_all(lambda_r, lr_H, H_init, dataset_name, Ts, lambda_ss, type_)\n",
    "    plt.savefig(f'./figs_contentaware/{img_id}_uniformones_{type_}.png')\n",
    "    plt.show()"
   ]
  },
  {
   "cell_type": "code",
   "execution_count": 1,
   "metadata": {},
   "outputs": [],
   "source": [
    "import numpy as np"
   ]
  },
  {
   "cell_type": "code",
   "execution_count": null,
   "metadata": {},
   "outputs": [],
   "source": [
    "np.load('/n/holylfs/LABS/wadduwage_lab/Lab/uom_Udith/results/aim2/figs_cvpr/set1/name(confocal)@rotation_lambda(10.0)@lambda_scale_factor(7)@T(4)@img_size(256)@num_samples_train(3000)@upsample_net(custom_v2)@H_init(randn_FourierBased)@lr_H(1.0)/save_special/150_yt_val.npy')"
   ]
  },
  {
   "cell_type": "code",
   "execution_count": null,
   "metadata": {},
   "outputs": [],
   "source": [
    "np.load('/n/holylfs/LABS/wadduwage_lab/Lab/uom_Udith/results/aim2/figs_cvpr/set1/name(confocal)@rotation_lambda(10.0)@lambda_scale_factor(3)@T(1)@img_size(256)@num_samples_train(3000)@upsample_net(custom_v2)@H_init(randn_FourierBased)@lr_H(1.0)/save_special/150_X_hat_val.npy')"
   ]
  },
  {
   "cell_type": "code",
   "execution_count": 4,
   "metadata": {},
   "outputs": [
    {
     "name": "stdout",
     "output_type": "stream",
     "text": [
      "^C\n"
     ]
    }
   ],
   "source": [
    "!cp '/n/holylfs/LABS/wadduwage_lab/Lab/uom_Udith/results/aim2/figs_cvpr/set1/name(confocal)@rotation_lambda(10.0)@lambda_scale_factor(7)@T(4)@img_size(256)@num_samples_train(3000)@upsample_net(custom_v2)@H_init(randn_FourierBased)@lr_H(1.0)/save_special/150_yt_val.npy' '.'"
   ]
  },
  {
   "cell_type": "code",
   "execution_count": null,
   "metadata": {},
   "outputs": [],
   "source": [
    "!cp '/n/holylfs/LABS/wadduwage_lab/Lab/uom_Udith/results/aim2/figs_cvpr/set1/name(confocal)@rotation_lambda(10.0)@lambda_scale_factor(3)@T(1)@img_size(256)@num_samples_train(3000)@upsample_net(custom_v2)@H_init(randn_FourierBased)@lr_H(1.0)/save_special/150_X_hat_val.npy' '.'"
   ]
  }
 ],
 "metadata": {
  "kernelspec": {
   "display_name": "deepTFM",
   "language": "python",
   "name": "deeptfm"
  },
  "language_info": {
   "codemirror_mode": {
    "name": "ipython",
    "version": 3
   },
   "file_extension": ".py",
   "mimetype": "text/x-python",
   "name": "python",
   "nbconvert_exporter": "python",
   "pygments_lexer": "ipython3",
   "version": "3.6.12"
  }
 },
 "nbformat": 4,
 "nbformat_minor": 4
}
