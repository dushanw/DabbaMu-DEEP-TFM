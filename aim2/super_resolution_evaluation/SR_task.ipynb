{
 "cells": [
  {
   "cell_type": "code",
   "execution_count": 1,
   "metadata": {},
   "outputs": [],
   "source": [
    "import torch\n",
    "import sys\n",
    "sys.path.append('../DabbaMu-DEEP-TFM/aim2')\n",
    "project_dir='/home/udith/udith_works/DabbaMu-DEEP-TFM/aim2'\n"
   ]
  },
  {
   "cell_type": "code",
   "execution_count": 2,
   "metadata": {},
   "outputs": [],
   "source": [
    "## learnable + theirUp\n",
    "from adversarial_learning.swinIRwforward_support_files.models_define import swinIR_generative_decoder\n",
    "\n",
    "exp_path= '/home/udith/udith_works/DabbaMu-DEEP-TFM/aim2/figs/div2kflickr2k_learnableTheirUp/name(div2kflickr2k)@rotation_lambda(10000.0)@lr_H(1.0)@T(1)@lambda_scale_factor(3)@img_size(64)@num_samples_train(3450)@num_samples_valtest(100)/save_special'\n",
    "other_opt_dir= 'adversarial_learning/swinIRwforward_support_files/opt.yaml' \n"
   ]
  },
  {
   "cell_type": "code",
   "execution_count": 3,
   "metadata": {},
   "outputs": [],
   "source": [
    "## learnable + ourUp\n",
    "#from adversarial_learning.swinIRwCustomUpwforward_support_files.models_define import swinIR_generative_decoder\n",
    "\n",
    "#exp_path= '/home/udith/udith_works/DabbaMu-DEEP-TFM/aim2/figs/div2kflickr2k_learnableOurUp/name(div2kflickr2k)@rotation_lambda(10000.0)@lr_H(1.0)@T(4)@lambda_scale_factor(4)@img_size(64)@num_samples_train(3450)@num_samples_valtest(100)/save_special'\n",
    "#other_opt_dir= 'adversarial_learning/swinIRwCustomUpwforward_support_files/opt.yaml'\n"
   ]
  },
  {
   "cell_type": "code",
   "execution_count": 4,
   "metadata": {},
   "outputs": [
    {
     "data": {
      "text/plain": [
       "dict_keys(['cfg', 'epoch', 'm', 'decoder', 'losses_train', 'losses_val', 'metrics_train', 'metrics_val'])"
      ]
     },
     "execution_count": 4,
     "metadata": {},
     "output_type": "execute_result"
    }
   ],
   "source": [
    "model_details = torch.load(f'{exp_path}/latest_model.pth', map_location= 'cuda:1')\n",
    "cfg = model_details['cfg']\n",
    "model_details.keys()"
   ]
  },
  {
   "cell_type": "code",
   "execution_count": 6,
   "metadata": {},
   "outputs": [
    {
     "data": {
      "text/plain": [
       "(1, 3)"
      ]
     },
     "execution_count": 6,
     "metadata": {},
     "output_type": "execute_result"
    }
   ],
   "source": [
    "cfg.MODEL.MODEL_H.T, cfg.MODEL.MODEL_A.lambda_scale_factor"
   ]
  },
  {
   "cell_type": "code",
   "execution_count": 7,
   "metadata": {},
   "outputs": [],
   "source": [
    "from modules.models.forward_H import modelH_class\n",
    "from modules.models.forward_model import modelA_class\n",
    "\n",
    "\n",
    "from modules.models.preprocess_H_weights import * #ifft_2d_with_fftshift_real\n",
    "from modules.custom_activations import sigmoid_custom\n",
    "from modules.kernels import *\n",
    "from modules.psfs import *\n",
    "\n",
    "device= 'cpu' #'cuda:0'\n",
    "\n",
    "cfg.merge_from_list(['GENERAL.device', device])\n",
    "\n",
    "T= cfg.MODEL.MODEL_H.T\n",
    "img_size= cfg.DATASET.img_size\n",
    "H_weight_preprocess= eval(cfg.MODEL.MODEL_H.H_weight_preprocess)\n",
    "initialization_bias= cfg.MODEL.MODEL_H.initialization_bias\n",
    "H_activation= eval(cfg.MODEL.MODEL_H.H_activation)\n",
    "H_init = cfg.MODEL.MODEL_H.H_init\n",
    "enable_train= False\n",
    "lambda_scale_factor=cfg.MODEL.MODEL_A.lambda_scale_factor\n",
    "sPSF= eval(cfg.MODEL.MODEL_A.sPSF)\n",
    "exPSF= eval(cfg.MODEL.MODEL_A.exPSF)\n",
    "noise=cfg.MODEL.MODEL_A.noise\n",
    "rotation_lambda=cfg.MODEL.MODEL_A.rotation_lambda\n",
    "shift_lambda_real=cfg.MODEL.MODEL_A.shift_lambda_real\n",
    "readnoise_std=cfg.MODEL.MODEL_A.readnoise_std\n",
    "\n",
    "\n",
    "modelH = modelH_class(T=T, img_size = img_size, preprocess_H_weights= H_weight_preprocess, \n",
    "                          device = device, \n",
    "                          initialization_bias=initialization_bias, \n",
    "                          activation = H_activation, init_method= H_init, \n",
    "                          enable_train=enable_train, lambda_scale_factor= lambda_scale_factor).to(device)\n",
    "\n",
    "modelA= modelA_class(sPSF= sPSF.to(device), exPSF= exPSF.to(device), noise=noise, device = device, \n",
    "                        scale_factor=lambda_scale_factor, rotation_lambda=rotation_lambda, \n",
    "                        shift_lambda_real= shift_lambda_real,\n",
    "                        readnoise_std= readnoise_std)\n"
   ]
  },
  {
   "cell_type": "code",
   "execution_count": 8,
   "metadata": {},
   "outputs": [],
   "source": [
    "from modules.datasets import *\n",
    "from modules.data_utils import return_dataloaders\n",
    "\n",
    "def div2kflickr2k(img_size, delta, num_samples_train, num_samples_valtest):\n",
    "    data_div2k_train_dir = '/home/udith/udith_works/datasets/superres/div2k/DIV2K_train_HR'\n",
    "    data_div2k_val_dir = '/home/udith/udith_works/datasets/superres/div2k/DIV2K_valid_HR'\n",
    "    data_flickr_dir = '/home/udith/udith_works/datasets/superres/flickr2k/Flickr2K/Flickr2K_HR'\n",
    "\n",
    "    trainset = div2kflickr2k_getdataset(img_size, 'train', delta, data_div2k_train_dir, data_flickr_dir, num_samples_train)\n",
    "    valset= div2kflickr2k_getdataset(img_size, 'val', delta, data_div2k_val_dir, None, num_samples_valtest)\n",
    "    testset= valset\n",
    "    \n",
    "    return trainset, valset, testset"
   ]
  },
  {
   "cell_type": "code",
   "execution_count": 20,
   "metadata": {},
   "outputs": [
    {
     "name": "stdout",
     "output_type": "stream",
     "text": [
      "total images found in: train -> 3450\n",
      "total images found in: val -> 100\n",
      "dataset lenths : 3450 | 100 | 100\n"
     ]
    },
    {
     "data": {
      "image/png": "[encoded data removed]",
      "text/plain": [
       "<Figure size 432x288 with 1 Axes>"
      ]
     },
     "metadata": {
      "needs_background": "light"
     },
     "output_type": "display_data"
    },
    {
     "name": "stdout",
     "output_type": "stream",
     "text": [
      "dataset value range :  0.0 1.0\n"
     ]
    }
   ],
   "source": [
    "get_dataset_func = div2kflickr2k\n",
    "delta= 0\n",
    "num_samples_train= cfg.DATASET.num_samples_train\n",
    "num_samples_valtest= cfg.DATASET.num_samples_valtest\n",
    "batch_size_train= cfg.DATASET.batch_size_train\n",
    "batch_size_valtest= cfg.DATASET.batch_size_valtest\n",
    "\n",
    "drop_last_val_test= False\n",
    "\n",
    "trainset, valset, testset = get_dataset_func(img_size= img_size, delta= delta, num_samples_train= num_samples_train, num_samples_valtest= num_samples_valtest)    \n",
    "train_loader, val_loader, test_loader = return_dataloaders(trainset, valset, testset, batch_size_train= batch_size_train, drop_last_val_test= drop_last_val_test, batch_size_valtest= batch_size_valtest)\n"
   ]
  },
  {
   "cell_type": "code",
   "execution_count": 9,
   "metadata": {},
   "outputs": [],
   "source": [
    "dec_state_dict= {}\n",
    "for k, v in model_details['decoder'].items():\n",
    "    if 'F_lossfn' in k:continue\n",
    "    dec_state_dict[k]= v"
   ]
  },
  {
   "cell_type": "code",
   "execution_count": 10,
   "metadata": {},
   "outputs": [
    {
     "name": "stderr",
     "output_type": "stream",
     "text": [
      "../DabbaMu-DEEP-TFM/aim2/adversarial_learning/swinIRwforward_support_files/models_define.py:124: YAMLLoadWarning: calling yaml.load() without Loader=... is deprecated, as the default Loader is unsafe. Please read https://msg.pyyaml.org/load for full details.\n",
      "  opt = yaml.load(file)\n",
      "/home/udith/miniconda3/envs/deepTFM/lib/python3.6/site-packages/torch/functional.py:445: UserWarning: torch.meshgrid: in an upcoming release, it will be required to pass the indexing argument. (Triggered internally at  /opt/conda/conda-bld/pytorch_1640811805959/work/aten/src/ATen/native/TensorShape.cpp:2157.)\n",
      "  return _VF.meshgrid(tensors, **kwargs)  # type: ignore[attr-defined]\n"
     ]
    },
    {
     "name": "stdout",
     "output_type": "stream",
     "text": [
      "Pass this initialization! Initialization was done during network defination!\n",
      "Initialization method [orthogonal + uniform], gain is [0.20]\n",
      "Pass this initialization! Initialization was done during network defination!\n"
     ]
    },
    {
     "data": {
      "text/plain": [
       "<All keys matched successfully>"
      ]
     },
     "execution_count": 10,
     "metadata": {},
     "output_type": "execute_result"
    }
   ],
   "source": [
    "decoder= swinIR_generative_decoder(f'{project_dir}/{other_opt_dir}', cfg, modelA, modelH)\n",
    "\n",
    "decoder.load_state_dict(dec_state_dict)"
   ]
  },
  {
   "cell_type": "code",
   "execution_count": 23,
   "metadata": {},
   "outputs": [
    {
     "data": {
      "text/plain": [
       "device(type='cpu')"
      ]
     },
     "execution_count": 23,
     "metadata": {},
     "output_type": "execute_result"
    }
   ],
   "source": [
    "modelH.weights.device"
   ]
  },
  {
   "cell_type": "code",
   "execution_count": 11,
   "metadata": {},
   "outputs": [],
   "source": [
    "def get_preds_decoder(decoder, X):\n",
    "    decoder.feed_data({'m':8, 'H':X})\n",
    "    decoder.test()\n",
    "    X_hat = decoder.E\n",
    "    Ht= decoder.Ht\n",
    "    yt_down= decoder.yt_down\n",
    "\n",
    "    return X_hat, Ht, yt_down"
   ]
  },
  {
   "cell_type": "markdown",
   "metadata": {},
   "source": []
  },
  {
   "cell_type": "code",
   "execution_count": 12,
   "metadata": {},
   "outputs": [],
   "source": [
    "import torchvision\n",
    "transform = torchvision.transforms.Compose([\n",
    "                                    torchvision.transforms.Grayscale(1),\n",
    "                                    torchvision.transforms.ToTensor(),\n",
    "                                    torchvision.transforms.Normalize((0,), (1,))])\n",
    "            \n",
    "def whole2patch(whole_img, H, W, img_size): #whole_img: (H, W), patch_imgs: (b, 1, img_size, img_size)\n",
    "    patch_imgs = whole_img.reshape(H//img_size, img_size, W//img_size, img_size).permute(0, 2, 1, 3).flatten(start_dim=0, end_dim=1).unsqueeze(dim=1)\n",
    "    return patch_imgs\n",
    "\n",
    "def patch2whole(patch_imgs, H, W, img_size): # patch_imgs: (b, 1, img_size, img_size)\n",
    "    out_recon= patch_imgs[:,0].reshape(H//img_size, W//img_size, img_size, img_size).permute(0, 2, 1, 3).flatten(start_dim=0, end_dim=1).flatten(start_dim=1, end_dim=2)\n",
    "    return out_recon"
   ]
  },
  {
   "cell_type": "code",
   "execution_count": 13,
   "metadata": {},
   "outputs": [],
   "source": [
    "import numpy as np\n",
    "\n",
    "dataset_dir_DIV2K_valid= '/home/udith/udith_works/datasets/superres/div2k/DIV2K_valid_HR'\n",
    "test_root_dir= '/home/udith/udith_works/datasets/superres/standard_test_datasets'\n"
   ]
  },
  {
   "cell_type": "code",
   "execution_count": 27,
   "metadata": {},
   "outputs": [
    {
     "data": {
      "text/plain": [
       "'\\n\\n        plt.figure(figsize= (12,5))\\n        plt.subplot(1,2,1)\\n        plt.imshow(input_img, vmin=0,vmax=1)\\n        plt.subplot(1,2,2)\\n        plt.imshow(recon_img, vmin=0,vmax=1)\\n        plt.show()\\n\\n        for _ in range(2):\\n            idx= np.random.randint(0, X.shape[0]-1)\\n            plt.figure(figsize= (6,6))\\n            plt.subplot(1,2,1)\\n            plt.imshow(X[idx, 0], vmin=0,vmax=1)\\n            plt.subplot(1,2,2)\\n            plt.imshow(X_hat[idx, 0], vmin=0,vmax=1)\\n            plt.show()\\n'"
      ]
     },
     "execution_count": 27,
     "metadata": {},
     "output_type": "execute_result"
    }
   ],
   "source": [
    "'''\n",
    "\n",
    "        plt.figure(figsize= (12,5))\n",
    "        plt.subplot(1,2,1)\n",
    "        plt.imshow(input_img, vmin=0,vmax=1)\n",
    "        plt.subplot(1,2,2)\n",
    "        plt.imshow(recon_img, vmin=0,vmax=1)\n",
    "        plt.show()\n",
    "\n",
    "        for _ in range(2):\n",
    "            idx= np.random.randint(0, X.shape[0]-1)\n",
    "            plt.figure(figsize= (6,6))\n",
    "            plt.subplot(1,2,1)\n",
    "            plt.imshow(X[idx, 0], vmin=0,vmax=1)\n",
    "            plt.subplot(1,2,2)\n",
    "            plt.imshow(X_hat[idx, 0], vmin=0,vmax=1)\n",
    "            plt.show()\n",
    "'''"
   ]
  },
  {
   "cell_type": "code",
   "execution_count": 14,
   "metadata": {},
   "outputs": [],
   "source": [
    "def pad_img(img, window_size, h_old, w_old): # input: img (A, B)\n",
    "    h_pad = (h_old // window_size + 1) * window_size - h_old\n",
    "    w_pad = (w_old // window_size + 1) * window_size - w_old\n",
    "    img = torch.cat([img, torch.flip(img, [0])], 0)[:h_old + h_pad, :]\n",
    "    img = torch.cat([img, torch.flip(img, [1])], 1)[:, :w_old + w_pad]\n",
    "\n",
    "    return img"
   ]
  },
  {
   "cell_type": "code",
   "execution_count": 15,
   "metadata": {},
   "outputs": [],
   "source": [
    "import torch\n",
    "from torch.nn import functional as F\n",
    "from pytorch_msssim import ssim, ms_ssim, SSIM, MS_SSIM\n",
    "from ignite.metrics import SSIM as SSIM_IGNITE\n",
    "from ignite.metrics import PSNR\n",
    "\n",
    "def ssim_ignite(X_hat, X, k= 11):\n",
    "    metric = SSIM_IGNITE(data_range = 1.0, kernel_size= (k,k))\n",
    "    metric.update((X_hat, X))\n",
    "    return metric.compute().item()\n",
    "\n",
    "def psnr_ignite(X_hat, X):\n",
    "    metric = PSNR(data_range=1.0) #(data_range= 235- 16= 219) ->  https://scikit-image.org/docs/dev/api/skimage.color.html#rgb2ycbcr \n",
    "    metric.update((X_hat, X))\n",
    "    return metric.compute().item()"
   ]
  },
  {
   "cell_type": "code",
   "execution_count": null,
   "metadata": {},
   "outputs": [],
   "source": [
    "import matplotlib.pyplot as plt\n",
    "import glob\n",
    "\n",
    "import torch\n",
    "import cv2\n",
    "import util\n",
    "import numpy as np\n",
    "from PIL import Image\n",
    "from collections import OrderedDict\n",
    "\n",
    "device= 'cuda:0'\n",
    "window_size= 64\n",
    "scale= 4\n",
    "\n",
    "\n",
    "test_results = OrderedDict()\n",
    "test_results['psnr'] = []\n",
    "test_results['ssim'] = []\n",
    "test_results['psnr_y'] = []\n",
    "test_results['ssim_y'] = []\n",
    "test_results['psnr_b'] = []\n",
    "\n",
    "test_datasets= ['Set5/original', 'Set14/original', 'BSDS100', 'urban100', 'manga109']\n",
    "\n",
    "for border in [0, scale]:\n",
    "    print('\\n')\n",
    "    for test_dataset in test_datasets:\n",
    "        dataset_dir= f'{test_root_dir}/{test_dataset}'\n",
    "\n",
    "        i=0\n",
    "        for img_dir in glob.glob(f'{dataset_dir}/*.png'):\n",
    "            if i>4:break\n",
    "\n",
    "            input_img = transform(Image.fromarray((255*plt.imread(img_dir)).astype('uint8')))[0]\n",
    "            H, W = input_img.shape\n",
    "            input_img_padded = pad_img(input_img, window_size, H, W)\n",
    "            H_new, W_new = input_img_padded.shape\n",
    "\n",
    "            X= whole2patch(input_img_padded, H_new, W_new, img_size)\n",
    "            X_hat, Ht, yt_down = get_preds_decoder(decoder, X)\n",
    "            X_hat, Ht, yt_down= X_hat.detach().cpu(), Ht.detach().cpu(), yt_down.detach().cpu()\n",
    "\n",
    "            recon_img_padded = patch2whole(X_hat, H_new, W_new, img_size)\n",
    "            recon_img= recon_img_padded[:H, :W]\n",
    "\n",
    "            #### \n",
    "            output = (recon_img.unsqueeze(dim=2).cpu().detach().numpy() * 255.0).astype('uint8') #shape : HWC\n",
    "            img_gt = (input_img.unsqueeze(dim=2).cpu().detach().numpy() * 255.0).astype('uint8') #shape : HWC\n",
    "            \n",
    "            psnr = util.calculate_psnr(output, img_gt, crop_border=border)\n",
    "            ssim = util.calculate_ssim(output, img_gt, crop_border=border)\n",
    "\n",
    "            test_results['psnr'].append(psnr)\n",
    "            test_results['ssim'].append(ssim)\n",
    "            if img_gt.ndim == 3:  # RGB image\n",
    "                psnr_y = util.calculate_psnr(output, img_gt, crop_border=border, test_y_channel=True)\n",
    "                ssim_y = util.calculate_ssim(output, img_gt, crop_border=border, test_y_channel=True)\n",
    "                test_results['psnr_y'].append(psnr_y)\n",
    "                test_results['ssim_y'].append(ssim_y)\n",
    "                \n",
    "        # summarize psnr/ssim\n",
    "        if img_gt is not None:\n",
    "            ave_psnr = sum(test_results['psnr']) / len(test_results['psnr'])\n",
    "            ave_ssim = sum(test_results['ssim']) / len(test_results['ssim'])\n",
    "\n",
    "            dataset_name = test_dataset.split('/')[0]\n",
    "            dataset_name = dataset_name  + ' '*(50-len(dataset_name))\n",
    "            print(f'border = {border} :: {dataset_name}  -->  Average PSNR/SSIM(RGB): {np.round(ave_psnr, 2)} dB; {np.round(ave_ssim, 4)}')\n",
    "            #print('\\n-- Average PSNR/SSIM(RGB): {:.2f} dB; {:.4f}'.format(ave_psnr, ave_ssim))"
   ]
  },
  {
   "cell_type": "code",
   "execution_count": null,
   "metadata": {},
   "outputs": [],
   "source": [
    "import matplotlib.pyplot as plt\n",
    "import glob\n",
    "\n",
    "import torch\n",
    "import cv2\n",
    "import util\n",
    "import numpy as np\n",
    "from PIL import Image\n",
    "from collections import OrderedDict\n",
    "\n",
    "device= 'cpu'\n",
    "window_size= 64\n",
    "scale= 4\n",
    "\n",
    "\n",
    "test_results = OrderedDict()\n",
    "test_results['psnr'] = []\n",
    "test_results['ssim'] = []\n",
    "test_results['psnr_y'] = []\n",
    "test_results['ssim_y'] = []\n",
    "test_results['psnr_b'] = []\n",
    "\n",
    "i=0\n",
    "for img_dir in ['/home/udith/udith_works/datasets/superres/standard_test_datasets/Set14/original/baboon.png',\n",
    "                '/home/udith/udith_works/datasets/superres/standard_test_datasets/urban100/img_008.png']:\n",
    "    i+=1\n",
    "    input_img = transform(Image.fromarray((255*plt.imread(img_dir)).astype('uint8')))[0]\n",
    "    H, W = input_img.shape\n",
    "    input_img_padded = pad_img(input_img, window_size, H, W)\n",
    "    H_new, W_new = input_img_padded.shape\n",
    "\n",
    "    X= whole2patch(input_img_padded, H_new, W_new, img_size)\n",
    "    X_hat, Ht, yt_down = get_preds_decoder(decoder, X.to(device))\n",
    "    X_hat, Ht, yt_down= X_hat.detach().cpu(), Ht.detach().cpu(), yt_down.detach().cpu()\n",
    "\n",
    "    recon_img_padded = patch2whole(X_hat, H_new, W_new, img_size)\n",
    "    recon_img= recon_img_padded[:H, :W]\n",
    "\n",
    "    plt.figure(figsize= (8, 8))\n",
    "    plt.imshow(input_img, cmap= 'gray', vmin=0, vmax=1)\n",
    "    plt.xticks([])\n",
    "    plt.yticks([])\n",
    "    plt.savefig(f'./{i}_SR_gt.png', dpi= 300)\n",
    "    plt.show()\n",
    "\n",
    "    plt.figure(figsize= (8, 8))\n",
    "    plt.imshow(recon_img, cmap= 'gray', vmin=0, vmax=1)\n",
    "    plt.xticks([])\n",
    "    plt.yticks([])\n",
    "    plt.savefig(f'./{i}_SR_SwinrIR.png', dpi= 300)\n",
    "    plt.show()"
   ]
  },
  {
   "cell_type": "code",
   "execution_count": 26,
   "metadata": {},
   "outputs": [
    {
     "data": {
      "image/png": "[encoded data removed]",
      "text/plain": [
       "<Figure size 432x288 with 1 Axes>"
      ]
     },
     "metadata": {},
     "output_type": "display_data"
    }
   ],
   "source": [
    "plt.imshow(decoder.netG.modelH(8)[0,0], cmap= 'gray')\n",
    "plt.xticks([])\n",
    "plt.yticks([])\n",
    "plt.savefig('Ht_SR_wLI.png', dpi= 300)"
   ]
  },
  {
   "cell_type": "code",
   "execution_count": null,
   "metadata": {},
   "outputs": [],
   "source": []
  }
 ],
 "metadata": {
  "interpreter": {
   "hash": "c245a2e360dbb42312e38a2d32c9e2363c0490331dbfe238722d1a7e87cebc70"
  },
  "kernelspec": {
   "display_name": "Python 3.6.13 ('deepTFM')",
   "language": "python",
   "name": "python3"
  },
  "language_info": {
   "codemirror_mode": {
    "name": "ipython",
    "version": 3
   },
   "file_extension": ".py",
   "mimetype": "text/x-python",
   "name": "python",
   "nbconvert_exporter": "python",
   "pygments_lexer": "ipython3",
   "version": "3.6.13"
  },
  "orig_nbformat": 4
 },
 "nbformat": 4,
 "nbformat_minor": 2
}
