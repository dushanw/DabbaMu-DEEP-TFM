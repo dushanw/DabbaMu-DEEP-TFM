{
 "cells": [
  {
   "cell_type": "code",
   "execution_count": 1,
   "metadata": {
    "executionInfo": {
     "elapsed": 3474,
     "status": "ok",
     "timestamp": 1621158243868,
     "user": {
      "displayName": "Udith Haputhanthri",
      "photoUrl": "https://lh3.googleusercontent.com/a-/AOh14GgdAtVVmDFOeesHiPyslaX9NW9ijHN3b6d888ZX6ks=s64",
      "userId": "03629779488105059696"
     },
     "user_tz": -330
    },
    "id": "z35s4kMVeDHf"
   },
   "outputs": [
    {
     "name": "stdout",
     "output_type": "stream",
     "text": [
      "range :  0.10000000149011612 1.100000023841858\n"
     ]
    }
   ],
   "source": [
    "%load_ext autoreload\n",
    "%autoreload 2\n",
    "\n",
    "import torch\n",
    "import torchvision\n",
    "import shutil \n",
    "\n",
    "batch_size= 32\n",
    "\n",
    "mean = -0.1\n",
    "std=1\n",
    "train_loader = torch.utils.data.DataLoader(\n",
    "    torchvision.datasets.MNIST('../datasets/mnist', train=True, download=True,\n",
    "                             transform=torchvision.transforms.Compose([\n",
    "                                torchvision.transforms.Resize([32, 32]),\n",
    "                                torchvision.transforms.ToTensor(),\n",
    "                                torchvision.transforms.Normalize(\n",
    "                                 (mean,), (std,))\n",
    "                             ])),\n",
    "  batch_size=batch_size, shuffle=True)\n",
    "\n",
    "test_loader = torch.utils.data.DataLoader(\n",
    "  torchvision.datasets.MNIST('../datasets/mnist', train=False, download=True,\n",
    "                             transform=torchvision.transforms.Compose([\n",
    "                                torchvision.transforms.Resize([32, 32]),\n",
    "                                torchvision.transforms.ToTensor(),\n",
    "                                torchvision.transforms.Normalize(\n",
    "                                 (mean,), (std,))\n",
    "                             ])),\n",
    "  batch_size=16, shuffle=False, drop_last= True)\n",
    "\n",
    "for x,y in train_loader:\n",
    "    break\n",
    "    \n",
    "vmin= x.min().item()\n",
    "vmax= x.max().item()\n",
    "print('range : ',vmin, vmax)"
   ]
  },
  {
   "cell_type": "code",
   "execution_count": 2,
   "metadata": {
    "colab": {
     "base_uri": "https://localhost:8080/"
    },
    "executionInfo": {
     "elapsed": 1791,
     "status": "ok",
     "timestamp": 1621158244859,
     "user": {
      "displayName": "Udith Haputhanthri",
      "photoUrl": "https://lh3.googleusercontent.com/a-/AOh14GgdAtVVmDFOeesHiPyslaX9NW9ijHN3b6d888ZX6ks=s64",
      "userId": "03629779488105059696"
     },
     "user_tz": -330
    },
    "id": "eaCKWnP9PbuG",
    "outputId": "d4f43747-3da7-45c8-e58a-e02d52173a5c"
   },
   "outputs": [
    {
     "data": {
      "text/plain": [
       "<All keys matched successfully>"
      ]
     },
     "execution_count": 2,
     "metadata": {},
     "output_type": "execute_result"
    }
   ],
   "source": [
    "import torch\n",
    "import shutil \n",
    "import numpy as np\n",
    "from torch import nn\n",
    "from modules.kernels import get_gaussian\n",
    "from modules.models.decoder import simple_generator\n",
    "from modules.models.forward_model import forward_modelA\n",
    "from modules.models.forward_H import modelH\n",
    "from modules.train_utils import train\n",
    "from modules.custom_activations import inc_m\n",
    "import matplotlib.pyplot as plt\n",
    "from modules.models.preprocess_H_weights import ifft_2d_with_fftshift_real\n",
    "from modules.noise import poisson_noise\n",
    "from modules.models.classifiers import simple_mnist_classifier\n",
    "\n",
    "device='cuda' if torch.cuda.is_available() else 'cpu'\n",
    "\n",
    "classifier = simple_mnist_classifier(32).to(device)\n",
    "classifier.load_state_dict(torch.load('saved_models/mnist_classifier.pth', map_location=device)['model_state_dict'])"
   ]
  },
  {
   "cell_type": "code",
   "execution_count": 3,
   "metadata": {
    "colab": {
     "base_uri": "https://localhost:8080/",
     "height": 1000
    },
    "executionInfo": {
     "elapsed": 601212,
     "status": "error",
     "timestamp": 1621158849605,
     "user": {
      "displayName": "Udith Haputhanthri",
      "photoUrl": "https://lh3.googleusercontent.com/a-/AOh14GgdAtVVmDFOeesHiPyslaX9NW9ijHN3b6d888ZX6ks=s64",
      "userId": "03629779488105059696"
     },
     "user_tz": -330
    },
    "id": "woYFunyY2BKQ",
    "outputId": "63c261cc-7d62-4826-df35-933b3feabdf5"
   },
   "outputs": [],
   "source": [
    "img_size= 32\n",
    "m_inc_epoc= 1\n",
    "\n",
    "def inc_1_after_100_interval_10(m, epoch):\n",
    "    if epoch>150 and epoch%10==0:\n",
    "        m=inc_m(m, epoch, 1)\n",
    "    return m\n",
    "\n",
    "sPSF= torch.tensor(get_gaussian(side_len=5, s=1)).float().to(device)\n",
    "exPSF= torch.tensor(get_gaussian(side_len=5, s=1)).float().to(device)\n",
    "\n",
    "criterion= nn.L1Loss().to(device)\n",
    "train_model_iter, train_H_iter= 1, 1\n",
    "epochs=200\n",
    "show_results_epoch=1\n",
    "initialization_bias= 10"
   ]
  },
  {
   "cell_type": "markdown",
   "metadata": {},
   "source": [
    "## Test run"
   ]
  },
  {
   "cell_type": "code",
   "execution_count": null,
   "metadata": {},
   "outputs": [],
   "source": [
    "'''\n",
    "from modules.custom_activations import sigmoid_custom as H_activation\n",
    "\n",
    "T=5\n",
    "H_init= 'fft'\n",
    "H_weight_preprocess= ifft_2d_with_fftshift_real\n",
    "m_inc_proc =inc_1_after_100_interval_10\n",
    "\n",
    "decoder= simple_generator(T, img_size).to(device)\n",
    "opt_model= torch.optim.Adam(decoder.parameters(), lr= 0.001)\n",
    "\n",
    "H_generator = modelH(T, img_size = img_size, preprocess_H_weights= H_weight_preprocess, device = device, initialization_bias=0, activation = H_activation, init_method= H_init).to(device)\n",
    "opt_H= torch.optim.Adam(H_generator.parameters(), lr= 0.01)\n",
    "\n",
    "noise=True # gradient exploding is not there (because I have added change the image range [1,2] -> which not contains 0s in it: forward_model.py)\n",
    "train_model_iter, train_H_iter= 1, 1\n",
    "\n",
    "train(decoder, forward_modelA, H_generator, sPSF, exPSF, criterion, [opt_model, opt_H], train_loader, test_loader, device, T, 10, 1, train_model_iter, train_H_iter, m_inc_epoc, m_inc_proc, './1', noise, classifier, [mean, std])\n",
    "\n",
    "'''"
   ]
  },
  {
   "cell_type": "markdown",
   "metadata": {},
   "source": [
    "## Experiments"
   ]
  },
  {
   "cell_type": "code",
   "execution_count": 9,
   "metadata": {},
   "outputs": [],
   "source": [
    "!rm -rf 'figs/mnistv3'\n",
    "!mkdir 'figs/mnistv3'"
   ]
  },
  {
   "cell_type": "code",
   "execution_count": null,
   "metadata": {
    "id": "3ocwDD7Senzb"
   },
   "outputs": [],
   "source": [
    "from modules.custom_activations import sigmoid_custom\n",
    "\n",
    "save_path= 'figs/mnistv3'\n",
    "\n",
    "H_init = 'fft'\n",
    "H_weight_preprocess= ifft_2d_with_fftshift_real\n",
    "m_inc_proc =  inc_1_after_100_interval_10\n",
    "initialization_bias= 0\n",
    "H_activation= sigmoid_custom\n",
    "noise_K=1000\n",
    "\n",
    "Ts=[5, 2, 16]\n",
    "noises= [True, False]\n",
    "lrs_H= [0.01, 0.5, 0.005]\n",
    "\n",
    "for T in Ts:\n",
    "    for noise in noises:\n",
    "        for lr_H in lrs_H:\n",
    "            try:\n",
    "                if H_weight_preprocess ==None:H_weight_preprocess_name = 'None'\n",
    "                else:H_weight_preprocess_name = H_weight_preprocess.__name__\n",
    "                if m_inc_proc==None:m_inc_proc_name = 'None'\n",
    "                else:m_inc_proc_name = m_inc_proc.__name__\n",
    "\n",
    "                save_dir= f'{save_path}/T({T})@noise({noise})@lr_H({lr_H})'\n",
    "                print(f'\\n\\nRUNNING EXPERIMENT :: {save_dir}')\n",
    "\n",
    "                try:shutil.rmtree(save_dir)\n",
    "                except:pass\n",
    "\n",
    "                decoder= simple_generator(T, img_size).to(device)\n",
    "                opt_model= torch.optim.Adam(decoder.parameters(), lr= 0.001)\n",
    "\n",
    "                H_generator = modelH(T, img_size = img_size, preprocess_H_weights= H_weight_preprocess, device = device, initialization_bias=initialization_bias, activation = H_activation, init_method= H_init).to(device)\n",
    "                opt_H= torch.optim.Adam(H_generator.parameters(), lr= lr_H)\n",
    "\n",
    "                train(decoder, forward_modelA, H_generator, sPSF, exPSF, criterion, [opt_model, opt_H], train_loader, test_loader, device, T, epochs, show_results_epoch, train_model_iter, train_H_iter, m_inc_epoc, m_inc_proc, save_dir, noise, classifier, [mean, std], noise_K)\n",
    "\n",
    "            except Exception as e:\n",
    "                print(f'ERROR :: {save_dir} :: {e}')\n",
    "                pass"
   ]
  },
  {
   "cell_type": "code",
   "execution_count": null,
   "metadata": {},
   "outputs": [],
   "source": []
  }
 ],
 "metadata": {
  "accelerator": "GPU",
  "colab": {
   "authorship_tag": "ABX9TyNlngsMumwO0ELYc0goA2jq",
   "collapsed_sections": [],
   "name": "preprocess_H_weights_2.ipynb",
   "provenance": []
  },
  "kernelspec": {
   "display_name": "deepTFM",
   "language": "python",
   "name": "deeptfm"
  },
  "language_info": {
   "codemirror_mode": {
    "name": "ipython",
    "version": 3
   },
   "file_extension": ".py",
   "mimetype": "text/x-python",
   "name": "python",
   "nbconvert_exporter": "python",
   "pygments_lexer": "ipython3",
   "version": "3.6.12"
  }
 },
 "nbformat": 4,
 "nbformat_minor": 4
}
