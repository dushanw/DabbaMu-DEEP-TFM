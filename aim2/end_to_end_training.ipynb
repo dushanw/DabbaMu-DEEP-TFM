{
 "cells": [
  {
   "cell_type": "code",
   "execution_count": 1,
   "metadata": {
    "executionInfo": {
     "elapsed": 3474,
     "status": "ok",
     "timestamp": 1621158243868,
     "user": {
      "displayName": "Udith Haputhanthri",
      "photoUrl": "https://lh3.googleusercontent.com/a-/AOh14GgdAtVVmDFOeesHiPyslaX9NW9ijHN3b6d888ZX6ks=s64",
      "userId": "03629779488105059696"
     },
     "user_tz": -330
    },
    "id": "z35s4kMVeDHf"
   },
   "outputs": [
    {
     "name": "stdout",
     "output_type": "stream",
     "text": [
      "range :  1.0 2.0\n"
     ]
    }
   ],
   "source": [
    "import torch\n",
    "import torchvision\n",
    "import shutil \n",
    "\n",
    "batch_size= 32\n",
    "\n",
    "mean = -1\n",
    "std=1\n",
    "train_loader = torch.utils.data.DataLoader(\n",
    "    torchvision.datasets.MNIST('../datasets/mnist', train=True, download=True,\n",
    "                             transform=torchvision.transforms.Compose([\n",
    "                                torchvision.transforms.Resize([32, 32]),\n",
    "                                torchvision.transforms.ToTensor(),\n",
    "                                torchvision.transforms.Normalize(\n",
    "                                 (mean,), (std,))\n",
    "                             ])),\n",
    "  batch_size=batch_size, shuffle=True)\n",
    "\n",
    "test_loader = torch.utils.data.DataLoader(\n",
    "  torchvision.datasets.MNIST('../datasets/mnist', train=False, download=True,\n",
    "                             transform=torchvision.transforms.Compose([\n",
    "                                torchvision.transforms.Resize([32, 32]),\n",
    "                                torchvision.transforms.ToTensor(),\n",
    "                                torchvision.transforms.Normalize(\n",
    "                                 (mean,), (std,))\n",
    "                             ])),\n",
    "  batch_size=16, shuffle=False, drop_last= True)\n",
    "\n",
    "for x,y in train_loader:\n",
    "    break\n",
    "    \n",
    "vmin= x.min().item()\n",
    "vmax= x.max().item()\n",
    "print('range : ',vmin, vmax)"
   ]
  },
  {
   "cell_type": "code",
   "execution_count": 2,
   "metadata": {
    "colab": {
     "base_uri": "https://localhost:8080/"
    },
    "executionInfo": {
     "elapsed": 1791,
     "status": "ok",
     "timestamp": 1621158244859,
     "user": {
      "displayName": "Udith Haputhanthri",
      "photoUrl": "https://lh3.googleusercontent.com/a-/AOh14GgdAtVVmDFOeesHiPyslaX9NW9ijHN3b6d888ZX6ks=s64",
      "userId": "03629779488105059696"
     },
     "user_tz": -330
    },
    "id": "eaCKWnP9PbuG",
    "outputId": "d4f43747-3da7-45c8-e58a-e02d52173a5c"
   },
   "outputs": [
    {
     "data": {
      "text/plain": [
       "<All keys matched successfully>"
      ]
     },
     "execution_count": 2,
     "metadata": {},
     "output_type": "execute_result"
    }
   ],
   "source": [
    "%load_ext autoreload\n",
    "%autoreload 2\n",
    "\n",
    "import torch\n",
    "import shutil \n",
    "import numpy as np\n",
    "from torch import nn\n",
    "from modules.kernels import get_gaussian\n",
    "from modules.models.decoder import simple_generator\n",
    "from modules.models.forward_model import forward_modelA\n",
    "from modules.models.forward_H import modelH\n",
    "from modules.train_utils import train\n",
    "from modules.custom_activations import inc_m\n",
    "import matplotlib.pyplot as plt\n",
    "from modules.models.preprocess_H_weights import ifft, fft\n",
    "from modules.noise import poisson_noise\n",
    "from modules.models.classifiers import simple_mnist_classifier\n",
    "\n",
    "device='cuda' if torch.cuda.is_available() else 'cpu'\n",
    "\n",
    "classifier = simple_mnist_classifier(32).to(device)\n",
    "classifier.load_state_dict(torch.load('saved_models/mnist_classifier.pth', map_location=device)['model_state_dict'])"
   ]
  },
  {
   "cell_type": "code",
   "execution_count": 3,
   "metadata": {
    "colab": {
     "base_uri": "https://localhost:8080/",
     "height": 1000
    },
    "executionInfo": {
     "elapsed": 601212,
     "status": "error",
     "timestamp": 1621158849605,
     "user": {
      "displayName": "Udith Haputhanthri",
      "photoUrl": "https://lh3.googleusercontent.com/a-/AOh14GgdAtVVmDFOeesHiPyslaX9NW9ijHN3b6d888ZX6ks=s64",
      "userId": "03629779488105059696"
     },
     "user_tz": -330
    },
    "id": "woYFunyY2BKQ",
    "outputId": "63c261cc-7d62-4826-df35-933b3feabdf5"
   },
   "outputs": [],
   "source": [
    "img_size= 32\n",
    "m_inc_epoc= 1\n",
    "\n",
    "def inc_1_after_100_interval_10(m, epoch):\n",
    "    if epoch>150 and epoch%10==0:\n",
    "        m=inc_m(m, epoch, 1)\n",
    "    return m\n",
    "\n",
    "sPSF= torch.tensor(get_gaussian(side_len=5, s=1)).float().to(device)\n",
    "exPSF= torch.tensor(get_gaussian(side_len=5, s=1)).float().to(device)\n",
    "\n",
    "criterion= nn.L1Loss().to(device)\n",
    "train_model_iter, train_H_iter= 1, 1\n",
    "epochs=200\n",
    "show_results_epoch=10\n",
    "initialization_bias= 10"
   ]
  },
  {
   "cell_type": "markdown",
   "metadata": {},
   "source": [
    "## Test run"
   ]
  },
  {
   "cell_type": "code",
   "execution_count": 4,
   "metadata": {},
   "outputs": [
    {
     "data": {
      "text/plain": [
       "\"\\nfrom modules.models.forward_H import modelH\\nfrom modules.train_utils_v2 import train\\nfrom modules.custom_activations import sigmoid_custom2 as H_activation\\n\\nT=5\\nH_complex_init =True\\nH_weight_preprocess= ifft #torch.abs #torch.abs #None\\nm_inc_proc =None #inc_m\\n\\ndecoder= simple_generator(T, img_size).to(device)\\nopt_model= torch.optim.Adam(decoder.parameters(), lr= 0.001)\\n\\nH_generator = modelH(T, 32, H_weight_preprocess, H_complex_init, device, initialization_bias=10, activation = H_activation).to(device)\\nopt_H= torch.optim.Adam(H_generator.parameters(), lr= 0.01)\\n\\nnoise=True # gradient exploding is not there (because I have added change the image range [1,2] -> which not contains 0s in it: forward_model.py)\\ntrain_model_iter, train_H_iter= 1, 1\\n\\ntrain(decoder, forward_modelA, H_generator, sPSF, exPSF, criterion, [opt_model, opt_H], train_loader, test_loader, device, T, 10, 1, train_model_iter, train_H_iter, m_inc_epoc, m_inc_proc, './1', noise, classifier, [mean, std])\\n\""
      ]
     },
     "execution_count": 4,
     "metadata": {},
     "output_type": "execute_result"
    }
   ],
   "source": [
    "'''\n",
    "from modules.models.forward_H import modelH\n",
    "from modules.train_utils_v2 import train\n",
    "from modules.custom_activations import sigmoid_custom2 as H_activation\n",
    "\n",
    "T=5\n",
    "H_complex_init =True\n",
    "H_weight_preprocess= ifft #torch.abs #torch.abs #None\n",
    "m_inc_proc =None #inc_m\n",
    "\n",
    "decoder= simple_generator(T, img_size).to(device)\n",
    "opt_model= torch.optim.Adam(decoder.parameters(), lr= 0.001)\n",
    "\n",
    "H_generator = modelH(T, 32, H_weight_preprocess, H_complex_init, device, initialization_bias=10, activation = H_activation).to(device)\n",
    "opt_H= torch.optim.Adam(H_generator.parameters(), lr= 0.01)\n",
    "\n",
    "noise=True # gradient exploding is not there (because I have added change the image range [1,2] -> which not contains 0s in it: forward_model.py)\n",
    "train_model_iter, train_H_iter= 1, 1\n",
    "\n",
    "train(decoder, forward_modelA, H_generator, sPSF, exPSF, criterion, [opt_model, opt_H], train_loader, test_loader, device, T, 10, 1, train_model_iter, train_H_iter, m_inc_epoc, m_inc_proc, './1', noise, classifier, [mean, std])\n",
    "'''"
   ]
  },
  {
   "cell_type": "markdown",
   "metadata": {},
   "source": [
    "## Experiments"
   ]
  },
  {
   "cell_type": "code",
   "execution_count": 5,
   "metadata": {},
   "outputs": [],
   "source": [
    "#!rm -rf figs/mnistv2\n",
    "#!mkdir figs/mnistv2"
   ]
  },
  {
   "cell_type": "code",
   "execution_count": null,
   "metadata": {
    "id": "3ocwDD7Senzb"
   },
   "outputs": [
    {
     "name": "stdout",
     "output_type": "stream",
     "text": [
      "\n",
      "\n",
      "RUNNING EXPERIMENT :: figs/mnistv2/H_complex_init(True)@m_inc_proc(inc_1_after_100_interval_10)@T(16)@initialization_bias(10)@noise(True)@H_weight_preprocess(fft)\n",
      "device : cuda\n",
      "m : 1\n",
      "yt range : [-3.242400646209717 5.651585578918457]\n",
      "yt range : [-2.9455857276916504 6.101291179656982]\n",
      "m : 1\n",
      "yt range : [-4.079528331756592 6.761990070343018]\n",
      "yt range : [-3.667996406555176 6.611575603485107]\n",
      "m : 1\n"
     ]
    }
   ],
   "source": [
    "from modules.custom_activations import sigmoid_custom2 as H_activation\n",
    "\n",
    "Ts=[5, 2, 16]\n",
    "H_complex_inits = [True]\n",
    "H_weight_preprocesses=  [torch.abs, fft, ifft]\n",
    "m_inc_procs =  [inc_1_after_100_interval_10]\n",
    "initialization_biases= [10, 0]\n",
    "\n",
    "for H_complex_init in H_complex_inits:\n",
    "    for m_inc_proc in m_inc_procs:\n",
    "        for T in Ts:\n",
    "            if not T==16:continue\n",
    "            for initialization_bias in initialization_biases:\n",
    "                for noise in [True, False]:\n",
    "                    for H_weight_preprocess in H_weight_preprocesses:\n",
    "                        if H_complex_init==True and m_inc_proc==inc_1_after_100_interval_10 and T==16 and initialization_bias==10 and noise==True and H_weight_preprocess==torch.abs:continue\n",
    "\n",
    "                        if H_weight_preprocess==None and H_complex_init==True:continue\n",
    "                        try:\n",
    "                            if H_weight_preprocess ==None:H_weight_preprocess_name = 'None'\n",
    "                            else:H_weight_preprocess_name = H_weight_preprocess.__name__\n",
    "                            if m_inc_proc==None:m_inc_proc_name = 'None'\n",
    "                            else:m_inc_proc_name = m_inc_proc.__name__\n",
    "\n",
    "                            save_dir= f'figs/mnistv2/H_complex_init({H_complex_init})@m_inc_proc({m_inc_proc_name})@T({T})@initialization_bias({initialization_bias})@noise({noise})@H_weight_preprocess({H_weight_preprocess_name})'\n",
    "                            print(f'\\n\\nRUNNING EXPERIMENT :: {save_dir}')\n",
    "\n",
    "                            try:shutil.rmtree(save_dir)\n",
    "                            except:pass\n",
    "\n",
    "                            decoder= simple_generator(T, img_size).to(device)\n",
    "                            opt_model= torch.optim.Adam(decoder.parameters(), lr= 0.001)\n",
    "\n",
    "                            H_generator = modelH(T, 32, H_weight_preprocess, H_complex_init, device, initialization_bias, activation = H_activation).to(device)\n",
    "                            opt_H= torch.optim.Adam(H_generator.parameters(), lr= 0.01)\n",
    "\n",
    "                            train(decoder, forward_modelA, H_generator, sPSF, exPSF, criterion, [opt_model, opt_H], train_loader, test_loader, device, T, epochs, show_results_epoch, train_model_iter, train_H_iter, m_inc_epoc, m_inc_proc, save_dir, noise, classifier, [mean, std])\n",
    "\n",
    "                        except Exception as e:\n",
    "                            print(f'ERROR :: {save_dir} :: {e}')\n",
    "                            pass"
   ]
  },
  {
   "cell_type": "code",
   "execution_count": null,
   "metadata": {},
   "outputs": [],
   "source": []
  }
 ],
 "metadata": {
  "accelerator": "GPU",
  "colab": {
   "authorship_tag": "ABX9TyNlngsMumwO0ELYc0goA2jq",
   "collapsed_sections": [],
   "name": "preprocess_H_weights_2.ipynb",
   "provenance": []
  },
  "kernelspec": {
   "display_name": "deepTFM",
   "language": "python",
   "name": "deeptfm"
  },
  "language_info": {
   "codemirror_mode": {
    "name": "ipython",
    "version": 3
   },
   "file_extension": ".py",
   "mimetype": "text/x-python",
   "name": "python",
   "nbconvert_exporter": "python",
   "pygments_lexer": "ipython3",
   "version": "3.6.12"
  }
 },
 "nbformat": 4,
 "nbformat_minor": 4
}
